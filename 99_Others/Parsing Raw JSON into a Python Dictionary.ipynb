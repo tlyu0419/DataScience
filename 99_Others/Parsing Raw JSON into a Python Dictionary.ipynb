{
 "cells": [
  {
   "cell_type": "markdown",
   "id": "c294ebbc-509a-4bc4-9716-01206da25bf1",
   "metadata": {},
   "source": [
    "# json"
   ]
  },
  {
   "cell_type": "code",
   "execution_count": 1,
   "id": "e0a96df7-1ea5-463f-aa2d-8d6d34cc0ae8",
   "metadata": {
    "execution": {
     "iopub.execute_input": "2022-04-23T05:07:54.974240Z",
     "iopub.status.busy": "2022-04-23T05:07:54.973898Z",
     "iopub.status.idle": "2022-04-23T05:07:54.980414Z",
     "shell.execute_reply": "2022-04-23T05:07:54.979678Z",
     "shell.execute_reply.started": "2022-04-23T05:07:54.974187Z"
    },
    "tags": []
   },
   "outputs": [],
   "source": [
    "import json\n",
    "import re"
   ]
  },
  {
   "cell_type": "code",
   "execution_count": 2,
   "id": "67040494-7774-4466-8592-225539d0b7c9",
   "metadata": {
    "execution": {
     "iopub.execute_input": "2022-04-23T05:07:55.133105Z",
     "iopub.status.busy": "2022-04-23T05:07:55.132760Z",
     "iopub.status.idle": "2022-04-23T05:07:55.140532Z",
     "shell.execute_reply": "2022-04-23T05:07:55.139707Z",
     "shell.execute_reply.started": "2022-04-23T05:07:55.133086Z"
    },
    "tags": []
   },
   "outputs": [
    {
     "data": {
      "text/plain": [
       "\"{'Name': 'Tony',  'Age': None}\""
      ]
     },
     "execution_count": 2,
     "metadata": {},
     "output_type": "execute_result"
    }
   ],
   "source": [
    "data = '''{'Name': 'Tony',  'Age': None}'''\n",
    "data"
   ]
  },
  {
   "cell_type": "markdown",
   "id": "0d4a2318-c2c6-42d5-a4a0-5acefb1eb8c5",
   "metadata": {},
   "source": [
    "## json.load\n",
    "- Read a **file** in to a python dictionary"
   ]
  },
  {
   "cell_type": "code",
   "execution_count": 3,
   "id": "22935699-bc04-49c8-9bc8-0011930981f3",
   "metadata": {
    "execution": {
     "iopub.execute_input": "2022-04-23T05:07:55.483528Z",
     "iopub.status.busy": "2022-04-23T05:07:55.483128Z",
     "iopub.status.idle": "2022-04-23T05:07:55.487401Z",
     "shell.execute_reply": "2022-04-23T05:07:55.486645Z",
     "shell.execute_reply.started": "2022-04-23T05:07:55.483507Z"
    },
    "tags": []
   },
   "outputs": [],
   "source": [
    "file = 'sample.json'\n",
    "with open(file, \"w\") as w:\n",
    "    w.write(json.dumps(data))"
   ]
  },
  {
   "cell_type": "code",
   "execution_count": 4,
   "id": "dbd7696f-d8c8-4dc2-b827-097c2a2cbc3a",
   "metadata": {
    "execution": {
     "iopub.execute_input": "2022-04-23T05:07:55.851757Z",
     "iopub.status.busy": "2022-04-23T05:07:55.851431Z",
     "iopub.status.idle": "2022-04-23T05:07:55.856820Z",
     "shell.execute_reply": "2022-04-23T05:07:55.855872Z",
     "shell.execute_reply.started": "2022-04-23T05:07:55.851739Z"
    },
    "tags": []
   },
   "outputs": [
    {
     "data": {
      "text/plain": [
       "\"{'Name': 'Tony',  'Age': None}\""
      ]
     },
     "execution_count": 4,
     "metadata": {},
     "output_type": "execute_result"
    }
   ],
   "source": [
    "f = open(file, mode='r')\n",
    "json.load(f)"
   ]
  },
  {
   "cell_type": "markdown",
   "id": "41eb1a9f-e944-4187-a0b4-0ba52a4975ce",
   "metadata": {},
   "source": [
    "## json.loads\n",
    "- Read a **string** in to a python dictionary"
   ]
  },
  {
   "cell_type": "code",
   "execution_count": 5,
   "id": "40310109-623c-4e84-bf24-99bf6872c95c",
   "metadata": {
    "execution": {
     "iopub.execute_input": "2022-04-23T05:07:56.244636Z",
     "iopub.status.busy": "2022-04-23T05:07:56.244395Z",
     "iopub.status.idle": "2022-04-23T05:07:56.249078Z",
     "shell.execute_reply": "2022-04-23T05:07:56.248245Z",
     "shell.execute_reply.started": "2022-04-23T05:07:56.244618Z"
    },
    "tags": []
   },
   "outputs": [
    {
     "data": {
      "text/plain": [
       "\"{'Name':'Tony','Age': None}\""
      ]
     },
     "execution_count": 5,
     "metadata": {},
     "output_type": "execute_result"
    }
   ],
   "source": [
    "data = \"{'Name':'Tony','Age': None}\"\n",
    "data"
   ]
  },
  {
   "cell_type": "code",
   "execution_count": 6,
   "id": "f8e62b78-13df-4de5-8e7b-4b018b556814",
   "metadata": {
    "execution": {
     "iopub.execute_input": "2022-04-23T05:07:57.200967Z",
     "iopub.status.busy": "2022-04-23T05:07:57.200741Z",
     "iopub.status.idle": "2022-04-23T05:07:57.206497Z",
     "shell.execute_reply": "2022-04-23T05:07:57.205693Z",
     "shell.execute_reply.started": "2022-04-23T05:07:57.200949Z"
    },
    "tags": []
   },
   "outputs": [
    {
     "data": {
      "text/plain": [
       "\"{'Name': 'Tony',  'Age': None}\""
      ]
     },
     "execution_count": 6,
     "metadata": {},
     "output_type": "execute_result"
    }
   ],
   "source": [
    "with open(file) as f:\n",
    "    for line in f:\n",
    "        data2 = json.loads(line.strip()) \n",
    "data2"
   ]
  },
  {
   "cell_type": "markdown",
   "id": "dbd5a435-f2f8-475f-909e-eb11924364e9",
   "metadata": {},
   "source": [
    "## json.dump\n",
    "- Write dictionary into **file**\n",
    "- You must pass file path in to json.dump dunction"
   ]
  },
  {
   "cell_type": "code",
   "execution_count": 7,
   "id": "af041aa0-5d09-49d1-879b-bf26e305df3c",
   "metadata": {
    "execution": {
     "iopub.execute_input": "2022-04-23T05:07:57.557651Z",
     "iopub.status.busy": "2022-04-23T05:07:57.557329Z",
     "iopub.status.idle": "2022-04-23T05:07:57.563062Z",
     "shell.execute_reply": "2022-04-23T05:07:57.562220Z",
     "shell.execute_reply.started": "2022-04-23T05:07:57.557628Z"
    },
    "tags": []
   },
   "outputs": [
    {
     "data": {
      "text/plain": [
       "{'Name': 'Tony', 'Age': None}"
      ]
     },
     "execution_count": 7,
     "metadata": {},
     "output_type": "execute_result"
    }
   ],
   "source": [
    "data = {'Name':'Tony','Age': None}\n",
    "data"
   ]
  },
  {
   "cell_type": "code",
   "execution_count": 8,
   "id": "da6cdfa0-d554-4274-8ace-9819a1829351",
   "metadata": {
    "execution": {
     "iopub.execute_input": "2022-04-23T05:07:57.744774Z",
     "iopub.status.busy": "2022-04-23T05:07:57.744464Z",
     "iopub.status.idle": "2022-04-23T05:07:58.076707Z",
     "shell.execute_reply": "2022-04-23T05:07:58.075915Z",
     "shell.execute_reply.started": "2022-04-23T05:07:57.744755Z"
    },
    "tags": []
   },
   "outputs": [
    {
     "ename": "TypeError",
     "evalue": "dump() missing 1 required positional argument: 'fp'",
     "output_type": "error",
     "traceback": [
      "\u001b[0;31m---------------------------------------------------------------------------\u001b[0m",
      "\u001b[0;31mTypeError\u001b[0m                                 Traceback (most recent call last)",
      "Input \u001b[0;32mIn [8]\u001b[0m, in \u001b[0;36m<module>\u001b[0;34m\u001b[0m\n\u001b[0;32m----> 1\u001b[0m \u001b[43mjson\u001b[49m\u001b[38;5;241;43m.\u001b[39;49m\u001b[43mdump\u001b[49m\u001b[43m(\u001b[49m\u001b[43mdata\u001b[49m\u001b[43m)\u001b[49m\n",
      "\u001b[0;31mTypeError\u001b[0m: dump() missing 1 required positional argument: 'fp'"
     ]
    }
   ],
   "source": [
    "json.dump(data)"
   ]
  },
  {
   "cell_type": "markdown",
   "id": "aafadb03-7854-4465-9867-c07b06d96a65",
   "metadata": {},
   "source": [
    "## json.dumps\n",
    "- Transform dictionary into a string"
   ]
  },
  {
   "cell_type": "code",
   "execution_count": 9,
   "id": "504d688b-a99b-4956-8e78-60c45bd4c992",
   "metadata": {
    "execution": {
     "iopub.execute_input": "2022-04-23T05:07:58.086865Z",
     "iopub.status.busy": "2022-04-23T05:07:58.086313Z",
     "iopub.status.idle": "2022-04-23T05:07:58.090979Z",
     "shell.execute_reply": "2022-04-23T05:07:58.090278Z",
     "shell.execute_reply.started": "2022-04-23T05:07:58.086841Z"
    },
    "tags": []
   },
   "outputs": [
    {
     "data": {
      "text/plain": [
       "'{\"Name\": \"Tony\", \"Age\": null}'"
      ]
     },
     "execution_count": 9,
     "metadata": {},
     "output_type": "execute_result"
    }
   ],
   "source": [
    "json.dumps(data)"
   ]
  },
  {
   "cell_type": "markdown",
   "id": "31117172-b721-440a-9038-b20e815cedba",
   "metadata": {},
   "source": [
    "## Case study\n",
    "- How to parse a raw json string?"
   ]
  },
  {
   "cell_type": "markdown",
   "id": "c65cebc3-ead1-49d0-ac94-368d110dead7",
   "metadata": {},
   "source": [
    "### Simple case"
   ]
  },
  {
   "cell_type": "code",
   "execution_count": 10,
   "id": "e20f3783-6352-49d5-8953-d221476f6fa7",
   "metadata": {
    "execution": {
     "iopub.execute_input": "2022-04-23T05:07:58.668128Z",
     "iopub.status.busy": "2022-04-23T05:07:58.667817Z",
     "iopub.status.idle": "2022-04-23T05:07:58.670966Z",
     "shell.execute_reply": "2022-04-23T05:07:58.670215Z",
     "shell.execute_reply.started": "2022-04-23T05:07:58.668109Z"
    },
    "tags": []
   },
   "outputs": [],
   "source": [
    "data = '''\n",
    "av: 0\n",
    "__user: 0\n",
    "__a: 1\n",
    "'''"
   ]
  },
  {
   "cell_type": "code",
   "execution_count": 11,
   "id": "99977c0d-625f-404e-ae9c-fd7472cfb13e",
   "metadata": {
    "execution": {
     "iopub.execute_input": "2022-04-23T05:07:58.907601Z",
     "iopub.status.busy": "2022-04-23T05:07:58.907308Z",
     "iopub.status.idle": "2022-04-23T05:07:58.912222Z",
     "shell.execute_reply": "2022-04-23T05:07:58.911590Z",
     "shell.execute_reply.started": "2022-04-23T05:07:58.907583Z"
    },
    "tags": []
   },
   "outputs": [
    {
     "data": {
      "text/plain": [
       "{'av': '0', '__user': '0', '__a': '1'}"
      ]
     },
     "execution_count": 11,
     "metadata": {},
     "output_type": "execute_result"
    }
   ],
   "source": [
    "dic = {}\n",
    "for line in data.split('\\n'):\n",
    "    if line != '':\n",
    "        key, value = line.split(': ', 1)\n",
    "        dic[key] = value\n",
    "dic"
   ]
  },
  {
   "cell_type": "markdown",
   "id": "5c9dbda5-0fd6-4ab3-8b36-728f29c7d73b",
   "metadata": {},
   "source": [
    "### Complex case"
   ]
  },
  {
   "cell_type": "code",
   "execution_count": 15,
   "id": "1037130f-456f-47da-a8a1-8925e2a54d9c",
   "metadata": {
    "execution": {
     "iopub.execute_input": "2022-04-23T05:21:43.460592Z",
     "iopub.status.busy": "2022-04-23T05:21:43.460201Z",
     "iopub.status.idle": "2022-04-23T05:21:43.463576Z",
     "shell.execute_reply": "2022-04-23T05:21:43.462972Z",
     "shell.execute_reply.started": "2022-04-23T05:21:43.460575Z"
    },
    "tags": []
   },
   "outputs": [],
   "source": [
    "data = '''\n",
    "av: 0\n",
    "__user: 0\n",
    "__a: 1\n",
    "__dyn: 7xeUmwlEnwn8K2WnFw9-2i5U4e0yoW3q322aew9G2S0zU2lwUx609vCwjE1xoswaq0yE5ufz83WwgEcHzo5-0Boy1PwBgao6C0Mo5W3S1lwlE-UqwsUkxe2Gew9O222SUbEaU2eUtw-waCm7-8w4ywJwSyES0QEcU2ZwhF8-4U\n",
    "__csr: gpOYaZkBcTTsV58qBlemcGqVuimoFpoGpeVlKKVeiiyKAEZbyWx6aJd6KjVQ8yUZ7VpEGm54nxadyeFV8CELAGp7zU9EyqcCyoiBx2iHy9VU8el7xeF9WzKieUkyoGaxuK2-0aoG0WU0zR08S3O2C-cxS0C888c80Ce0CE4-0yU4y0b8y8owi-12yoS7Ujw7MG2G0iB5Dw7tw2qU2Wg0GO0a7wh80AO0qm04cCl06awmU05mi0oq07eU1KEK4Q2e2G0Oo3uwFw6SG0gS0-E4C0ne0iu8ig-IECGGU4O0c8AouwmE2Swf60gWm0jW09twf6U4K1lxe0BpElwhEhw6Zxb8WzE5meg1yo7fg5G5Q0yEnCDmkk0ke2i1pz9bwho8o3fwnU1gE2Axi6A0lbw-x23-li04lq-4o1gEuw-waS1SxO0XQ7E3gxe13xq0Qoao2s8U1fU1jE0Jd0DBQ1Jyk7kFk2i7Hwfi0iucyUW8nKq4oyFk4U1lo1Eo8u0b9qxi0wo3R9xS0YEjVA1FG19zU2Uxq0OE0Am5EdAWqWjCyUuAwi48w8d0pEC78Ra0REpCPG444Z0UwCV80JW5E8k2y1yw_whmEow5wBG2GiOwaO0Io7G49F834wiUbW81cDmU\n",
    "__req: 7\n",
    "__hs: 19105.HYP:comet_loggedout_pkg.2.0.0.0.\n",
    "dpr: 1.5\n",
    "__ccg: EXCELLENT\n",
    "__rev: 1005400022\n",
    "__s: fyaset:1sqjug:ecx3t4\n",
    "__hsi: 7089624086462373850-0\n",
    "__comet_req: 1\n",
    "lsd: AVr8ECjnkZc\n",
    "jazoest: 2969\n",
    "__spin_r: 1005400022\n",
    "__spin_b: trunk\n",
    "__spin_t: 1650681739\n",
    "fb_api_caller_class: RelayModern\n",
    "fb_api_req_friendly_name: ProfileCometTimelineFeedRefetchQuery\n",
    "variables: {\"UFI2CommentsProvider_commentsKey\":\"ProfileCometTimelineRoute\",\"afterTime\":null,\"beforeTime\":null,\"count\":3,\"cursor\":\"AQHRs0kT6VBqY_lTg_Vjq-R6Qb_dwuCDGbMWBqzxPqEfeESfpneu4T7rXWx3eoiC5NKZ35iWGvjOSZaeB4YEfYSsg5rDZoDG9nGAVQ-RW6vgDX96SIAbDNoW02ZHUNGRd-nlzBEMFJ8Rcbpx-vYyzzyD7uJK2GLDAxBB1v4tJLvX_Bf_CdQTZNAn4xSJ2XTrOjC1\",\"displayCommentsContextEnableComment\":null,\"displayCommentsContextIsAdPreview\":null,\"displayCommentsContextIsAggregatedShare\":null,\"displayCommentsContextIsStorySet\":null,\"displayCommentsFeedbackContext\":null,\"feedLocation\":\"TIMELINE\",\"feedbackSource\":0,\"focusCommentID\":null,\"memorializedSplitTimeFilter\":null,\"omitPinnedPost\":true,\"postedBy\":null,\"privacy\":null,\"privacySelectorRenderLocation\":\"COMET_STREAM\",\"renderLocation\":\"timeline\",\"scale\":1.5,\"should_show_profile_pinned_post\":true,\"stream_count\":1,\"taggedInOnly\":null,\"useDefaultActor\":false,\"id\":\"100046936094218\"}\n",
    "server_timestamps: true\n",
    "doc_id: 7757615274309387\n",
    "'''"
   ]
  },
  {
   "cell_type": "code",
   "execution_count": 16,
   "id": "3164add4-92ab-46da-abc9-8e36d49a5238",
   "metadata": {
    "execution": {
     "iopub.execute_input": "2022-04-23T05:21:43.821562Z",
     "iopub.status.busy": "2022-04-23T05:21:43.821122Z",
     "iopub.status.idle": "2022-04-23T05:21:43.891895Z",
     "shell.execute_reply": "2022-04-23T05:21:43.891132Z",
     "shell.execute_reply.started": "2022-04-23T05:21:43.821536Z"
    }
   },
   "outputs": [
    {
     "ename": "JSONDecodeError",
     "evalue": "Expecting value: line 2 column 1 (char 1)",
     "output_type": "error",
     "traceback": [
      "\u001b[0;31m---------------------------------------------------------------------------\u001b[0m",
      "\u001b[0;31mJSONDecodeError\u001b[0m                           Traceback (most recent call last)",
      "Input \u001b[0;32mIn [16]\u001b[0m, in \u001b[0;36m<module>\u001b[0;34m\u001b[0m\n\u001b[0;32m----> 1\u001b[0m \u001b[43mjson\u001b[49m\u001b[38;5;241;43m.\u001b[39;49m\u001b[43mloads\u001b[49m\u001b[43m(\u001b[49m\u001b[43mdata\u001b[49m\u001b[43m)\u001b[49m\n",
      "File \u001b[0;32m/usr/lib/python3.8/json/__init__.py:357\u001b[0m, in \u001b[0;36mloads\u001b[0;34m(s, cls, object_hook, parse_float, parse_int, parse_constant, object_pairs_hook, **kw)\u001b[0m\n\u001b[1;32m    352\u001b[0m     \u001b[38;5;28;01mdel\u001b[39;00m kw[\u001b[38;5;124m'\u001b[39m\u001b[38;5;124mencoding\u001b[39m\u001b[38;5;124m'\u001b[39m]\n\u001b[1;32m    354\u001b[0m \u001b[38;5;28;01mif\u001b[39;00m (\u001b[38;5;28mcls\u001b[39m \u001b[38;5;129;01mis\u001b[39;00m \u001b[38;5;28;01mNone\u001b[39;00m \u001b[38;5;129;01mand\u001b[39;00m object_hook \u001b[38;5;129;01mis\u001b[39;00m \u001b[38;5;28;01mNone\u001b[39;00m \u001b[38;5;129;01mand\u001b[39;00m\n\u001b[1;32m    355\u001b[0m         parse_int \u001b[38;5;129;01mis\u001b[39;00m \u001b[38;5;28;01mNone\u001b[39;00m \u001b[38;5;129;01mand\u001b[39;00m parse_float \u001b[38;5;129;01mis\u001b[39;00m \u001b[38;5;28;01mNone\u001b[39;00m \u001b[38;5;129;01mand\u001b[39;00m\n\u001b[1;32m    356\u001b[0m         parse_constant \u001b[38;5;129;01mis\u001b[39;00m \u001b[38;5;28;01mNone\u001b[39;00m \u001b[38;5;129;01mand\u001b[39;00m object_pairs_hook \u001b[38;5;129;01mis\u001b[39;00m \u001b[38;5;28;01mNone\u001b[39;00m \u001b[38;5;129;01mand\u001b[39;00m \u001b[38;5;129;01mnot\u001b[39;00m kw):\n\u001b[0;32m--> 357\u001b[0m     \u001b[38;5;28;01mreturn\u001b[39;00m \u001b[43m_default_decoder\u001b[49m\u001b[38;5;241;43m.\u001b[39;49m\u001b[43mdecode\u001b[49m\u001b[43m(\u001b[49m\u001b[43ms\u001b[49m\u001b[43m)\u001b[49m\n\u001b[1;32m    358\u001b[0m \u001b[38;5;28;01mif\u001b[39;00m \u001b[38;5;28mcls\u001b[39m \u001b[38;5;129;01mis\u001b[39;00m \u001b[38;5;28;01mNone\u001b[39;00m:\n\u001b[1;32m    359\u001b[0m     \u001b[38;5;28mcls\u001b[39m \u001b[38;5;241m=\u001b[39m JSONDecoder\n",
      "File \u001b[0;32m/usr/lib/python3.8/json/decoder.py:337\u001b[0m, in \u001b[0;36mJSONDecoder.decode\u001b[0;34m(self, s, _w)\u001b[0m\n\u001b[1;32m    332\u001b[0m \u001b[38;5;28;01mdef\u001b[39;00m \u001b[38;5;21mdecode\u001b[39m(\u001b[38;5;28mself\u001b[39m, s, _w\u001b[38;5;241m=\u001b[39mWHITESPACE\u001b[38;5;241m.\u001b[39mmatch):\n\u001b[1;32m    333\u001b[0m     \u001b[38;5;124;03m\"\"\"Return the Python representation of ``s`` (a ``str`` instance\u001b[39;00m\n\u001b[1;32m    334\u001b[0m \u001b[38;5;124;03m    containing a JSON document).\u001b[39;00m\n\u001b[1;32m    335\u001b[0m \n\u001b[1;32m    336\u001b[0m \u001b[38;5;124;03m    \"\"\"\u001b[39;00m\n\u001b[0;32m--> 337\u001b[0m     obj, end \u001b[38;5;241m=\u001b[39m \u001b[38;5;28;43mself\u001b[39;49m\u001b[38;5;241;43m.\u001b[39;49m\u001b[43mraw_decode\u001b[49m\u001b[43m(\u001b[49m\u001b[43ms\u001b[49m\u001b[43m,\u001b[49m\u001b[43m \u001b[49m\u001b[43midx\u001b[49m\u001b[38;5;241;43m=\u001b[39;49m\u001b[43m_w\u001b[49m\u001b[43m(\u001b[49m\u001b[43ms\u001b[49m\u001b[43m,\u001b[49m\u001b[43m \u001b[49m\u001b[38;5;241;43m0\u001b[39;49m\u001b[43m)\u001b[49m\u001b[38;5;241;43m.\u001b[39;49m\u001b[43mend\u001b[49m\u001b[43m(\u001b[49m\u001b[43m)\u001b[49m\u001b[43m)\u001b[49m\n\u001b[1;32m    338\u001b[0m     end \u001b[38;5;241m=\u001b[39m _w(s, end)\u001b[38;5;241m.\u001b[39mend()\n\u001b[1;32m    339\u001b[0m     \u001b[38;5;28;01mif\u001b[39;00m end \u001b[38;5;241m!=\u001b[39m \u001b[38;5;28mlen\u001b[39m(s):\n",
      "File \u001b[0;32m/usr/lib/python3.8/json/decoder.py:355\u001b[0m, in \u001b[0;36mJSONDecoder.raw_decode\u001b[0;34m(self, s, idx)\u001b[0m\n\u001b[1;32m    353\u001b[0m     obj, end \u001b[38;5;241m=\u001b[39m \u001b[38;5;28mself\u001b[39m\u001b[38;5;241m.\u001b[39mscan_once(s, idx)\n\u001b[1;32m    354\u001b[0m \u001b[38;5;28;01mexcept\u001b[39;00m \u001b[38;5;167;01mStopIteration\u001b[39;00m \u001b[38;5;28;01mas\u001b[39;00m err:\n\u001b[0;32m--> 355\u001b[0m     \u001b[38;5;28;01mraise\u001b[39;00m JSONDecodeError(\u001b[38;5;124m\"\u001b[39m\u001b[38;5;124mExpecting value\u001b[39m\u001b[38;5;124m\"\u001b[39m, s, err\u001b[38;5;241m.\u001b[39mvalue) \u001b[38;5;28;01mfrom\u001b[39;00m \u001b[38;5;28mNone\u001b[39m\n\u001b[1;32m    356\u001b[0m \u001b[38;5;28;01mreturn\u001b[39;00m obj, end\n",
      "\u001b[0;31mJSONDecodeError\u001b[0m: Expecting value: line 2 column 1 (char 1)"
     ]
    }
   ],
   "source": [
    "json.loads(data)"
   ]
  },
  {
   "cell_type": "code",
   "execution_count": 17,
   "id": "1708153f-90b1-44fc-9d74-f6cdfaf4fc0e",
   "metadata": {
    "execution": {
     "iopub.execute_input": "2022-04-23T05:21:48.452736Z",
     "iopub.status.busy": "2022-04-23T05:21:48.452329Z",
     "iopub.status.idle": "2022-04-23T05:21:48.457620Z",
     "shell.execute_reply": "2022-04-23T05:21:48.456976Z",
     "shell.execute_reply.started": "2022-04-23T05:21:48.452717Z"
    },
    "tags": []
   },
   "outputs": [
    {
     "data": {
      "text/plain": [
       "{'av': '0',\n",
       " '__user': '0',\n",
       " '__a': '1',\n",
       " '__dyn': '7xeUmwlEnwn8K2WnFw9-2i5U4e0yoW3q322aew9G2S0zU2lwUx609vCwjE1xoswaq0yE5ufz83WwgEcHzo5-0Boy1PwBgao6C0Mo5W3S1lwlE-UqwsUkxe2Gew9O222SUbEaU2eUtw-waCm7-8w4ywJwSyES0QEcU2ZwhF8-4U',\n",
       " '__csr': 'gpOYaZkBcTTsV58qBlemcGqVuimoFpoGpeVlKKVeiiyKAEZbyWx6aJd6KjVQ8yUZ7VpEGm54nxadyeFV8CELAGp7zU9EyqcCyoiBx2iHy9VU8el7xeF9WzKieUkyoGaxuK2-0aoG0WU0zR08S3O2C-cxS0C888c80Ce0CE4-0yU4y0b8y8owi-12yoS7Ujw7MG2G0iB5Dw7tw2qU2Wg0GO0a7wh80AO0qm04cCl06awmU05mi0oq07eU1KEK4Q2e2G0Oo3uwFw6SG0gS0-E4C0ne0iu8ig-IECGGU4O0c8AouwmE2Swf60gWm0jW09twf6U4K1lxe0BpElwhEhw6Zxb8WzE5meg1yo7fg5G5Q0yEnCDmkk0ke2i1pz9bwho8o3fwnU1gE2Axi6A0lbw-x23-li04lq-4o1gEuw-waS1SxO0XQ7E3gxe13xq0Qoao2s8U1fU1jE0Jd0DBQ1Jyk7kFk2i7Hwfi0iucyUW8nKq4oyFk4U1lo1Eo8u0b9qxi0wo3R9xS0YEjVA1FG19zU2Uxq0OE0Am5EdAWqWjCyUuAwi48w8d0pEC78Ra0REpCPG444Z0UwCV80JW5E8k2y1yw_whmEow5wBG2GiOwaO0Io7G49F834wiUbW81cDmU',\n",
       " '__req': '7',\n",
       " '__hs': '19105.HYP:comet_loggedout_pkg.2.0.0.0.',\n",
       " 'dpr': '1.5',\n",
       " '__ccg': 'EXCELLENT',\n",
       " '__rev': '1005400022',\n",
       " '__s': 'fyaset:1sqjug:ecx3t4',\n",
       " '__hsi': '7089624086462373850-0',\n",
       " '__comet_req': '1',\n",
       " 'lsd': 'AVr8ECjnkZc',\n",
       " 'jazoest': '2969',\n",
       " '__spin_r': '1005400022',\n",
       " '__spin_b': 'trunk',\n",
       " '__spin_t': '1650681739',\n",
       " 'fb_api_caller_class': 'RelayModern',\n",
       " 'fb_api_req_friendly_name': 'ProfileCometTimelineFeedRefetchQuery',\n",
       " 'variables': '{\"UFI2CommentsProvider_commentsKey\":\"ProfileCometTimelineRoute\",\"afterTime\":null,\"beforeTime\":null,\"count\":3,\"cursor\":\"AQHRs0kT6VBqY_lTg_Vjq-R6Qb_dwuCDGbMWBqzxPqEfeESfpneu4T7rXWx3eoiC5NKZ35iWGvjOSZaeB4YEfYSsg5rDZoDG9nGAVQ-RW6vgDX96SIAbDNoW02ZHUNGRd-nlzBEMFJ8Rcbpx-vYyzzyD7uJK2GLDAxBB1v4tJLvX_Bf_CdQTZNAn4xSJ2XTrOjC1\",\"displayCommentsContextEnableComment\":null,\"displayCommentsContextIsAdPreview\":null,\"displayCommentsContextIsAggregatedShare\":null,\"displayCommentsContextIsStorySet\":null,\"displayCommentsFeedbackContext\":null,\"feedLocation\":\"TIMELINE\",\"feedbackSource\":0,\"focusCommentID\":null,\"memorializedSplitTimeFilter\":null,\"omitPinnedPost\":true,\"postedBy\":null,\"privacy\":null,\"privacySelectorRenderLocation\":\"COMET_STREAM\",\"renderLocation\":\"timeline\",\"scale\":1.5,\"should_show_profile_pinned_post\":true,\"stream_count\":1,\"taggedInOnly\":null,\"useDefaultActor\":false,\"id\":\"100046936094218\"}',\n",
       " 'server_timestamps': 'true',\n",
       " 'doc_id': '7757615274309387'}"
      ]
     },
     "execution_count": 17,
     "metadata": {},
     "output_type": "execute_result"
    }
   ],
   "source": [
    "dic = {}\n",
    "for line in data.split('\\n'):\n",
    "    if line != '':\n",
    "        key, value = line.split(': ', 1)\n",
    "        dic[key] = value\n",
    "dic"
   ]
  },
  {
   "cell_type": "code",
   "execution_count": null,
   "id": "09d04c86-0806-4d8a-a287-03cc0206cadf",
   "metadata": {},
   "outputs": [],
   "source": []
  }
 ],
 "metadata": {
  "kernelspec": {
   "display_name": "Python 3 (ipykernel)",
   "language": "python",
   "name": "python3"
  },
  "language_info": {
   "codemirror_mode": {
    "name": "ipython",
    "version": 3
   },
   "file_extension": ".py",
   "mimetype": "text/x-python",
   "name": "python",
   "nbconvert_exporter": "python",
   "pygments_lexer": "ipython3",
   "version": "3.8.10"
  }
 },
 "nbformat": 4,
 "nbformat_minor": 5
}
