{
 "cells": [
  {
   "cell_type": "markdown",
   "id": "4b34dd84-1f8c-4d1f-8f89-df9d6efe675c",
   "metadata": {},
   "source": [
    "# Pyspark Tutorial"
   ]
  },
  {
   "cell_type": "markdown",
   "id": "5a3d34d8-faee-42dc-8869-c4446d26b762",
   "metadata": {},
   "source": [
    "## install packages"
   ]
  },
  {
   "cell_type": "code",
   "execution_count": 11,
   "id": "6c2ef9cf-cc71-452f-853a-e4fecb1b8952",
   "metadata": {},
   "outputs": [],
   "source": [
    "# !pip install scikit-learn\n",
    "# !pip install pyspark\n",
    "# !pip install wheel\n",
    "# !pip install pandas"
   ]
  },
  {
   "cell_type": "markdown",
   "id": "cceba2d5-7821-42c7-a511-7002fdd21f10",
   "metadata": {},
   "source": [
    "## Load data"
   ]
  },
  {
   "cell_type": "code",
   "execution_count": 86,
   "id": "b6f127cb-6fba-4470-8e6b-36a2def7e3ad",
   "metadata": {},
   "outputs": [],
   "source": [
    "import pyspark\n",
    "from pyspark.sql import SparkSession\n",
    "from pyspark.ml.feature import Imputer\n",
    "from pyspark.ml.feature import VectorAssembler, StringIndexer\n",
    "from pyspark.ml.classification import LogisticRegression"
   ]
  },
  {
   "cell_type": "code",
   "execution_count": 3,
   "id": "e1545eb4-6a0a-4e2f-96dd-017215d39b0e",
   "metadata": {},
   "outputs": [],
   "source": [
    "spark = SparkSession.builder.appName('Practise').getOrCreate()"
   ]
  },
  {
   "cell_type": "code",
   "execution_count": 9,
   "id": "bfc1b112-63bf-47c4-b201-3df2f17333c0",
   "metadata": {},
   "outputs": [
    {
     "name": "stdout",
     "output_type": "stream",
     "text": [
      "+-----------+--------+------+--------------------+------+---+-----+-----+----------------+-------+-----+--------+\n",
      "|        _c0|     _c1|   _c2|                 _c3|   _c4|_c5|  _c6|  _c7|             _c8|    _c9| _c10|    _c11|\n",
      "+-----------+--------+------+--------------------+------+---+-----+-----+----------------+-------+-----+--------+\n",
      "|PassengerId|Survived|Pclass|                Name|   Sex|Age|SibSp|Parch|          Ticket|   Fare|Cabin|Embarked|\n",
      "|          1|       0|     3|Braund, Mr. Owen ...|  male| 22|    1|    0|       A/5 21171|   7.25| null|       S|\n",
      "|          2|       1|     1|Cumings, Mrs. Joh...|female| 38|    1|    0|        PC 17599|71.2833|  C85|       C|\n",
      "|          3|       1|     3|Heikkinen, Miss. ...|female| 26|    0|    0|STON/O2. 3101282|  7.925| null|       S|\n",
      "|          4|       1|     1|Futrelle, Mrs. Ja...|female| 35|    1|    0|          113803|   53.1| C123|       S|\n",
      "+-----------+--------+------+--------------------+------+---+-----+-----+----------------+-------+-----+--------+\n",
      "only showing top 5 rows\n",
      "\n"
     ]
    }
   ],
   "source": [
    "df_pyspark = spark.read.csv('data/titanic_train.csv')\n",
    "df_pyspark.show(5)"
   ]
  },
  {
   "cell_type": "code",
   "execution_count": 10,
   "id": "bbe6135a-bc78-4a9c-997c-3cf7a1b8cbac",
   "metadata": {},
   "outputs": [
    {
     "name": "stdout",
     "output_type": "stream",
     "text": [
      "+-----------+--------+------+--------------------+------+----+-----+-----+----------------+-------+-----+--------+\n",
      "|PassengerId|Survived|Pclass|                Name|   Sex| Age|SibSp|Parch|          Ticket|   Fare|Cabin|Embarked|\n",
      "+-----------+--------+------+--------------------+------+----+-----+-----+----------------+-------+-----+--------+\n",
      "|          1|       0|     3|Braund, Mr. Owen ...|  male|22.0|    1|    0|       A/5 21171|   7.25| null|       S|\n",
      "|          2|       1|     1|Cumings, Mrs. Joh...|female|38.0|    1|    0|        PC 17599|71.2833|  C85|       C|\n",
      "|          3|       1|     3|Heikkinen, Miss. ...|female|26.0|    0|    0|STON/O2. 3101282|  7.925| null|       S|\n",
      "|          4|       1|     1|Futrelle, Mrs. Ja...|female|35.0|    1|    0|          113803|   53.1| C123|       S|\n",
      "|          5|       0|     3|Allen, Mr. Willia...|  male|35.0|    0|    0|          373450|   8.05| null|       S|\n",
      "+-----------+--------+------+--------------------+------+----+-----+-----+----------------+-------+-----+--------+\n",
      "only showing top 5 rows\n",
      "\n"
     ]
    }
   ],
   "source": [
    "df_pyspark = spark.read.csv('data/titanic_train.csv',header=True, inferSchema=True)\n",
    "df_pyspark.show(5)"
   ]
  },
  {
   "cell_type": "code",
   "execution_count": 11,
   "id": "d8f851e0-8329-4810-876a-2ab704fad0de",
   "metadata": {},
   "outputs": [
    {
     "name": "stdout",
     "output_type": "stream",
     "text": [
      "root\n",
      " |-- PassengerId: integer (nullable = true)\n",
      " |-- Survived: integer (nullable = true)\n",
      " |-- Pclass: integer (nullable = true)\n",
      " |-- Name: string (nullable = true)\n",
      " |-- Sex: string (nullable = true)\n",
      " |-- Age: double (nullable = true)\n",
      " |-- SibSp: integer (nullable = true)\n",
      " |-- Parch: integer (nullable = true)\n",
      " |-- Ticket: string (nullable = true)\n",
      " |-- Fare: double (nullable = true)\n",
      " |-- Cabin: string (nullable = true)\n",
      " |-- Embarked: string (nullable = true)\n",
      "\n"
     ]
    }
   ],
   "source": [
    "df_pyspark.printSchema()"
   ]
  },
  {
   "cell_type": "code",
   "execution_count": 12,
   "id": "3340afe5-8ab6-4683-addf-43900b8d8fb6",
   "metadata": {},
   "outputs": [
    {
     "data": {
      "text/plain": [
       "['PassengerId',\n",
       " 'Survived',\n",
       " 'Pclass',\n",
       " 'Name',\n",
       " 'Sex',\n",
       " 'Age',\n",
       " 'SibSp',\n",
       " 'Parch',\n",
       " 'Ticket',\n",
       " 'Fare',\n",
       " 'Cabin',\n",
       " 'Embarked']"
      ]
     },
     "execution_count": 12,
     "metadata": {},
     "output_type": "execute_result"
    }
   ],
   "source": [
    "df_pyspark.columns"
   ]
  },
  {
   "cell_type": "code",
   "execution_count": 19,
   "id": "ef1e220b-8c1f-4a59-9ea1-a884f406fd12",
   "metadata": {},
   "outputs": [
    {
     "data": {
      "text/plain": [
       "[('PassengerId', 'int'),\n",
       " ('Survived', 'int'),\n",
       " ('Pclass', 'int'),\n",
       " ('Name', 'string'),\n",
       " ('Sex', 'string'),\n",
       " ('Age', 'double'),\n",
       " ('SibSp', 'int'),\n",
       " ('Parch', 'int'),\n",
       " ('Ticket', 'string'),\n",
       " ('Fare', 'double'),\n",
       " ('Cabin', 'string'),\n",
       " ('Embarked', 'string')]"
      ]
     },
     "execution_count": 19,
     "metadata": {},
     "output_type": "execute_result"
    }
   ],
   "source": [
    "df_pyspark.dtypes"
   ]
  },
  {
   "cell_type": "markdown",
   "id": "a80722e4-b9bd-413e-af18-50f2d9489785",
   "metadata": {},
   "source": [
    "## Preprocess"
   ]
  },
  {
   "cell_type": "markdown",
   "id": "d01c41b5-4829-43ce-ab86-cb25d0627225",
   "metadata": {},
   "source": [
    "### Select column"
   ]
  },
  {
   "cell_type": "code",
   "execution_count": 27,
   "id": "751ace81-ce8f-45f8-b276-8141878647de",
   "metadata": {},
   "outputs": [
    {
     "name": "stdout",
     "output_type": "stream",
     "text": [
      "+--------------------+\n",
      "|                Name|\n",
      "+--------------------+\n",
      "|Braund, Mr. Owen ...|\n",
      "|Cumings, Mrs. Joh...|\n",
      "|Heikkinen, Miss. ...|\n",
      "+--------------------+\n",
      "only showing top 3 rows\n",
      "\n"
     ]
    }
   ],
   "source": [
    "df_pyspark.select('Name').show(3)"
   ]
  },
  {
   "cell_type": "code",
   "execution_count": 26,
   "id": "d304ad57-bbba-42ba-b2e5-151bd06713fb",
   "metadata": {},
   "outputs": [
    {
     "name": "stdout",
     "output_type": "stream",
     "text": [
      "+--------------------+------+----+\n",
      "|                Name|   Sex| age|\n",
      "+--------------------+------+----+\n",
      "|Braund, Mr. Owen ...|  male|22.0|\n",
      "|Cumings, Mrs. Joh...|female|38.0|\n",
      "|Heikkinen, Miss. ...|female|26.0|\n",
      "+--------------------+------+----+\n",
      "only showing top 3 rows\n",
      "\n"
     ]
    }
   ],
   "source": [
    "df_pyspark.select(['Name', 'Sex', 'age']).show(3)"
   ]
  },
  {
   "cell_type": "markdown",
   "id": "bb4aae8e-0d22-476f-ab48-f93c139835f0",
   "metadata": {},
   "source": [
    "### Add column"
   ]
  },
  {
   "cell_type": "code",
   "execution_count": 25,
   "id": "0cc4af48-2d94-45ab-9982-a45c93d83fad",
   "metadata": {},
   "outputs": [
    {
     "name": "stdout",
     "output_type": "stream",
     "text": [
      "+--------------------+------+----+----------+\n",
      "|                Name|   Sex| age|Age_plus_2|\n",
      "+--------------------+------+----+----------+\n",
      "|Braund, Mr. Owen ...|  male|22.0|      24.0|\n",
      "|Cumings, Mrs. Joh...|female|38.0|      40.0|\n",
      "|Heikkinen, Miss. ...|female|26.0|      28.0|\n",
      "+--------------------+------+----+----------+\n",
      "only showing top 3 rows\n",
      "\n"
     ]
    }
   ],
   "source": [
    "df_pyspark.select(['Name', 'Sex', 'age']).withColumn('Age_plus_2', df_pyspark['age']+2).show(3)"
   ]
  },
  {
   "cell_type": "markdown",
   "id": "ca555161-3d89-4be6-aa1f-8e9f3d051c09",
   "metadata": {},
   "source": [
    "### Drop column"
   ]
  },
  {
   "cell_type": "code",
   "execution_count": 24,
   "id": "5c85ac76-3f44-47fa-93b3-5d6db79c2995",
   "metadata": {},
   "outputs": [
    {
     "name": "stdout",
     "output_type": "stream",
     "text": [
      "+--------------------+------+\n",
      "|                Name|   Sex|\n",
      "+--------------------+------+\n",
      "|Braund, Mr. Owen ...|  male|\n",
      "|Cumings, Mrs. Joh...|female|\n",
      "|Heikkinen, Miss. ...|female|\n",
      "+--------------------+------+\n",
      "only showing top 3 rows\n",
      "\n"
     ]
    }
   ],
   "source": [
    "df_pyspark.select(['Name', 'Sex', 'age']).drop('age').show(3)"
   ]
  },
  {
   "cell_type": "markdown",
   "id": "a7d9a0a2-25f4-49ae-9839-63e4c72a4e71",
   "metadata": {},
   "source": [
    "### Rename Column"
   ]
  },
  {
   "cell_type": "code",
   "execution_count": 23,
   "id": "ca95006c-b596-4a94-85ff-4fca21eb6b84",
   "metadata": {},
   "outputs": [
    {
     "name": "stdout",
     "output_type": "stream",
     "text": [
      "+--------------------+------+----+\n",
      "|             NewName|   Sex| age|\n",
      "+--------------------+------+----+\n",
      "|Braund, Mr. Owen ...|  male|22.0|\n",
      "|Cumings, Mrs. Joh...|female|38.0|\n",
      "|Heikkinen, Miss. ...|female|26.0|\n",
      "+--------------------+------+----+\n",
      "only showing top 3 rows\n",
      "\n"
     ]
    }
   ],
   "source": [
    "df_pyspark.select(['Name', 'Sex', 'age']).withColumnRenamed('Name', 'NewName').show(3)"
   ]
  },
  {
   "cell_type": "markdown",
   "id": "10267241-7f6c-4e21-8abb-60ba9b4cf93d",
   "metadata": {},
   "source": [
    "### Drop na"
   ]
  },
  {
   "cell_type": "code",
   "execution_count": 33,
   "id": "f19c69cd-cba9-47a2-ab8b-f9f8a77ad64a",
   "metadata": {},
   "outputs": [
    {
     "name": "stdout",
     "output_type": "stream",
     "text": [
      "+-------+-----------------+-------------------+------------------+--------------------+------+------------------+------------------+-------------------+------------------+-----------------+-----+--------+\n",
      "|summary|      PassengerId|           Survived|            Pclass|                Name|   Sex|               Age|             SibSp|              Parch|            Ticket|             Fare|Cabin|Embarked|\n",
      "+-------+-----------------+-------------------+------------------+--------------------+------+------------------+------------------+-------------------+------------------+-----------------+-----+--------+\n",
      "|  count|              891|                891|               891|                 891|   891|               714|               891|                891|               891|              891|  204|     889|\n",
      "|   mean|            446.0| 0.3838383838383838| 2.308641975308642|                null|  null| 29.69911764705882|0.5230078563411896|0.38159371492704824|260318.54916792738| 32.2042079685746| null|    null|\n",
      "| stddev|257.3538420152301|0.48659245426485753|0.8360712409770491|                null|  null|14.526497332334035|1.1027434322934315| 0.8060572211299488|471609.26868834975|49.69342859718089| null|    null|\n",
      "|    min|                1|                  0|                 1|\"Andersson, Mr. A...|female|              0.42|                 0|                  0|            110152|              0.0|  A10|       C|\n",
      "|    max|              891|                  1|                 3|van Melkebeke, Mr...|  male|              80.0|                 8|                  6|         WE/P 5735|         512.3292|    T|       S|\n",
      "+-------+-----------------+-------------------+------------------+--------------------+------+------------------+------------------+-------------------+------------------+-----------------+-----+--------+\n",
      "\n"
     ]
    }
   ],
   "source": [
    "df_pyspark.describe().show()"
   ]
  },
  {
   "cell_type": "code",
   "execution_count": 36,
   "id": "cdf445a7-57f9-4323-a27d-651ca61c596f",
   "metadata": {},
   "outputs": [
    {
     "name": "stdout",
     "output_type": "stream",
     "text": [
      "+-------+------------------+-------------------+------------------+--------------------+------+------------------+------------------+-------------------+-----------------+-----------------+-----+--------+\n",
      "|summary|       PassengerId|           Survived|            Pclass|                Name|   Sex|               Age|             SibSp|              Parch|           Ticket|             Fare|Cabin|Embarked|\n",
      "+-------+------------------+-------------------+------------------+--------------------+------+------------------+------------------+-------------------+-----------------+-----------------+-----+--------+\n",
      "|  count|               183|                183|               183|                 183|   183|               183|               183|                183|              183|              183|  183|     183|\n",
      "|   mean| 455.3661202185792| 0.6721311475409836|1.1912568306010929|                null|  null|  35.6744262295082|0.4644808743169399|0.47540983606557374|82214.70992366412|78.68246885245901| null|    null|\n",
      "| stddev|247.05247551692423|0.47072465092826093|0.5151869975715835|                null|  null|15.643865966849717|0.6441585604537324| 0.7546170860086108|89126.48191017324|76.34784270040569| null|    null|\n",
      "|    min|                 2|                  0|                 1|\"Brown, Miss. Ame...|female|              0.92|                 0|                  0|           110152|              0.0|  A10|       C|\n",
      "|    max|               890|                  1|                 3|Young, Miss. Mari...|  male|              80.0|                 3|                  4|        WE/P 5735|         512.3292|    T|       S|\n",
      "+-------+------------------+-------------------+------------------+--------------------+------+------------------+------------------+-------------------+-----------------+-----------------+-----+--------+\n",
      "\n"
     ]
    }
   ],
   "source": [
    "df_pyspark.na.drop(how='any').describe().show()"
   ]
  },
  {
   "cell_type": "markdown",
   "id": "a5edbcdf-c171-4413-a338-80f6d62a4173",
   "metadata": {},
   "source": [
    "## Feature engineer"
   ]
  },
  {
   "cell_type": "markdown",
   "id": "4408f1a5-f6a4-4f5e-9227-1ff2dbbe1142",
   "metadata": {},
   "source": [
    "### Fill na with specific value"
   ]
  },
  {
   "cell_type": "code",
   "execution_count": 45,
   "id": "96081a96-3ef9-423b-b7a1-b6222757c0ef",
   "metadata": {},
   "outputs": [
    {
     "name": "stdout",
     "output_type": "stream",
     "text": [
      "+-----------+--------+------+--------------------+------+----+-----+-----+----------------+-------+--------------+--------+\n",
      "|PassengerId|Survived|Pclass|                Name|   Sex| Age|SibSp|Parch|          Ticket|   Fare|         Cabin|Embarked|\n",
      "+-----------+--------+------+--------------------+------+----+-----+-----+----------------+-------+--------------+--------+\n",
      "|          1|       0|     3|Braund, Mr. Owen ...|  male|22.0|    1|    0|       A/5 21171|   7.25|Missing Values|       S|\n",
      "|          2|       1|     1|Cumings, Mrs. Joh...|female|38.0|    1|    0|        PC 17599|71.2833|           C85|       C|\n",
      "|          3|       1|     3|Heikkinen, Miss. ...|female|26.0|    0|    0|STON/O2. 3101282|  7.925|Missing Values|       S|\n",
      "|          4|       1|     1|Futrelle, Mrs. Ja...|female|35.0|    1|    0|          113803|   53.1|          C123|       S|\n",
      "|          5|       0|     3|Allen, Mr. Willia...|  male|35.0|    0|    0|          373450|   8.05|Missing Values|       S|\n",
      "|          6|       0|     3|    Moran, Mr. James|  male|null|    0|    0|          330877| 8.4583|Missing Values|       Q|\n",
      "|          7|       0|     1|McCarthy, Mr. Tim...|  male|54.0|    0|    0|           17463|51.8625|           E46|       S|\n",
      "|          8|       0|     3|Palsson, Master. ...|  male| 2.0|    3|    1|          349909| 21.075|Missing Values|       S|\n",
      "|          9|       1|     3|Johnson, Mrs. Osc...|female|27.0|    0|    2|          347742|11.1333|Missing Values|       S|\n",
      "|         10|       1|     2|Nasser, Mrs. Nich...|female|14.0|    1|    0|          237736|30.0708|Missing Values|       C|\n",
      "+-----------+--------+------+--------------------+------+----+-----+-----+----------------+-------+--------------+--------+\n",
      "only showing top 10 rows\n",
      "\n"
     ]
    }
   ],
   "source": [
    "df_pyspark.na.fill('Missing Values').show(10)"
   ]
  },
  {
   "cell_type": "markdown",
   "id": "1a5a0e88-d3fc-4d0f-97c5-2e01966c9feb",
   "metadata": {},
   "source": [
    "### Fill na with statistic value"
   ]
  },
  {
   "cell_type": "code",
   "execution_count": 46,
   "id": "f2e9721f-913e-4ac7-88a0-e8232ed3758c",
   "metadata": {},
   "outputs": [
    {
     "name": "stdout",
     "output_type": "stream",
     "text": [
      "+-----------+--------+------+--------------------+------+----+-----+-----+----------------+-------+-----+--------+-----------------+------------+\n",
      "|PassengerId|Survived|Pclass|                Name|   Sex| Age|SibSp|Parch|          Ticket|   Fare|Cabin|Embarked|      Age_imputed|Fare_imputed|\n",
      "+-----------+--------+------+--------------------+------+----+-----+-----+----------------+-------+-----+--------+-----------------+------------+\n",
      "|          1|       0|     3|Braund, Mr. Owen ...|  male|22.0|    1|    0|       A/5 21171|   7.25| null|       S|             22.0|        7.25|\n",
      "|          2|       1|     1|Cumings, Mrs. Joh...|female|38.0|    1|    0|        PC 17599|71.2833|  C85|       C|             38.0|     71.2833|\n",
      "|          3|       1|     3|Heikkinen, Miss. ...|female|26.0|    0|    0|STON/O2. 3101282|  7.925| null|       S|             26.0|       7.925|\n",
      "|          4|       1|     1|Futrelle, Mrs. Ja...|female|35.0|    1|    0|          113803|   53.1| C123|       S|             35.0|        53.1|\n",
      "|          5|       0|     3|Allen, Mr. Willia...|  male|35.0|    0|    0|          373450|   8.05| null|       S|             35.0|        8.05|\n",
      "|          6|       0|     3|    Moran, Mr. James|  male|null|    0|    0|          330877| 8.4583| null|       Q|29.69911764705882|      8.4583|\n",
      "|          7|       0|     1|McCarthy, Mr. Tim...|  male|54.0|    0|    0|           17463|51.8625|  E46|       S|             54.0|     51.8625|\n",
      "|          8|       0|     3|Palsson, Master. ...|  male| 2.0|    3|    1|          349909| 21.075| null|       S|              2.0|      21.075|\n",
      "|          9|       1|     3|Johnson, Mrs. Osc...|female|27.0|    0|    2|          347742|11.1333| null|       S|             27.0|     11.1333|\n",
      "|         10|       1|     2|Nasser, Mrs. Nich...|female|14.0|    1|    0|          237736|30.0708| null|       C|             14.0|     30.0708|\n",
      "+-----------+--------+------+--------------------+------+----+-----+-----+----------------+-------+-----+--------+-----------------+------------+\n",
      "only showing top 10 rows\n",
      "\n"
     ]
    }
   ],
   "source": [
    "imputer = Imputer(inputCols=['Age', 'Fare'],\n",
    "                 outputCols=['Age_imputed', 'Fare_imputed']).setStrategy('mean')\n",
    "imputer.fit(df_pyspark).transform(df_pyspark).show(10)"
   ]
  },
  {
   "cell_type": "markdown",
   "id": "74cce972-b0fd-471d-818e-f3dda3059ce5",
   "metadata": {},
   "source": [
    "### Filter operation - single rule"
   ]
  },
  {
   "cell_type": "code",
   "execution_count": 49,
   "id": "39e79b0a-1371-45be-b35d-181b9b84f4a3",
   "metadata": {},
   "outputs": [
    {
     "name": "stdout",
     "output_type": "stream",
     "text": [
      "+-----------+--------+------+--------------------+------+----+-----+-----+----------------+-------+-----+--------+\n",
      "|PassengerId|Survived|Pclass|                Name|   Sex| Age|SibSp|Parch|          Ticket|   Fare|Cabin|Embarked|\n",
      "+-----------+--------+------+--------------------+------+----+-----+-----+----------------+-------+-----+--------+\n",
      "|          1|       0|     3|Braund, Mr. Owen ...|  male|22.0|    1|    0|       A/5 21171|   7.25| null|       S|\n",
      "|          2|       1|     1|Cumings, Mrs. Joh...|female|38.0|    1|    0|        PC 17599|71.2833|  C85|       C|\n",
      "|          3|       1|     3|Heikkinen, Miss. ...|female|26.0|    0|    0|STON/O2. 3101282|  7.925| null|       S|\n",
      "|          4|       1|     1|Futrelle, Mrs. Ja...|female|35.0|    1|    0|          113803|   53.1| C123|       S|\n",
      "|          5|       0|     3|Allen, Mr. Willia...|  male|35.0|    0|    0|          373450|   8.05| null|       S|\n",
      "|          6|       0|     3|    Moran, Mr. James|  male|null|    0|    0|          330877| 8.4583| null|       Q|\n",
      "|          7|       0|     1|McCarthy, Mr. Tim...|  male|54.0|    0|    0|           17463|51.8625|  E46|       S|\n",
      "|          8|       0|     3|Palsson, Master. ...|  male| 2.0|    3|    1|          349909| 21.075| null|       S|\n",
      "|          9|       1|     3|Johnson, Mrs. Osc...|female|27.0|    0|    2|          347742|11.1333| null|       S|\n",
      "|         10|       1|     2|Nasser, Mrs. Nich...|female|14.0|    1|    0|          237736|30.0708| null|       C|\n",
      "+-----------+--------+------+--------------------+------+----+-----+-----+----------------+-------+-----+--------+\n",
      "only showing top 10 rows\n",
      "\n"
     ]
    }
   ],
   "source": [
    "df_pyspark.show(10)"
   ]
  },
  {
   "cell_type": "code",
   "execution_count": 50,
   "id": "f2fd8848-2a30-458c-b07f-d163248fe270",
   "metadata": {},
   "outputs": [
    {
     "name": "stdout",
     "output_type": "stream",
     "text": [
      "+-----------+--------+------+--------------------+------+----+-----+-----+--------+-------+-----+--------+\n",
      "|PassengerId|Survived|Pclass|                Name|   Sex| Age|SibSp|Parch|  Ticket|   Fare|Cabin|Embarked|\n",
      "+-----------+--------+------+--------------------+------+----+-----+-----+--------+-------+-----+--------+\n",
      "|          2|       1|     1|Cumings, Mrs. Joh...|female|38.0|    1|    0|PC 17599|71.2833|  C85|       C|\n",
      "|          4|       1|     1|Futrelle, Mrs. Ja...|female|35.0|    1|    0|  113803|   53.1| C123|       S|\n",
      "|          5|       0|     3|Allen, Mr. Willia...|  male|35.0|    0|    0|  373450|   8.05| null|       S|\n",
      "|          7|       0|     1|McCarthy, Mr. Tim...|  male|54.0|    0|    0|   17463|51.8625|  E46|       S|\n",
      "|         12|       1|     1|Bonnell, Miss. El...|female|58.0|    0|    0|  113783|  26.55| C103|       S|\n",
      "|         14|       0|     3|Andersson, Mr. An...|  male|39.0|    1|    5|  347082| 31.275| null|       S|\n",
      "|         16|       1|     2|Hewlett, Mrs. (Ma...|female|55.0|    0|    0|  248706|   16.0| null|       S|\n",
      "|         19|       0|     3|Vander Planke, Mr...|female|31.0|    1|    0|  345763|   18.0| null|       S|\n",
      "|         21|       0|     2|Fynney, Mr. Joseph J|  male|35.0|    0|    0|  239865|   26.0| null|       S|\n",
      "|         22|       1|     2|Beesley, Mr. Lawr...|  male|34.0|    0|    0|  248698|   13.0|  D56|       S|\n",
      "+-----------+--------+------+--------------------+------+----+-----+-----+--------+-------+-----+--------+\n",
      "only showing top 10 rows\n",
      "\n"
     ]
    }
   ],
   "source": [
    "df_pyspark.filter(df_pyspark['Age']>=30).show(10)"
   ]
  },
  {
   "cell_type": "markdown",
   "id": "49d604e1-2e14-4fe5-ab86-69ad92cee943",
   "metadata": {},
   "source": [
    "### Filter operation - and"
   ]
  },
  {
   "cell_type": "code",
   "execution_count": 54,
   "id": "16c27054-a931-431f-9165-edcd447abd62",
   "metadata": {},
   "outputs": [
    {
     "name": "stdout",
     "output_type": "stream",
     "text": [
      "+-----------+--------+------+--------------------+------+----+-----+-----+--------+-------+-----+--------+\n",
      "|PassengerId|Survived|Pclass|                Name|   Sex| Age|SibSp|Parch|  Ticket|   Fare|Cabin|Embarked|\n",
      "+-----------+--------+------+--------------------+------+----+-----+-----+--------+-------+-----+--------+\n",
      "|          2|       1|     1|Cumings, Mrs. Joh...|female|38.0|    1|    0|PC 17599|71.2833|  C85|       C|\n",
      "|          4|       1|     1|Futrelle, Mrs. Ja...|female|35.0|    1|    0|  113803|   53.1| C123|       S|\n",
      "|          7|       0|     1|McCarthy, Mr. Tim...|  male|54.0|    0|    0|   17463|51.8625|  E46|       S|\n",
      "|         12|       1|     1|Bonnell, Miss. El...|female|58.0|    0|    0|  113783|  26.55| C103|       S|\n",
      "|         31|       0|     1|Uruchurtu, Don. M...|  male|40.0|    0|    0|PC 17601|27.7208| null|       C|\n",
      "|         36|       0|     1|Holverson, Mr. Al...|  male|42.0|    1|    0|  113789|   52.0| null|       S|\n",
      "|         53|       1|     1|Harper, Mrs. Henr...|female|49.0|    1|    0|PC 17572|76.7292|  D33|       C|\n",
      "|         55|       0|     1|Ostby, Mr. Engelh...|  male|65.0|    0|    1|  113509|61.9792|  B30|       C|\n",
      "|         62|       1|     1| Icard, Miss. Amelie|female|38.0|    0|    0|  113572|   80.0|  B28|    null|\n",
      "|         63|       0|     1|Harris, Mr. Henry...|  male|45.0|    1|    0|   36973| 83.475|  C83|       S|\n",
      "+-----------+--------+------+--------------------+------+----+-----+-----+--------+-------+-----+--------+\n",
      "only showing top 10 rows\n",
      "\n"
     ]
    }
   ],
   "source": [
    "df_pyspark.filter((df_pyspark['Age']>=30)&(df_pyspark['Pclass']=='1')).show(10)"
   ]
  },
  {
   "cell_type": "markdown",
   "id": "5c7c4a60-8769-4ceb-a4cd-eb2bd1c8ebcd",
   "metadata": {},
   "source": [
    "### Filter operation - or"
   ]
  },
  {
   "cell_type": "code",
   "execution_count": 57,
   "id": "30ea8bb2-2b0f-48d8-be86-99677cf440c2",
   "metadata": {},
   "outputs": [
    {
     "name": "stdout",
     "output_type": "stream",
     "text": [
      "+-----------+--------+------+--------------------+------+----+-----+-----+-------------+-------+-----+--------+\n",
      "|PassengerId|Survived|Pclass|                Name|   Sex| Age|SibSp|Parch|       Ticket|   Fare|Cabin|Embarked|\n",
      "+-----------+--------+------+--------------------+------+----+-----+-----+-------------+-------+-----+--------+\n",
      "|          7|       0|     1|McCarthy, Mr. Tim...|  male|54.0|    0|    0|        17463|51.8625|  E46|       S|\n",
      "|          8|       0|     3|Palsson, Master. ...|  male| 2.0|    3|    1|       349909| 21.075| null|       S|\n",
      "|         11|       1|     3|Sandstrom, Miss. ...|female| 4.0|    1|    1|      PP 9549|   16.7|   G6|       S|\n",
      "|         12|       1|     1|Bonnell, Miss. El...|female|58.0|    0|    0|       113783|  26.55| C103|       S|\n",
      "|         16|       1|     2|Hewlett, Mrs. (Ma...|female|55.0|    0|    0|       248706|   16.0| null|       S|\n",
      "|         17|       0|     3|Rice, Master. Eugene|  male| 2.0|    4|    1|       382652| 29.125| null|       Q|\n",
      "|         25|       0|     3|Palsson, Miss. To...|female| 8.0|    3|    1|       349909| 21.075| null|       S|\n",
      "|         34|       0|     2|Wheadon, Mr. Edwa...|  male|66.0|    0|    0|   C.A. 24579|   10.5| null|       S|\n",
      "|         44|       1|     2|Laroche, Miss. Si...|female| 3.0|    1|    2|SC/Paris 2123|41.5792| null|       C|\n",
      "|         51|       0|     3|Panula, Master. J...|  male| 7.0|    4|    1|      3101295|39.6875| null|       S|\n",
      "+-----------+--------+------+--------------------+------+----+-----+-----+-------------+-------+-----+--------+\n",
      "only showing top 10 rows\n",
      "\n"
     ]
    }
   ],
   "source": [
    "df_pyspark.filter((df_pyspark['Age']<=10) | (df_pyspark['Age']>=50)).show(10)"
   ]
  },
  {
   "cell_type": "markdown",
   "id": "a63b67bf-0a94-4a5e-a932-f0131f168660",
   "metadata": {},
   "source": [
    "### Filter operation - not"
   ]
  },
  {
   "cell_type": "code",
   "execution_count": 58,
   "id": "78d3ad1e-1fc3-4cb3-acbe-c889ab7d984a",
   "metadata": {},
   "outputs": [
    {
     "name": "stdout",
     "output_type": "stream",
     "text": [
      "+-----------+--------+------+--------------------+------+----+-----+-----+----------------+-------+-----+--------+\n",
      "|PassengerId|Survived|Pclass|                Name|   Sex| Age|SibSp|Parch|          Ticket|   Fare|Cabin|Embarked|\n",
      "+-----------+--------+------+--------------------+------+----+-----+-----+----------------+-------+-----+--------+\n",
      "|          1|       0|     3|Braund, Mr. Owen ...|  male|22.0|    1|    0|       A/5 21171|   7.25| null|       S|\n",
      "|          3|       1|     3|Heikkinen, Miss. ...|female|26.0|    0|    0|STON/O2. 3101282|  7.925| null|       S|\n",
      "|          8|       0|     3|Palsson, Master. ...|  male| 2.0|    3|    1|          349909| 21.075| null|       S|\n",
      "|          9|       1|     3|Johnson, Mrs. Osc...|female|27.0|    0|    2|          347742|11.1333| null|       S|\n",
      "|         10|       1|     2|Nasser, Mrs. Nich...|female|14.0|    1|    0|          237736|30.0708| null|       C|\n",
      "|         11|       1|     3|Sandstrom, Miss. ...|female| 4.0|    1|    1|         PP 9549|   16.7|   G6|       S|\n",
      "|         13|       0|     3|Saundercock, Mr. ...|  male|20.0|    0|    0|       A/5. 2151|   8.05| null|       S|\n",
      "|         15|       0|     3|Vestrom, Miss. Hu...|female|14.0|    0|    0|          350406| 7.8542| null|       S|\n",
      "|         17|       0|     3|Rice, Master. Eugene|  male| 2.0|    4|    1|          382652| 29.125| null|       Q|\n",
      "|         23|       1|     3|\"McGowan, Miss. A...|female|15.0|    0|    0|          330923| 8.0292| null|       Q|\n",
      "+-----------+--------+------+--------------------+------+----+-----+-----+----------------+-------+-----+--------+\n",
      "only showing top 10 rows\n",
      "\n"
     ]
    }
   ],
   "source": [
    "df_pyspark.filter(~(df_pyspark['Age']>=30)).show(10)"
   ]
  },
  {
   "cell_type": "markdown",
   "id": "97d2441e-ab49-4794-a1fa-83d6193ad1b0",
   "metadata": {},
   "source": [
    "### groupby - sum"
   ]
  },
  {
   "cell_type": "code",
   "execution_count": 60,
   "id": "11842b5b-9fe1-4346-8695-1fd97b2040a7",
   "metadata": {},
   "outputs": [
    {
     "name": "stdout",
     "output_type": "stream",
     "text": [
      "+------+----------------+-------------+-----------+--------+----------+----------+------------------+\n",
      "|Pclass|sum(PassengerId)|sum(Survived)|sum(Pclass)|sum(Age)|sum(SibSp)|sum(Parch)|         sum(Fare)|\n",
      "+------+----------------+-------------+-----------+--------+----------+----------+------------------+\n",
      "|     1|           99705|          136|        216| 7111.42|        90|        77|18177.412499999984|\n",
      "|     3|          215625|          119|       1473| 8924.92|       302|       193| 6714.695100000002|\n",
      "|     2|           82056|           87|        368| 5168.83|        74|        70|3801.8416999999995|\n",
      "+------+----------------+-------------+-----------+--------+----------+----------+------------------+\n",
      "\n"
     ]
    }
   ],
   "source": [
    "df_pyspark.groupBy('Pclass').sum().show()"
   ]
  },
  {
   "cell_type": "markdown",
   "id": "244275a2-b1ab-4d9e-8b52-4c9e10fd6a05",
   "metadata": {},
   "source": [
    "### groupBy - mean"
   ]
  },
  {
   "cell_type": "code",
   "execution_count": 61,
   "id": "5e4f5567-d386-40fd-883a-b21eaa2fb3e9",
   "metadata": {},
   "outputs": [
    {
     "name": "stdout",
     "output_type": "stream",
     "text": [
      "+------+------------------+-------------------+-----------+------------------+-------------------+-------------------+------------------+\n",
      "|Pclass|  avg(PassengerId)|      avg(Survived)|avg(Pclass)|          avg(Age)|         avg(SibSp)|         avg(Parch)|         avg(Fare)|\n",
      "+------+------------------+-------------------+-----------+------------------+-------------------+-------------------+------------------+\n",
      "|     1|461.59722222222223| 0.6296296296296297|        1.0|38.233440860215055| 0.4166666666666667|0.35648148148148145| 84.15468749999992|\n",
      "|     3| 439.1547861507128|0.24236252545824846|        3.0| 25.14061971830986|  0.615071283095723|0.39307535641547864|13.675550101832997|\n",
      "|     2|445.95652173913044|0.47282608695652173|        2.0| 29.87763005780347|0.40217391304347827| 0.3804347826086957| 20.66218315217391|\n",
      "+------+------------------+-------------------+-----------+------------------+-------------------+-------------------+------------------+\n",
      "\n"
     ]
    }
   ],
   "source": [
    "df_pyspark.groupBy('Pclass').mean().show()"
   ]
  },
  {
   "cell_type": "markdown",
   "id": "2238d2dc-c42b-40e7-8ceb-89ae0317d1ea",
   "metadata": {},
   "source": [
    "### groupBy - count"
   ]
  },
  {
   "cell_type": "code",
   "execution_count": 62,
   "id": "1ecae370-0a69-4b47-ae1b-ea9828bc4360",
   "metadata": {},
   "outputs": [
    {
     "name": "stdout",
     "output_type": "stream",
     "text": [
      "+------+-----+\n",
      "|Pclass|count|\n",
      "+------+-----+\n",
      "|     1|  216|\n",
      "|     3|  491|\n",
      "|     2|  184|\n",
      "+------+-----+\n",
      "\n"
     ]
    }
   ],
   "source": [
    "df_pyspark.groupBy('Pclass').count().show()"
   ]
  },
  {
   "cell_type": "markdown",
   "id": "1218be03-7390-4578-87b7-1883e2773c58",
   "metadata": {},
   "source": [
    "### agg"
   ]
  },
  {
   "cell_type": "code",
   "execution_count": 63,
   "id": "8e2f93d4-4f0b-4b78-bcb1-652fb127ddb3",
   "metadata": {},
   "outputs": [
    {
     "name": "stdout",
     "output_type": "stream",
     "text": [
      "+-----------+\n",
      "|sum(Pclass)|\n",
      "+-----------+\n",
      "|       2057|\n",
      "+-----------+\n",
      "\n"
     ]
    }
   ],
   "source": [
    "df_pyspark.agg({'Pclass':'sum'}).show()"
   ]
  },
  {
   "cell_type": "code",
   "execution_count": 64,
   "id": "b4a05e07-04e7-4d5e-96b3-9864b8ebbc4d",
   "metadata": {},
   "outputs": [
    {
     "name": "stdout",
     "output_type": "stream",
     "text": [
      "+------+------------------+\n",
      "|Pclass|          avg(age)|\n",
      "+------+------------------+\n",
      "|     1|38.233440860215055|\n",
      "|     3| 25.14061971830986|\n",
      "|     2| 29.87763005780347|\n",
      "+------+------------------+\n",
      "\n"
     ]
    }
   ],
   "source": [
    "df_pyspark.groupBy('Pclass').agg({'age':'mean'}).show()"
   ]
  },
  {
   "cell_type": "markdown",
   "id": "37a93f70-cf1e-4f8e-943c-222faff17e97",
   "metadata": {},
   "source": [
    "## Modeling"
   ]
  },
  {
   "cell_type": "markdown",
   "id": "0c855ee1-054f-4dc2-80bd-a35b583caeb5",
   "metadata": {},
   "source": [
    "### SrtingIndexer"
   ]
  },
  {
   "cell_type": "code",
   "execution_count": 79,
   "id": "579f49c1-0ccb-4689-bf79-84aaa0266be2",
   "metadata": {},
   "outputs": [
    {
     "name": "stdout",
     "output_type": "stream",
     "text": [
      "+-----------+--------+------+--------------------+------+----+-----+-----+----------------+-------+-----+--------+---------+\n",
      "|PassengerId|Survived|Pclass|                Name|   Sex| Age|SibSp|Parch|          Ticket|   Fare|Cabin|Embarked|Sex_index|\n",
      "+-----------+--------+------+--------------------+------+----+-----+-----+----------------+-------+-----+--------+---------+\n",
      "|          1|       0|     3|Braund, Mr. Owen ...|  male|22.0|    1|    0|       A/5 21171|   7.25| null|       S|      0.0|\n",
      "|          2|       1|     1|Cumings, Mrs. Joh...|female|38.0|    1|    0|        PC 17599|71.2833|  C85|       C|      1.0|\n",
      "|          3|       1|     3|Heikkinen, Miss. ...|female|26.0|    0|    0|STON/O2. 3101282|  7.925| null|       S|      1.0|\n",
      "|          4|       1|     1|Futrelle, Mrs. Ja...|female|35.0|    1|    0|          113803|   53.1| C123|       S|      1.0|\n",
      "|          5|       0|     3|Allen, Mr. Willia...|  male|35.0|    0|    0|          373450|   8.05| null|       S|      0.0|\n",
      "|          6|       0|     3|    Moran, Mr. James|  male|null|    0|    0|          330877| 8.4583| null|       Q|      0.0|\n",
      "|          7|       0|     1|McCarthy, Mr. Tim...|  male|54.0|    0|    0|           17463|51.8625|  E46|       S|      0.0|\n",
      "|          8|       0|     3|Palsson, Master. ...|  male| 2.0|    3|    1|          349909| 21.075| null|       S|      0.0|\n",
      "|          9|       1|     3|Johnson, Mrs. Osc...|female|27.0|    0|    2|          347742|11.1333| null|       S|      1.0|\n",
      "|         10|       1|     2|Nasser, Mrs. Nich...|female|14.0|    1|    0|          237736|30.0708| null|       C|      1.0|\n",
      "|         11|       1|     3|Sandstrom, Miss. ...|female| 4.0|    1|    1|         PP 9549|   16.7|   G6|       S|      1.0|\n",
      "|         12|       1|     1|Bonnell, Miss. El...|female|58.0|    0|    0|          113783|  26.55| C103|       S|      1.0|\n",
      "|         13|       0|     3|Saundercock, Mr. ...|  male|20.0|    0|    0|       A/5. 2151|   8.05| null|       S|      0.0|\n",
      "|         14|       0|     3|Andersson, Mr. An...|  male|39.0|    1|    5|          347082| 31.275| null|       S|      0.0|\n",
      "|         15|       0|     3|Vestrom, Miss. Hu...|female|14.0|    0|    0|          350406| 7.8542| null|       S|      1.0|\n",
      "|         16|       1|     2|Hewlett, Mrs. (Ma...|female|55.0|    0|    0|          248706|   16.0| null|       S|      1.0|\n",
      "|         17|       0|     3|Rice, Master. Eugene|  male| 2.0|    4|    1|          382652| 29.125| null|       Q|      0.0|\n",
      "|         18|       1|     2|Williams, Mr. Cha...|  male|null|    0|    0|          244373|   13.0| null|       S|      0.0|\n",
      "|         19|       0|     3|Vander Planke, Mr...|female|31.0|    1|    0|          345763|   18.0| null|       S|      1.0|\n",
      "|         20|       1|     3|Masselmani, Mrs. ...|female|null|    0|    0|            2649|  7.225| null|       C|      1.0|\n",
      "+-----------+--------+------+--------------------+------+----+-----+-----+----------------+-------+-----+--------+---------+\n",
      "only showing top 20 rows\n",
      "\n"
     ]
    }
   ],
   "source": [
    "index = StringIndexer(inputCol='Sex', outputCol='Sex_index')\n",
    "df = index.fit(df_pyspark)\n",
    "df= df.transform(df_pyspark)\n",
    "df.show()"
   ]
  },
  {
   "cell_type": "code",
   "execution_count": 80,
   "id": "059c384a-955e-44f2-9551-60e10a90686a",
   "metadata": {},
   "outputs": [],
   "source": [
    "imputer = Imputer(inputCols=['Age'],\n",
    "                 outputCols=['Age_imputed']).setStrategy('median')\n",
    "df = imputer.fit(df).transform(df)"
   ]
  },
  {
   "cell_type": "code",
   "execution_count": 82,
   "id": "960bdee7-06cd-43b0-8825-d1029a68f59f",
   "metadata": {},
   "outputs": [
    {
     "name": "stdout",
     "output_type": "stream",
     "text": [
      "+-------+------------------+-------------------+------------------+\n",
      "|summary|            Pclass|          Sex_index|       Age_imputed|\n",
      "+-------+------------------+-------------------+------------------+\n",
      "|  count|               891|                891|               891|\n",
      "|   mean| 2.308641975308642|0.35241301907968575| 29.36158249158249|\n",
      "| stddev|0.8360712409770491| 0.4779900708960982|13.019696550973201|\n",
      "|    min|                 1|                0.0|              0.42|\n",
      "|    max|                 3|                1.0|              80.0|\n",
      "+-------+------------------+-------------------+------------------+\n",
      "\n"
     ]
    }
   ],
   "source": [
    "df.select(['Pclass', 'Sex_index', 'Age_imputed']).describe().show()"
   ]
  },
  {
   "cell_type": "code",
   "execution_count": 85,
   "id": "f64964e5-aab3-4ccd-bae4-48b287e67961",
   "metadata": {},
   "outputs": [
    {
     "name": "stdout",
     "output_type": "stream",
     "text": [
      "+------+---------+-----------+--------------------+\n",
      "|Pclass|Sex_index|Age_imputed|Independent Features|\n",
      "+------+---------+-----------+--------------------+\n",
      "|     3|      0.0|       22.0|      [3.0,0.0,22.0]|\n",
      "|     1|      1.0|       38.0|      [1.0,1.0,38.0]|\n",
      "|     3|      1.0|       26.0|      [3.0,1.0,26.0]|\n",
      "|     1|      1.0|       35.0|      [1.0,1.0,35.0]|\n",
      "|     3|      0.0|       35.0|      [3.0,0.0,35.0]|\n",
      "|     3|      0.0|       28.0|      [3.0,0.0,28.0]|\n",
      "|     1|      0.0|       54.0|      [1.0,0.0,54.0]|\n",
      "|     3|      0.0|        2.0|       [3.0,0.0,2.0]|\n",
      "|     3|      1.0|       27.0|      [3.0,1.0,27.0]|\n",
      "|     2|      1.0|       14.0|      [2.0,1.0,14.0]|\n",
      "+------+---------+-----------+--------------------+\n",
      "only showing top 10 rows\n",
      "\n"
     ]
    }
   ],
   "source": [
    "featureassembler = VectorAssembler(inputCols=['Pclass', 'Sex_index', 'Age_imputed'], outputCol='Independent Features')\n",
    "output = featureassembler.transform(df)\n",
    "output.select(['Pclass', 'Sex_index', 'Age_imputed', 'Independent Features']).show(10)"
   ]
  },
  {
   "cell_type": "code",
   "execution_count": 87,
   "id": "cd36f1c0-53e1-4411-bdad-03289527f305",
   "metadata": {},
   "outputs": [
    {
     "name": "stdout",
     "output_type": "stream",
     "text": [
      "+--------------------+--------+\n",
      "|Independent Features|Survived|\n",
      "+--------------------+--------+\n",
      "|      [3.0,0.0,22.0]|       0|\n",
      "|      [1.0,1.0,38.0]|       1|\n",
      "|      [3.0,1.0,26.0]|       1|\n",
      "|      [1.0,1.0,35.0]|       1|\n",
      "|      [3.0,0.0,35.0]|       0|\n",
      "|      [3.0,0.0,28.0]|       0|\n",
      "|      [1.0,0.0,54.0]|       0|\n",
      "|       [3.0,0.0,2.0]|       0|\n",
      "|      [3.0,1.0,27.0]|       1|\n",
      "|      [2.0,1.0,14.0]|       1|\n",
      "|       [3.0,1.0,4.0]|       1|\n",
      "|      [1.0,1.0,58.0]|       1|\n",
      "|      [3.0,0.0,20.0]|       0|\n",
      "|      [3.0,0.0,39.0]|       0|\n",
      "|      [3.0,1.0,14.0]|       0|\n",
      "|      [2.0,1.0,55.0]|       1|\n",
      "|       [3.0,0.0,2.0]|       0|\n",
      "|      [2.0,0.0,28.0]|       1|\n",
      "|      [3.0,1.0,31.0]|       0|\n",
      "|      [3.0,1.0,28.0]|       1|\n",
      "+--------------------+--------+\n",
      "only showing top 20 rows\n",
      "\n"
     ]
    }
   ],
   "source": [
    "finalized_data = output.select(['Independent Features', 'Survived'])\n",
    "finalized_data.show()"
   ]
  },
  {
   "cell_type": "code",
   "execution_count": 90,
   "id": "b0231ce6-bbe0-4d17-862e-2811c1e667c4",
   "metadata": {},
   "outputs": [],
   "source": [
    "train_data, test_data = finalized_data.randomSplit([0.75, 0.25])"
   ]
  },
  {
   "cell_type": "code",
   "execution_count": 91,
   "id": "a0c4ed3b-2e78-4ef9-af1a-eddc8733759c",
   "metadata": {},
   "outputs": [
    {
     "name": "stderr",
     "output_type": "stream",
     "text": [
      "21/11/20 15:25:48 WARN InstanceBuilder$NativeBLAS: Failed to load implementation from:dev.ludovic.netlib.blas.JNIBLAS\n",
      "21/11/20 15:25:48 WARN InstanceBuilder$NativeBLAS: Failed to load implementation from:dev.ludovic.netlib.blas.ForeignLinkerBLAS\n"
     ]
    }
   ],
   "source": [
    "clf = LogisticRegression(featuresCol='Independent Features', labelCol='Survived')\n",
    "clf = clf.fit(train_data)"
   ]
  },
  {
   "cell_type": "markdown",
   "id": "ab63adf6-87d0-433f-b74b-940ba2bb6afc",
   "metadata": {},
   "source": [
    "## Evaluation"
   ]
  },
  {
   "cell_type": "code",
   "execution_count": 92,
   "id": "ef56a286-7b3e-433d-908b-b4601d3c423d",
   "metadata": {},
   "outputs": [
    {
     "data": {
      "text/plain": [
       "DenseVector([-1.0426, 2.5636, -0.0352])"
      ]
     },
     "execution_count": 92,
     "metadata": {},
     "output_type": "execute_result"
    }
   ],
   "source": [
    "clf.coefficients"
   ]
  },
  {
   "cell_type": "code",
   "execution_count": 94,
   "id": "f4d2aedf-6764-4bc3-93f2-5b1f8340d799",
   "metadata": {},
   "outputs": [
    {
     "data": {
      "text/plain": [
       "1.9526384063100308"
      ]
     },
     "execution_count": 94,
     "metadata": {},
     "output_type": "execute_result"
    }
   ],
   "source": [
    "clf.intercept"
   ]
  },
  {
   "cell_type": "code",
   "execution_count": 95,
   "id": "5c0c34f8-13da-47ea-ab1e-5950ae1ac6a5",
   "metadata": {},
   "outputs": [
    {
     "name": "stdout",
     "output_type": "stream",
     "text": [
      "+--------------------+--------+--------------------+--------------------+----------+\n",
      "|Independent Features|Survived|       rawPrediction|         probability|prediction|\n",
      "+--------------------+--------+--------------------+--------------------+----------+\n",
      "|      [1.0,0.0,0.92]|       1|[-0.8775890198384...|[0.29367764224280...|       1.0|\n",
      "|       [1.0,0.0,4.0]|       1|[-0.7690429538267...|[0.31668617092254...|       1.0|\n",
      "|      [1.0,0.0,19.0]|       0|[-0.2404095154583...|[0.44018543455482...|       1.0|\n",
      "|      [1.0,0.0,21.0]|       0|[-0.1699250570092...|[0.45762066031601...|       1.0|\n",
      "|      [1.0,0.0,22.0]|       0|[-0.1346828277846...|[0.46638009827952...|       1.0|\n",
      "|      [1.0,0.0,23.0]|       1|[-0.0994405985600...|[0.47516031578271...|       1.0|\n",
      "|      [1.0,0.0,27.0]|       1|[0.04152831833815...|[0.51038058776288...|       0.0|\n",
      "|      [1.0,0.0,28.0]|       0|[0.07677054756271...|[0.51918321611216...|       0.0|\n",
      "|      [1.0,0.0,28.0]|       0|[0.07677054756271...|[0.51918321611216...|       0.0|\n",
      "|      [1.0,0.0,28.0]|       0|[0.07677054756271...|[0.51918321611216...|       0.0|\n",
      "|      [1.0,0.0,28.0]|       0|[0.07677054756271...|[0.51918321611216...|       0.0|\n",
      "|      [1.0,0.0,28.0]|       0|[0.07677054756271...|[0.51918321611216...|       0.0|\n",
      "|      [1.0,0.0,28.0]|       1|[0.07677054756271...|[0.51918321611216...|       0.0|\n",
      "|      [1.0,0.0,28.0]|       1|[0.07677054756271...|[0.51918321611216...|       0.0|\n",
      "|      [1.0,0.0,28.0]|       1|[0.07677054756271...|[0.51918321611216...|       0.0|\n",
      "|      [1.0,0.0,29.0]|       0|[0.11201277678727...|[0.52797395153515...|       0.0|\n",
      "|      [1.0,0.0,32.0]|       1|[0.21773946446096...|[0.55422081564596...|       0.0|\n",
      "|      [1.0,0.0,34.0]|       1|[0.28822392291008...|[0.57156126436105...|       0.0|\n",
      "|      [1.0,0.0,35.0]|       1|[0.32346615213465...|[0.58016874694588...|       0.0|\n",
      "|      [1.0,0.0,42.0]|       1|[0.57016175670659...|[0.63880049882687...|       0.0|\n",
      "+--------------------+--------+--------------------+--------------------+----------+\n",
      "only showing top 20 rows\n",
      "\n"
     ]
    },
    {
     "name": "stderr",
     "output_type": "stream",
     "text": [
      "/home/tlyu0419/github/env/lib/python3.9/site-packages/pyspark/sql/context.py:125: FutureWarning: Deprecated in 3.0.0. Use SparkSession.builder.getOrCreate() instead.\n",
      "  warnings.warn(\n"
     ]
    }
   ],
   "source": [
    "pred_result = clf.evaluate(test_data)\n",
    "pred_result.predictions.show()"
   ]
  },
  {
   "cell_type": "code",
   "execution_count": 96,
   "id": "27ce756a-7732-4f80-a609-fe9cbf37c904",
   "metadata": {},
   "outputs": [
    {
     "data": {
      "text/plain": [
       "0.7830188679245284"
      ]
     },
     "execution_count": 96,
     "metadata": {},
     "output_type": "execute_result"
    }
   ],
   "source": [
    "pred_result.accuracy"
   ]
  },
  {
   "cell_type": "code",
   "execution_count": 97,
   "id": "489dc3e0-fbee-4c9f-bdde-a79c849d1370",
   "metadata": {},
   "outputs": [
    {
     "data": {
      "text/plain": [
       "0.8637287151702787"
      ]
     },
     "execution_count": 97,
     "metadata": {},
     "output_type": "execute_result"
    }
   ],
   "source": [
    "pred_result.areaUnderROC"
   ]
  },
  {
   "cell_type": "code",
   "execution_count": 99,
   "id": "23060ec3-0810-4fcf-a842-7f947067ec19",
   "metadata": {},
   "outputs": [
    {
     "name": "stderr",
     "output_type": "stream",
     "text": [
      "/home/tlyu0419/github/env/lib/python3.9/site-packages/pyspark/sql/context.py:125: FutureWarning: Deprecated in 3.0.0. Use SparkSession.builder.getOrCreate() instead.\n",
      "  warnings.warn(\n"
     ]
    },
    {
     "data": {
      "text/html": [
       "<div>\n",
       "<style scoped>\n",
       "    .dataframe tbody tr th:only-of-type {\n",
       "        vertical-align: middle;\n",
       "    }\n",
       "\n",
       "    .dataframe tbody tr th {\n",
       "        vertical-align: top;\n",
       "    }\n",
       "\n",
       "    .dataframe thead th {\n",
       "        text-align: right;\n",
       "    }\n",
       "</style>\n",
       "<table border=\"1\" class=\"dataframe\">\n",
       "  <thead>\n",
       "    <tr style=\"text-align: right;\">\n",
       "      <th></th>\n",
       "      <th>Independent Features</th>\n",
       "      <th>Survived</th>\n",
       "      <th>rawPrediction</th>\n",
       "      <th>probability</th>\n",
       "      <th>prediction</th>\n",
       "    </tr>\n",
       "  </thead>\n",
       "  <tbody>\n",
       "    <tr>\n",
       "      <th>0</th>\n",
       "      <td>[1.0, 0.0, 0.92]</td>\n",
       "      <td>1</td>\n",
       "      <td>[-0.8775890198384431, 0.8775890198384431]</td>\n",
       "      <td>[0.29367764224280035, 0.7063223577571996]</td>\n",
       "      <td>1.0</td>\n",
       "    </tr>\n",
       "    <tr>\n",
       "      <th>1</th>\n",
       "      <td>[1.0, 0.0, 4.0]</td>\n",
       "      <td>1</td>\n",
       "      <td>[-0.76904295382679, 0.76904295382679]</td>\n",
       "      <td>[0.31668617092254325, 0.6833138290774567]</td>\n",
       "      <td>1.0</td>\n",
       "    </tr>\n",
       "    <tr>\n",
       "      <th>2</th>\n",
       "      <td>[1.0, 0.0, 19.0]</td>\n",
       "      <td>0</td>\n",
       "      <td>[-0.24040951545835054, 0.24040951545835054]</td>\n",
       "      <td>[0.44018543455482273, 0.5598145654451773]</td>\n",
       "      <td>1.0</td>\n",
       "    </tr>\n",
       "    <tr>\n",
       "      <th>3</th>\n",
       "      <td>[1.0, 0.0, 21.0]</td>\n",
       "      <td>0</td>\n",
       "      <td>[-0.16992505700922522, 0.16992505700922522]</td>\n",
       "      <td>[0.45762066031601295, 0.5423793396839871]</td>\n",
       "      <td>1.0</td>\n",
       "    </tr>\n",
       "    <tr>\n",
       "      <th>4</th>\n",
       "      <td>[1.0, 0.0, 22.0]</td>\n",
       "      <td>0</td>\n",
       "      <td>[-0.13468282778466256, 0.13468282778466256]</td>\n",
       "      <td>[0.46638009827952354, 0.5336199017204765]</td>\n",
       "      <td>1.0</td>\n",
       "    </tr>\n",
       "    <tr>\n",
       "      <th>...</th>\n",
       "      <td>...</td>\n",
       "      <td>...</td>\n",
       "      <td>...</td>\n",
       "      <td>...</td>\n",
       "      <td>...</td>\n",
       "    </tr>\n",
       "    <tr>\n",
       "      <th>207</th>\n",
       "      <td>[3.0, 1.0, 31.0]</td>\n",
       "      <td>1</td>\n",
       "      <td>[-0.29584597611131147, 0.29584597611131147]</td>\n",
       "      <td>[0.4265732815155871, 0.5734267184844128]</td>\n",
       "      <td>1.0</td>\n",
       "    </tr>\n",
       "    <tr>\n",
       "      <th>208</th>\n",
       "      <td>[3.0, 1.0, 32.0]</td>\n",
       "      <td>0</td>\n",
       "      <td>[-0.2606037468867488, 0.2606037468867488]</td>\n",
       "      <td>[0.4352152996353439, 0.5647847003646561]</td>\n",
       "      <td>1.0</td>\n",
       "    </tr>\n",
       "    <tr>\n",
       "      <th>209</th>\n",
       "      <td>[3.0, 1.0, 33.0]</td>\n",
       "      <td>1</td>\n",
       "      <td>[-0.22536151766218615, 0.22536151766218615]</td>\n",
       "      <td>[0.44389686612987, 0.55610313387013]</td>\n",
       "      <td>1.0</td>\n",
       "    </tr>\n",
       "    <tr>\n",
       "      <th>210</th>\n",
       "      <td>[3.0, 1.0, 39.0]</td>\n",
       "      <td>0</td>\n",
       "      <td>[-0.013908142314810412, 0.013908142314810412]</td>\n",
       "      <td>[0.4965230204689902, 0.5034769795310098]</td>\n",
       "      <td>1.0</td>\n",
       "    </tr>\n",
       "    <tr>\n",
       "      <th>211</th>\n",
       "      <td>[3.0, 1.0, 41.0]</td>\n",
       "      <td>0</td>\n",
       "      <td>[0.05657631613431491, -0.05657631613431491]</td>\n",
       "      <td>[0.5141403074497048, 0.48585969255029515]</td>\n",
       "      <td>0.0</td>\n",
       "    </tr>\n",
       "  </tbody>\n",
       "</table>\n",
       "<p>212 rows × 5 columns</p>\n",
       "</div>"
      ],
      "text/plain": [
       "    Independent Features  Survived  \\\n",
       "0       [1.0, 0.0, 0.92]         1   \n",
       "1        [1.0, 0.0, 4.0]         1   \n",
       "2       [1.0, 0.0, 19.0]         0   \n",
       "3       [1.0, 0.0, 21.0]         0   \n",
       "4       [1.0, 0.0, 22.0]         0   \n",
       "..                   ...       ...   \n",
       "207     [3.0, 1.0, 31.0]         1   \n",
       "208     [3.0, 1.0, 32.0]         0   \n",
       "209     [3.0, 1.0, 33.0]         1   \n",
       "210     [3.0, 1.0, 39.0]         0   \n",
       "211     [3.0, 1.0, 41.0]         0   \n",
       "\n",
       "                                     rawPrediction  \\\n",
       "0        [-0.8775890198384431, 0.8775890198384431]   \n",
       "1            [-0.76904295382679, 0.76904295382679]   \n",
       "2      [-0.24040951545835054, 0.24040951545835054]   \n",
       "3      [-0.16992505700922522, 0.16992505700922522]   \n",
       "4      [-0.13468282778466256, 0.13468282778466256]   \n",
       "..                                             ...   \n",
       "207    [-0.29584597611131147, 0.29584597611131147]   \n",
       "208      [-0.2606037468867488, 0.2606037468867488]   \n",
       "209    [-0.22536151766218615, 0.22536151766218615]   \n",
       "210  [-0.013908142314810412, 0.013908142314810412]   \n",
       "211    [0.05657631613431491, -0.05657631613431491]   \n",
       "\n",
       "                                   probability  prediction  \n",
       "0    [0.29367764224280035, 0.7063223577571996]         1.0  \n",
       "1    [0.31668617092254325, 0.6833138290774567]         1.0  \n",
       "2    [0.44018543455482273, 0.5598145654451773]         1.0  \n",
       "3    [0.45762066031601295, 0.5423793396839871]         1.0  \n",
       "4    [0.46638009827952354, 0.5336199017204765]         1.0  \n",
       "..                                         ...         ...  \n",
       "207   [0.4265732815155871, 0.5734267184844128]         1.0  \n",
       "208   [0.4352152996353439, 0.5647847003646561]         1.0  \n",
       "209       [0.44389686612987, 0.55610313387013]         1.0  \n",
       "210   [0.4965230204689902, 0.5034769795310098]         1.0  \n",
       "211  [0.5141403074497048, 0.48585969255029515]         0.0  \n",
       "\n",
       "[212 rows x 5 columns]"
      ]
     },
     "execution_count": 99,
     "metadata": {},
     "output_type": "execute_result"
    }
   ],
   "source": [
    "pred_result.predictions.toPandas()"
   ]
  },
  {
   "cell_type": "code",
   "execution_count": null,
   "id": "3f69f919-349a-45e6-9603-4706ab721163",
   "metadata": {},
   "outputs": [],
   "source": []
  }
 ],
 "metadata": {
  "kernelspec": {
   "display_name": "Python 3 (ipykernel)",
   "language": "python",
   "name": "python3"
  },
  "language_info": {
   "codemirror_mode": {
    "name": "ipython",
    "version": 3
   },
   "file_extension": ".py",
   "mimetype": "text/x-python",
   "name": "python",
   "nbconvert_exporter": "python",
   "pygments_lexer": "ipython3",
   "version": "3.9.5"
  }
 },
 "nbformat": 4,
 "nbformat_minor": 5
}
