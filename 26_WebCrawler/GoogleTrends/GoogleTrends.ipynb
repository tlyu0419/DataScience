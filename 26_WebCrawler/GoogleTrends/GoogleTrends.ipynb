{
  "nbformat": 4,
  "nbformat_minor": 0,
  "metadata": {
    "colab": {
      "name": "GoogleTrends.ipynb",
      "provenance": [],
      "collapsed_sections": []
    },
    "kernelspec": {
      "name": "python3",
      "display_name": "Python 3"
    }
  },
  "cells": [
    {
      "cell_type": "markdown",
      "metadata": {
        "id": "FUbyUoLO_Bh5",
        "colab_type": "text"
      },
      "source": [
        "# Google Trends 關鍵詞爬蟲\n",
        "https://trends.google.com.tw/trends/trendingsearches/daily?geo=TW"
      ]
    },
    {
      "cell_type": "markdown",
      "metadata": {
        "id": "dsyv4LCh7mZp",
        "colab_type": "text"
      },
      "source": [
        "## 載入套件"
      ]
    },
    {
      "cell_type": "code",
      "metadata": {
        "id": "AIIBVn5Ycj6D",
        "colab_type": "code",
        "colab": {}
      },
      "source": [
        "import re\n",
        "import json\n",
        "import requests\n",
        "import pandas as pd\n",
        "from bs4 import BeautifulSoup\n",
        "import datetime"
      ],
      "execution_count": null,
      "outputs": []
    },
    {
      "cell_type": "markdown",
      "metadata": {
        "id": "rxDf_Uo1Bni6",
        "colab_type": "text"
      },
      "source": [
        "## 抓取一天的關鍵詞"
      ]
    },
    {
      "cell_type": "code",
      "metadata": {
        "id": "-zi6ofLNdXLt",
        "colab_type": "code",
        "colab": {
          "base_uri": "https://localhost:8080/",
          "height": 34
        },
        "outputId": "3c174d30-8e0d-41f1-dd76-dd7c720b6eb7"
      },
      "source": [
        "# 如果連接掛掉可以自己把ed中的參數改成今天的日期~\n",
        "url = 'https://trends.google.com.tw/trends/api/dailytrends?hl=zh-TW&tz=-480&ed=20200119&geo=TW&ns=15'\n",
        "resp = requests.get(url)\n",
        "resp.text"
      ],
      "execution_count": null,
      "outputs": [
        {
          "output_type": "execute_result",
          "data": {
            "text/plain": [
              "')]}\\',\\n{\"default\":{\"trendingSearchesDays\":[]}}'"
            ]
          },
          "metadata": {
            "tags": []
          },
          "execution_count": 3
        }
      ]
    },
    {
      "cell_type": "code",
      "metadata": {
        "id": "7CcScAl0mo3h",
        "colab_type": "code",
        "colab": {
          "base_uri": "https://localhost:8080/",
          "height": 166
        },
        "outputId": "3fb91f82-c1e0-4cec-8ef2-97be792e4962"
      },
      "source": [
        "pd.DataFrame(json.loads(re.sub(r'\\)\\]\\}\\',\\n', '', resp.text))['default']['trendingSearchesDays'][0]['trendingSearches'])"
      ],
      "execution_count": null,
      "outputs": [
        {
          "output_type": "error",
          "ename": "IndexError",
          "evalue": "ignored",
          "traceback": [
            "\u001b[0;31m---------------------------------------------------------------------------\u001b[0m",
            "\u001b[0;31mIndexError\u001b[0m                                Traceback (most recent call last)",
            "\u001b[0;32m<ipython-input-4-4dd5d91803d2>\u001b[0m in \u001b[0;36m<module>\u001b[0;34m()\u001b[0m\n\u001b[0;32m----> 1\u001b[0;31m \u001b[0mpd\u001b[0m\u001b[0;34m.\u001b[0m\u001b[0mDataFrame\u001b[0m\u001b[0;34m(\u001b[0m\u001b[0mjson\u001b[0m\u001b[0;34m.\u001b[0m\u001b[0mloads\u001b[0m\u001b[0;34m(\u001b[0m\u001b[0mre\u001b[0m\u001b[0;34m.\u001b[0m\u001b[0msub\u001b[0m\u001b[0;34m(\u001b[0m\u001b[0;34mr'\\)\\]\\}\\',\\n'\u001b[0m\u001b[0;34m,\u001b[0m \u001b[0;34m''\u001b[0m\u001b[0;34m,\u001b[0m \u001b[0mresp\u001b[0m\u001b[0;34m.\u001b[0m\u001b[0mtext\u001b[0m\u001b[0;34m)\u001b[0m\u001b[0;34m)\u001b[0m\u001b[0;34m[\u001b[0m\u001b[0;34m'default'\u001b[0m\u001b[0;34m]\u001b[0m\u001b[0;34m[\u001b[0m\u001b[0;34m'trendingSearchesDays'\u001b[0m\u001b[0;34m]\u001b[0m\u001b[0;34m[\u001b[0m\u001b[0;36m0\u001b[0m\u001b[0;34m]\u001b[0m\u001b[0;34m[\u001b[0m\u001b[0;34m'trendingSearches'\u001b[0m\u001b[0;34m]\u001b[0m\u001b[0;34m)\u001b[0m\u001b[0;34m\u001b[0m\u001b[0;34m\u001b[0m\u001b[0m\n\u001b[0m",
            "\u001b[0;31mIndexError\u001b[0m: list index out of range"
          ]
        }
      ]
    },
    {
      "cell_type": "markdown",
      "metadata": {
        "id": "4gRtPJkaB5eI",
        "colab_type": "text"
      },
      "source": [
        "## 抓取近一月的熱門關鍵詞"
      ]
    },
    {
      "cell_type": "code",
      "metadata": {
        "id": "O-UN42LQ0hRT",
        "colab_type": "code",
        "colab": {
          "base_uri": "https://localhost:8080/",
          "height": 51
        },
        "outputId": "d3807bdc-54b6-4fd2-a8ed-0249509acab7"
      },
      "source": [
        "enddt = datetime.datetime.today()\n",
        "startdt = enddt - datetime.timedelta(days=29)\n",
        "print(enddt)\n",
        "print(startdt)"
      ],
      "execution_count": null,
      "outputs": [
        {
          "output_type": "stream",
          "text": [
            "2020-02-18 15:37:27.608796\n",
            "2020-01-20 15:37:27.608796\n"
          ],
          "name": "stdout"
        }
      ]
    },
    {
      "cell_type": "code",
      "metadata": {
        "id": "BRlVyoYPvhLu",
        "colab_type": "code",
        "colab": {
          "base_uri": "https://localhost:8080/",
          "height": 1000
        },
        "outputId": "d28fb9a2-6bb7-4e5d-ed65-916f94e21b84"
      },
      "source": [
        "df = []\n",
        "for i in pd.date_range(start=datetime.datetime.strftime(startdt,'%Y%m%d'), end=datetime.datetime.strftime(enddt,'%Y%m%d'), freq='1D'):\n",
        "    url = 'https://trends.google.com.tw/trends/api/dailytrends?hl=zh-TW&tz=-480&ed={}&geo=TW&ns=15'.format(datetime.datetime.strftime(i, '%Y%m%d'))\n",
        "    print(url)\n",
        "    resp = requests.get(url)\n",
        "    ndf=[]\n",
        "    ndf = pd.DataFrame(json.loads(re.sub(r'\\)\\]\\}\\',\\n', '', resp.text))['default']['trendingSearchesDays'][0]['trendingSearches'])\n",
        "    ndf['date'] = datetime.datetime.strftime(i, '%Y-%m-%d')\n",
        "    df.append(ndf)\n",
        "df = pd.concat(df, ignore_index=True)\n",
        "df['title'] = df['title'].apply(lambda x: x['query'])\n",
        "df"
      ],
      "execution_count": null,
      "outputs": [
        {
          "output_type": "stream",
          "text": [
            "https://trends.google.com.tw/trends/api/dailytrends?hl=zh-TW&tz=-480&ed=20200120&geo=TW&ns=15\n",
            "https://trends.google.com.tw/trends/api/dailytrends?hl=zh-TW&tz=-480&ed=20200121&geo=TW&ns=15\n",
            "https://trends.google.com.tw/trends/api/dailytrends?hl=zh-TW&tz=-480&ed=20200122&geo=TW&ns=15\n",
            "https://trends.google.com.tw/trends/api/dailytrends?hl=zh-TW&tz=-480&ed=20200123&geo=TW&ns=15\n",
            "https://trends.google.com.tw/trends/api/dailytrends?hl=zh-TW&tz=-480&ed=20200124&geo=TW&ns=15\n",
            "https://trends.google.com.tw/trends/api/dailytrends?hl=zh-TW&tz=-480&ed=20200125&geo=TW&ns=15\n",
            "https://trends.google.com.tw/trends/api/dailytrends?hl=zh-TW&tz=-480&ed=20200126&geo=TW&ns=15\n",
            "https://trends.google.com.tw/trends/api/dailytrends?hl=zh-TW&tz=-480&ed=20200127&geo=TW&ns=15\n",
            "https://trends.google.com.tw/trends/api/dailytrends?hl=zh-TW&tz=-480&ed=20200128&geo=TW&ns=15\n",
            "https://trends.google.com.tw/trends/api/dailytrends?hl=zh-TW&tz=-480&ed=20200129&geo=TW&ns=15\n",
            "https://trends.google.com.tw/trends/api/dailytrends?hl=zh-TW&tz=-480&ed=20200130&geo=TW&ns=15\n",
            "https://trends.google.com.tw/trends/api/dailytrends?hl=zh-TW&tz=-480&ed=20200131&geo=TW&ns=15\n",
            "https://trends.google.com.tw/trends/api/dailytrends?hl=zh-TW&tz=-480&ed=20200201&geo=TW&ns=15\n",
            "https://trends.google.com.tw/trends/api/dailytrends?hl=zh-TW&tz=-480&ed=20200202&geo=TW&ns=15\n",
            "https://trends.google.com.tw/trends/api/dailytrends?hl=zh-TW&tz=-480&ed=20200203&geo=TW&ns=15\n",
            "https://trends.google.com.tw/trends/api/dailytrends?hl=zh-TW&tz=-480&ed=20200204&geo=TW&ns=15\n",
            "https://trends.google.com.tw/trends/api/dailytrends?hl=zh-TW&tz=-480&ed=20200205&geo=TW&ns=15\n",
            "https://trends.google.com.tw/trends/api/dailytrends?hl=zh-TW&tz=-480&ed=20200206&geo=TW&ns=15\n",
            "https://trends.google.com.tw/trends/api/dailytrends?hl=zh-TW&tz=-480&ed=20200207&geo=TW&ns=15\n",
            "https://trends.google.com.tw/trends/api/dailytrends?hl=zh-TW&tz=-480&ed=20200208&geo=TW&ns=15\n",
            "https://trends.google.com.tw/trends/api/dailytrends?hl=zh-TW&tz=-480&ed=20200209&geo=TW&ns=15\n",
            "https://trends.google.com.tw/trends/api/dailytrends?hl=zh-TW&tz=-480&ed=20200210&geo=TW&ns=15\n",
            "https://trends.google.com.tw/trends/api/dailytrends?hl=zh-TW&tz=-480&ed=20200211&geo=TW&ns=15\n",
            "https://trends.google.com.tw/trends/api/dailytrends?hl=zh-TW&tz=-480&ed=20200212&geo=TW&ns=15\n",
            "https://trends.google.com.tw/trends/api/dailytrends?hl=zh-TW&tz=-480&ed=20200213&geo=TW&ns=15\n",
            "https://trends.google.com.tw/trends/api/dailytrends?hl=zh-TW&tz=-480&ed=20200214&geo=TW&ns=15\n",
            "https://trends.google.com.tw/trends/api/dailytrends?hl=zh-TW&tz=-480&ed=20200215&geo=TW&ns=15\n",
            "https://trends.google.com.tw/trends/api/dailytrends?hl=zh-TW&tz=-480&ed=20200216&geo=TW&ns=15\n",
            "https://trends.google.com.tw/trends/api/dailytrends?hl=zh-TW&tz=-480&ed=20200217&geo=TW&ns=15\n",
            "https://trends.google.com.tw/trends/api/dailytrends?hl=zh-TW&tz=-480&ed=20200218&geo=TW&ns=15\n"
          ],
          "name": "stdout"
        },
        {
          "output_type": "execute_result",
          "data": {
            "text/html": [
              "<div>\n",
              "<style scoped>\n",
              "    .dataframe tbody tr th:only-of-type {\n",
              "        vertical-align: middle;\n",
              "    }\n",
              "\n",
              "    .dataframe tbody tr th {\n",
              "        vertical-align: top;\n",
              "    }\n",
              "\n",
              "    .dataframe thead th {\n",
              "        text-align: right;\n",
              "    }\n",
              "</style>\n",
              "<table border=\"1\" class=\"dataframe\">\n",
              "  <thead>\n",
              "    <tr style=\"text-align: right;\">\n",
              "      <th></th>\n",
              "      <th>title</th>\n",
              "      <th>formattedTraffic</th>\n",
              "      <th>relatedQueries</th>\n",
              "      <th>image</th>\n",
              "      <th>articles</th>\n",
              "      <th>shareUrl</th>\n",
              "      <th>date</th>\n",
              "    </tr>\n",
              "  </thead>\n",
              "  <tbody>\n",
              "    <tr>\n",
              "      <th>0</th>\n",
              "      <td>武漢肺炎</td>\n",
              "      <td>20萬+</td>\n",
              "      <td>[]</td>\n",
              "      <td>{'newsUrl': 'https://www.bbc.com/zhongwen/trad...</td>\n",
              "      <td>[{'title': '武漢新型病毒有變異可能確診及死亡人數攀升', 'timeAgo': ...</td>\n",
              "      <td>https://trends.google.com.tw/trends/trendingse...</td>\n",
              "      <td>2020-01-20</td>\n",
              "    </tr>\n",
              "    <tr>\n",
              "      <th>1</th>\n",
              "      <td>武漢</td>\n",
              "      <td>5萬+</td>\n",
              "      <td>[]</td>\n",
              "      <td>{'newsUrl': 'https://udn.com/news/story/7314/4...</td>\n",
              "      <td>[{'title': '還有10團&lt;b&gt;武漢&lt;/b&gt;團要來台玩林佳龍：協調取消', 'tim...</td>\n",
              "      <td>https://trends.google.com.tw/trends/trendingse...</td>\n",
              "      <td>2020-01-20</td>\n",
              "    </tr>\n",
              "    <tr>\n",
              "      <th>2</th>\n",
              "      <td>SARS</td>\n",
              "      <td>5萬+</td>\n",
              "      <td>[]</td>\n",
              "      <td>{'newsUrl': 'https://technews.tw/2020/01/22/wu...</td>\n",
              "      <td>[{'title': '德國病毒權威：武漢肺炎疫情嚴重程度不如SARS | TechNews...</td>\n",
              "      <td>https://trends.google.com.tw/trends/trendingse...</td>\n",
              "      <td>2020-01-20</td>\n",
              "    </tr>\n",
              "    <tr>\n",
              "      <th>3</th>\n",
              "      <td>N95口罩</td>\n",
              "      <td>2萬+</td>\n",
              "      <td>[{'query': 'n95', 'exploreLink': '/trends/expl...</td>\n",
              "      <td>{'newsUrl': 'https://health.tvbs.com.tw/medica...</td>\n",
              "      <td>[{'title': '防冠狀病毒戴N95口罩未必最好，這一款正確用就有效   健康2.0'...</td>\n",
              "      <td>https://trends.google.com.tw/trends/trendingse...</td>\n",
              "      <td>2020-01-20</td>\n",
              "    </tr>\n",
              "    <tr>\n",
              "      <th>4</th>\n",
              "      <td>武漢肺炎病徵</td>\n",
              "      <td>2萬+</td>\n",
              "      <td>[]</td>\n",
              "      <td>{'newsUrl': 'https://www.commonhealth.com.tw/a...</td>\n",
              "      <td>[{'title': '與武漢肺炎病毒博鬥22天痊癒「幸好我年輕，全身器官都在幫我」 - 康...</td>\n",
              "      <td>https://trends.google.com.tw/trends/trendingse...</td>\n",
              "      <td>2020-01-20</td>\n",
              "    </tr>\n",
              "    <tr>\n",
              "      <th>...</th>\n",
              "      <td>...</td>\n",
              "      <td>...</td>\n",
              "      <td>...</td>\n",
              "      <td>...</td>\n",
              "      <td>...</td>\n",
              "      <td>...</td>\n",
              "      <td>...</td>\n",
              "    </tr>\n",
              "    <tr>\n",
              "      <th>594</th>\n",
              "      <td>李明亮</td>\n",
              "      <td>2000+</td>\n",
              "      <td>[]</td>\n",
              "      <td>{'newsUrl': 'https://www.setn.com/news.aspx?Ne...</td>\n",
              "      <td>[{'title': '疫程才剛開始？李明亮說這事刻不容緩', 'timeAgo': '1 ...</td>\n",
              "      <td>https://trends.google.com.tw/trends/trendingse...</td>\n",
              "      <td>2020-02-18</td>\n",
              "    </tr>\n",
              "    <tr>\n",
              "      <th>595</th>\n",
              "      <td>湖南獨立宣言</td>\n",
              "      <td>2000+</td>\n",
              "      <td>[]</td>\n",
              "      <td>{'newsUrl': 'https://www.setn.com/News.aspx?Ne...</td>\n",
              "      <td>[{'title': '網傳《湖南獨立宣言》：脫離中共暴政', 'timeAgo': '14...</td>\n",
              "      <td>https://trends.google.com.tw/trends/trendingse...</td>\n",
              "      <td>2020-02-18</td>\n",
              "    </tr>\n",
              "    <tr>\n",
              "      <th>596</th>\n",
              "      <td>張昭雄</td>\n",
              "      <td>2000+</td>\n",
              "      <td>[]</td>\n",
              "      <td>{'newsUrl': 'https://tw.news.yahoo.com/%E6%B0%...</td>\n",
              "      <td>[{'title': '張昭雄見證台灣棒球崛起引進日職資訊', 'timeAgo': '1 ...</td>\n",
              "      <td>https://trends.google.com.tw/trends/trendingse...</td>\n",
              "      <td>2020-02-18</td>\n",
              "    </tr>\n",
              "    <tr>\n",
              "      <th>597</th>\n",
              "      <td>洪堯</td>\n",
              "      <td>2000+</td>\n",
              "      <td>[]</td>\n",
              "      <td>{'newsUrl': 'https://www.hk01.com/%E5%8D%B3%E6...</td>\n",
              "      <td>[{'title': '【延禧攻略】吳謹言洪堯戀情再次斷正？ 網友爆兩人三亞同宿', 'ti...</td>\n",
              "      <td>https://trends.google.com.tw/trends/trendingse...</td>\n",
              "      <td>2020-02-18</td>\n",
              "    </tr>\n",
              "    <tr>\n",
              "      <th>598</th>\n",
              "      <td>桃園火災</td>\n",
              "      <td>2000+</td>\n",
              "      <td>[]</td>\n",
              "      <td>{'newsUrl': 'https://www.cna.com.tw/news/first...</td>\n",
              "      <td>[{'title': '敬鵬大火現場指揮疏失釀8死監察院糾正桃園市府', 'timeAgo'...</td>\n",
              "      <td>https://trends.google.com.tw/trends/trendingse...</td>\n",
              "      <td>2020-02-18</td>\n",
              "    </tr>\n",
              "  </tbody>\n",
              "</table>\n",
              "<p>599 rows × 7 columns</p>\n",
              "</div>"
            ],
            "text/plain": [
              "      title  ...        date\n",
              "0      武漢肺炎  ...  2020-01-20\n",
              "1        武漢  ...  2020-01-20\n",
              "2      SARS  ...  2020-01-20\n",
              "3     N95口罩  ...  2020-01-20\n",
              "4    武漢肺炎病徵  ...  2020-01-20\n",
              "..      ...  ...         ...\n",
              "594     李明亮  ...  2020-02-18\n",
              "595  湖南獨立宣言  ...  2020-02-18\n",
              "596     張昭雄  ...  2020-02-18\n",
              "597      洪堯  ...  2020-02-18\n",
              "598    桃園火災  ...  2020-02-18\n",
              "\n",
              "[599 rows x 7 columns]"
            ]
          },
          "metadata": {
            "tags": []
          },
          "execution_count": 6
        }
      ]
    },
    {
      "cell_type": "markdown",
      "metadata": {
        "id": "3uio3ACN-CRi",
        "colab_type": "text"
      },
      "source": [
        "## 保存資料"
      ]
    },
    {
      "cell_type": "markdown",
      "metadata": {
        "id": "1ZLwjZ39kF_K",
        "colab_type": "text"
      },
      "source": [
        "### 串接 Google Drive 空間"
      ]
    },
    {
      "cell_type": "code",
      "metadata": {
        "id": "fpLQ0x6lKwT3",
        "colab_type": "code",
        "colab": {
          "base_uri": "https://localhost:8080/",
          "height": 122
        },
        "outputId": "f98202ee-3f93-425c-9178-677deac92f67"
      },
      "source": [
        "from google.colab import drive\n",
        "drive.mount('/content/drive')"
      ],
      "execution_count": null,
      "outputs": [
        {
          "output_type": "stream",
          "text": [
            "Go to this URL in a browser: https://accounts.google.com/o/oauth2/auth?client_id=947318989803-6bn6qk8qdgf4n4g3pfee6491hc0brc4i.apps.googleusercontent.com&redirect_uri=urn%3aietf%3awg%3aoauth%3a2.0%3aoob&response_type=code&scope=email%20https%3a%2f%2fwww.googleapis.com%2fauth%2fdocs.test%20https%3a%2f%2fwww.googleapis.com%2fauth%2fdrive%20https%3a%2f%2fwww.googleapis.com%2fauth%2fdrive.photos.readonly%20https%3a%2f%2fwww.googleapis.com%2fauth%2fpeopleapi.readonly\n",
            "\n",
            "Enter your authorization code:\n",
            "··········\n",
            "Mounted at /content/drive\n"
          ],
          "name": "stdout"
        }
      ]
    },
    {
      "cell_type": "markdown",
      "metadata": {
        "id": "vMkE2evVMCba",
        "colab_type": "text"
      },
      "source": [
        "### 保存資料\n",
        "- 資料會保存在 Google Drive 上 Colab Notebooks/WebCrawler/GoogleTrends/ 的資料夾空間中"
      ]
    },
    {
      "cell_type": "code",
      "metadata": {
        "id": "reaH-2LhLKk7",
        "colab_type": "code",
        "colab": {}
      },
      "source": [
        "import os\n",
        "path = '/content/drive/My Drive/Colab Notebooks/WebCrawler/GoogleTrends/'\n",
        "# 如果不存在這個資料夾就新建這個資料夾\n",
        "if not os.path.exists(path):\n",
        "    os.makedirs(path)\n",
        "df.to_excel(path + 'GoogleTrends_keywords.xlsx')"
      ],
      "execution_count": null,
      "outputs": []
    },
    {
      "cell_type": "code",
      "metadata": {
        "id": "oYKrOLL_-aUq",
        "colab_type": "code",
        "colab": {}
      },
      "source": [
        ""
      ],
      "execution_count": null,
      "outputs": []
    }
  ]
}