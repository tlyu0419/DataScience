{
 "cells": [
  {
   "cell_type": "markdown",
   "metadata": {},
   "source": [
    "# 載入套件"
   ]
  },
  {
   "cell_type": "code",
   "execution_count": 1,
   "metadata": {
    "ExecuteTime": {
     "end_time": "2020-08-02T03:01:42.655349Z",
     "start_time": "2020-08-02T03:01:41.088909Z"
    }
   },
   "outputs": [],
   "source": [
    "import pandas as pd\n",
    "import requests\n",
    "from bs4 import BeautifulSoup"
   ]
  },
  {
   "cell_type": "markdown",
   "metadata": {},
   "source": [
    "# 檢視目前IP\n",
    "http://ip.filefab.com/index.php"
   ]
  },
  {
   "cell_type": "code",
   "execution_count": 2,
   "metadata": {
    "ExecuteTime": {
     "end_time": "2020-08-02T03:01:46.868188Z",
     "start_time": "2020-08-02T03:01:44.901346Z"
    }
   },
   "outputs": [
    {
     "data": {
      "text/plain": [
       "'Your IP address: 180.217.144.154'"
      ]
     },
     "execution_count": 2,
     "metadata": {},
     "output_type": "execute_result"
    }
   ],
   "source": [
    "url = 'http://ip.filefab.com/index.php'\n",
    "resp = requests.get(url)\n",
    "soup = BeautifulSoup(resp.text)\n",
    "soup.find('h1').text"
   ]
  },
  {
   "cell_type": "markdown",
   "metadata": {},
   "source": [
    "# 爬取代理伺服器\n",
    "https://www.us-proxy.org/"
   ]
  },
  {
   "cell_type": "code",
   "execution_count": 3,
   "metadata": {
    "ExecuteTime": {
     "end_time": "2020-08-02T03:01:48.120091Z",
     "start_time": "2020-08-02T03:01:47.094869Z"
    }
   },
   "outputs": [],
   "source": [
    "url = 'https://www.us-proxy.org/'\n",
    "resp = requests.get(url)\n",
    "soup = BeautifulSoup(resp.text)"
   ]
  },
  {
   "cell_type": "code",
   "execution_count": 4,
   "metadata": {
    "ExecuteTime": {
     "end_time": "2020-08-02T03:01:49.239397Z",
     "start_time": "2020-08-02T03:01:49.197561Z"
    }
   },
   "outputs": [],
   "source": [
    "columns = [i.text for i in soup.select('table > thead > tr > th')]"
   ]
  },
  {
   "cell_type": "code",
   "execution_count": 5,
   "metadata": {
    "ExecuteTime": {
     "end_time": "2020-08-02T03:01:50.441719Z",
     "start_time": "2020-08-02T03:01:50.374001Z"
    }
   },
   "outputs": [],
   "source": [
    "IPList = []\n",
    "for i in soup.select('table > tbody > tr'):\n",
    "    ip = [j.text for j in i.findAll('td')]\n",
    "    IPList.append(ip)"
   ]
  },
  {
   "cell_type": "code",
   "execution_count": 11,
   "metadata": {
    "ExecuteTime": {
     "end_time": "2020-08-02T03:03:12.460413Z",
     "start_time": "2020-08-02T03:03:12.421523Z"
    }
   },
   "outputs": [
    {
     "name": "stdout",
     "output_type": "stream",
     "text": [
      "(22, 9)\n"
     ]
    },
    {
     "data": {
      "text/html": [
       "<div>\n",
       "<style scoped>\n",
       "    .dataframe tbody tr th:only-of-type {\n",
       "        vertical-align: middle;\n",
       "    }\n",
       "\n",
       "    .dataframe tbody tr th {\n",
       "        vertical-align: top;\n",
       "    }\n",
       "\n",
       "    .dataframe thead th {\n",
       "        text-align: right;\n",
       "    }\n",
       "</style>\n",
       "<table border=\"1\" class=\"dataframe\">\n",
       "  <thead>\n",
       "    <tr style=\"text-align: right;\">\n",
       "      <th></th>\n",
       "      <th>index</th>\n",
       "      <th>IP Address</th>\n",
       "      <th>Port</th>\n",
       "      <th>Code</th>\n",
       "      <th>Country</th>\n",
       "      <th>Anonymity</th>\n",
       "      <th>Google</th>\n",
       "      <th>Https</th>\n",
       "      <th>Last Checked</th>\n",
       "    </tr>\n",
       "  </thead>\n",
       "  <tbody>\n",
       "    <tr>\n",
       "      <th>0</th>\n",
       "      <td>16</td>\n",
       "      <td>34.105.59.26</td>\n",
       "      <td>80</td>\n",
       "      <td>US</td>\n",
       "      <td>United States</td>\n",
       "      <td>anonymous</td>\n",
       "      <td>no</td>\n",
       "      <td>yes</td>\n",
       "      <td>1 minute ago</td>\n",
       "    </tr>\n",
       "    <tr>\n",
       "      <th>1</th>\n",
       "      <td>19</td>\n",
       "      <td>107.148.232.113</td>\n",
       "      <td>8888</td>\n",
       "      <td>US</td>\n",
       "      <td>United States</td>\n",
       "      <td>anonymous</td>\n",
       "      <td>no</td>\n",
       "      <td>yes</td>\n",
       "      <td>11 minutes ago</td>\n",
       "    </tr>\n",
       "    <tr>\n",
       "      <th>2</th>\n",
       "      <td>20</td>\n",
       "      <td>34.91.135.38</td>\n",
       "      <td>80</td>\n",
       "      <td>US</td>\n",
       "      <td>United States</td>\n",
       "      <td>anonymous</td>\n",
       "      <td>no</td>\n",
       "      <td>yes</td>\n",
       "      <td>11 minutes ago</td>\n",
       "    </tr>\n",
       "    <tr>\n",
       "      <th>3</th>\n",
       "      <td>24</td>\n",
       "      <td>34.82.117.185</td>\n",
       "      <td>8888</td>\n",
       "      <td>US</td>\n",
       "      <td>United States</td>\n",
       "      <td>elite proxy</td>\n",
       "      <td>no</td>\n",
       "      <td>yes</td>\n",
       "      <td>21 minutes ago</td>\n",
       "    </tr>\n",
       "    <tr>\n",
       "      <th>4</th>\n",
       "      <td>26</td>\n",
       "      <td>206.127.88.18</td>\n",
       "      <td>80</td>\n",
       "      <td>US</td>\n",
       "      <td>United States</td>\n",
       "      <td>anonymous</td>\n",
       "      <td>no</td>\n",
       "      <td>yes</td>\n",
       "      <td>21 minutes ago</td>\n",
       "    </tr>\n",
       "  </tbody>\n",
       "</table>\n",
       "</div>"
      ],
      "text/plain": [
       "   index       IP Address  Port Code        Country    Anonymity Google Https  \\\n",
       "0     16     34.105.59.26    80   US  United States    anonymous     no   yes   \n",
       "1     19  107.148.232.113  8888   US  United States    anonymous     no   yes   \n",
       "2     20     34.91.135.38    80   US  United States    anonymous     no   yes   \n",
       "3     24    34.82.117.185  8888   US  United States  elite proxy     no   yes   \n",
       "4     26    206.127.88.18    80   US  United States    anonymous     no   yes   \n",
       "\n",
       "     Last Checked  \n",
       "0    1 minute ago  \n",
       "1  11 minutes ago  \n",
       "2  11 minutes ago  \n",
       "3  21 minutes ago  \n",
       "4  21 minutes ago  "
      ]
     },
     "execution_count": 11,
     "metadata": {},
     "output_type": "execute_result"
    }
   ],
   "source": [
    "IPList = pd.DataFrame(IPList, columns=columns)\n",
    "IPList = IPList.loc[IPList['Https']=='yes',:].reset_index()\n",
    "print(IPList.shape)\n",
    "IPList.head()"
   ]
  },
  {
   "cell_type": "markdown",
   "metadata": {},
   "source": [
    "# 透過代理伺服器爬取資料"
   ]
  },
  {
   "cell_type": "markdown",
   "metadata": {},
   "source": [
    "## 測試有效性"
   ]
  },
  {
   "cell_type": "code",
   "execution_count": 12,
   "metadata": {
    "ExecuteTime": {
     "end_time": "2020-08-02T03:03:14.396729Z",
     "start_time": "2020-08-02T03:03:14.384267Z"
    }
   },
   "outputs": [],
   "source": [
    "i=0\n",
    "IP =IPList['IP Address'][i]\n",
    "Port =IPList['Port'][i]\n",
    "proxies = {\n",
    "    'http':'{}:{}'.format(IP,Port),\n",
    "    'https':'{}:{}'.format(IP,Port)\n",
    "}"
   ]
  },
  {
   "cell_type": "code",
   "execution_count": 13,
   "metadata": {
    "ExecuteTime": {
     "end_time": "2020-08-02T03:03:33.264166Z",
     "start_time": "2020-08-02T03:03:15.698423Z"
    }
   },
   "outputs": [
    {
     "data": {
      "text/plain": [
       "'Your IP address: 35.247.96.150'"
      ]
     },
     "execution_count": 13,
     "metadata": {},
     "output_type": "execute_result"
    }
   ],
   "source": [
    "url = 'http://ip.filefab.com/index.php'\n",
    "resp = requests.get(url, proxies=proxies)\n",
    "soup = BeautifulSoup(resp.text)\n",
    "soup.find('h1').text"
   ]
  },
  {
   "cell_type": "markdown",
   "metadata": {},
   "source": [
    "## 爬取中時新聞"
   ]
  },
  {
   "cell_type": "code",
   "execution_count": 14,
   "metadata": {
    "ExecuteTime": {
     "end_time": "2020-08-02T03:03:54.591696Z",
     "start_time": "2020-08-02T03:03:33.706625Z"
    }
   },
   "outputs": [
    {
     "name": "stdout",
     "output_type": "stream",
     "text": [
      "標題: 武漢肺炎》香港疫情嚴峻 廣東60人技術團前進香港助檢測\n",
      "內文: 香港第3波武漢肺炎疫情嚴峻，中國國家衛生健康委員會將會派出「內地核酸檢測支援隊」和「內地方艙醫院支援隊」到香港支援。（歐新社）〔即時新聞／綜合報導〕香港第3波武漢肺炎（新型冠狀病毒病，COVID-19）疫情嚴峻，中國國家衛生健康委員會今日（2日）將派出「內地核酸檢測支援隊」和「內地方艙醫院支援隊」到香港支援，協助控制疫情。綜合港媒報導，中國國家衛健委今日宣布，將派出「內地核酸檢測支援隊」，成員由廣東省的60名臨床檢驗技術人員組成，其中7人將在今日抵達香港，協助病毒檢測工作。請繼續往下閱讀...面對疫情再起，香港醫院管理局1日啟用在亞洲博覽館設立的香港方艙醫院，將提供500個床位，減輕醫院壓力。對此，中國國家衛健委也派出「內地方艙醫院支援隊」，由湖北省武漢市選出6名專家，指導香港方艙醫院。香港已連續11天單日新增病例數破百，昨新增125例確診，其中124例為境外移入，累計病例達3397例。「武漢肺炎專區」請點此，更多相關訊息，帶您第一手掌握。\n",
      "    不用抽 不用搶 現在用APP看新聞 保證天天中獎　\n",
      "    點我下載APP　\n",
      "    按我看活動辦法\n",
      "\n"
     ]
    }
   ],
   "source": [
    "url = 'https://news.ltn.com.tw/news/world/breakingnews/3247226'\n",
    "resp = requests.get(url, proxies=proxies,headers={'user-agent':'GoogleBot'})\n",
    "soup = BeautifulSoup(resp.text)\n",
    "print('標題:', soup.find('h1').text)\n",
    "print('內文:', ''.join(i.text for i in soup.find('div',{'itemprop':'articleBody'}).findAll('p')))"
   ]
  },
  {
   "cell_type": "code",
   "execution_count": null,
   "metadata": {},
   "outputs": [],
   "source": []
  }
 ],
 "metadata": {
  "kernelspec": {
   "display_name": "Python 3",
   "language": "python",
   "name": "python3"
  },
  "language_info": {
   "codemirror_mode": {
    "name": "ipython",
    "version": 3
   },
   "file_extension": ".py",
   "mimetype": "text/x-python",
   "name": "python",
   "nbconvert_exporter": "python",
   "pygments_lexer": "ipython3",
   "version": "3.7.7"
  },
  "toc": {
   "base_numbering": 1,
   "nav_menu": {},
   "number_sections": true,
   "sideBar": true,
   "skip_h1_title": false,
   "title_cell": "Table of Contents",
   "title_sidebar": "Contents",
   "toc_cell": false,
   "toc_position": {},
   "toc_section_display": true,
   "toc_window_display": false
  },
  "varInspector": {
   "cols": {
    "lenName": 16,
    "lenType": 16,
    "lenVar": 40
   },
   "kernels_config": {
    "python": {
     "delete_cmd_postfix": "",
     "delete_cmd_prefix": "del ",
     "library": "var_list.py",
     "varRefreshCmd": "print(var_dic_list())"
    },
    "r": {
     "delete_cmd_postfix": ") ",
     "delete_cmd_prefix": "rm(",
     "library": "var_list.r",
     "varRefreshCmd": "cat(var_dic_list()) "
    }
   },
   "types_to_exclude": [
    "module",
    "function",
    "builtin_function_or_method",
    "instance",
    "_Feature"
   ],
   "window_display": false
  }
 },
 "nbformat": 4,
 "nbformat_minor": 4
}
