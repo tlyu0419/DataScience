{
  "nbformat": 4,
  "nbformat_minor": 0,
  "metadata": {
    "colab": {
      "name": "中時電子報新聞爬蟲.ipynb",
      "provenance": [],
      "collapsed_sections": []
    },
    "kernelspec": {
      "name": "python3",
      "display_name": "Python 3"
    }
  },
  "cells": [
    {
      "cell_type": "markdown",
      "metadata": {
        "id": "h_jBeBxQKC8l",
        "colab_type": "text"
      },
      "source": [
        "# 載入使用套件"
      ]
    },
    {
      "cell_type": "code",
      "metadata": {
        "id": "x0ZPnkI0KCML",
        "colab_type": "code",
        "colab": {
          "base_uri": "https://localhost:8080/",
          "height": 224
        },
        "outputId": "12a0f7cb-6fbb-474e-abad-55c263ad7951"
      },
      "source": [
        "!pip install tomorrow"
      ],
      "execution_count": null,
      "outputs": [
        {
          "output_type": "stream",
          "text": [
            "Collecting tomorrow\n",
            "  Downloading https://files.pythonhosted.org/packages/06/29/658616e215bcb0946bca1be430a989816d8a98598cab50133f32e11fa2b1/tomorrow-0.2.4.tar.gz\n",
            "Collecting futures>=2.2.0\n",
            "  Downloading https://files.pythonhosted.org/packages/05/80/f41cca0ea1ff69bce7e7a7d76182b47bb4e1a494380a532af3e8ee70b9ec/futures-3.1.1-py3-none-any.whl\n",
            "Building wheels for collected packages: tomorrow\n",
            "  Building wheel for tomorrow (setup.py) ... \u001b[?25l\u001b[?25hdone\n",
            "  Created wheel for tomorrow: filename=tomorrow-0.2.4-cp36-none-any.whl size=3130 sha256=bd6844cab4d39b827b405ae21e0ae03efbff31a774e383dec5482af76060d215\n",
            "  Stored in directory: /root/.cache/pip/wheels/b0/47/cc/73e5cdc873528fd7933dc4d8cdeb67b899fe9c263d0cbc037f\n",
            "Successfully built tomorrow\n",
            "Installing collected packages: futures, tomorrow\n",
            "Successfully installed futures-3.1.1 tomorrow-0.2.4\n"
          ],
          "name": "stdout"
        }
      ]
    },
    {
      "cell_type": "code",
      "metadata": {
        "id": "JNFFavnzJwMi",
        "colab_type": "code",
        "colab": {}
      },
      "source": [
        "# 爬蟲類套件\n",
        "import requests\n",
        "import json\n",
        "from bs4 import BeautifulSoup\n",
        "# 加入使用者資訊(如使用什麼瀏覽器、作業系統...等資訊)模擬真實瀏覽網頁的情況\n",
        "headers = {'User-Agent': 'Mozilla/5.0 (Windows NT 10.0; Win64; x64) AppleWebKit/537.36 (KHTML, like Gecko) Chrome/73.0.3683.103 Safari/537.36'}\n",
        "from tomorrow import threads\n",
        "# 資料整理類套件\n",
        "import pandas as pd\n",
        "import re\n",
        "from datetime import datetime\n",
        "\n",
        "# 其他\n",
        "import os"
      ],
      "execution_count": null,
      "outputs": []
    },
    {
      "cell_type": "markdown",
      "metadata": {
        "id": "-aYp3KczKQjL",
        "colab_type": "text"
      },
      "source": [
        "# 擷取一篇新聞"
      ]
    },
    {
      "cell_type": "code",
      "metadata": {
        "id": "y5aNFIOUKKJG",
        "colab_type": "code",
        "colab": {}
      },
      "source": [
        "def GetNews_chinatimes(response):\n",
        "    soup = BeautifulSoup(response.text)\n",
        "    url = soup.find('link')['href']\n",
        "    ndf = pd.DataFrame(data = [{'TITLE':soup.find('h1', attrs={'class':'article-title'}).text,\n",
        "                                'TIME':datetime.strptime(soup.find('meta', attrs={'property':'article:published_time'})['content'],'%Y-%m-%dT%H:%M:%S+08:00'),\n",
        "                                'CATEGORY':soup.find('meta',attrs={'property':'article:section'})['content'],\n",
        "                                'DESCRIPTION':soup.find('meta',attrs={'name':'description'})['content'],\n",
        "                                'CONTENT':'\\n'.join(i.text for i in soup.find('div',attrs={'class':'article-body'}).find_all('p')),\n",
        "                                'KEYWORDS':soup.find('meta',{'name':'news_keywords'})['content'],\n",
        "                                'FROM':soup.find('meta',{'name':'publisher'})['content'],\n",
        "                                'LINK':soup.find('meta', {'property':'og:url'})['content']}],\n",
        "                       columns = ['TITLE', 'TIME', 'CATEGORY', 'DESCRIPTION', 'CONTENT','KEYWORDS', 'FROM', 'LINK']) \n",
        "    return ndf"
      ],
      "execution_count": null,
      "outputs": []
    },
    {
      "cell_type": "code",
      "metadata": {
        "id": "hHJKzFHH1thB",
        "colab_type": "code",
        "colab": {
          "base_uri": "https://localhost:8080/",
          "height": 304
        },
        "outputId": "694d63af-0890-4d95-8e77-6f6b96134035"
      },
      "source": [
        "url = 'https://www.chinatimes.com/newspapers/20191028000424-260118?chdtv'\n",
        "resp = requests.get(url)\n",
        "GetNews_chinatimes(resp)"
      ],
      "execution_count": null,
      "outputs": [
        {
          "output_type": "execute_result",
          "data": {
            "text/html": [
              "<div>\n",
              "<style scoped>\n",
              "    .dataframe tbody tr th:only-of-type {\n",
              "        vertical-align: middle;\n",
              "    }\n",
              "\n",
              "    .dataframe tbody tr th {\n",
              "        vertical-align: top;\n",
              "    }\n",
              "\n",
              "    .dataframe thead th {\n",
              "        text-align: right;\n",
              "    }\n",
              "</style>\n",
              "<table border=\"1\" class=\"dataframe\">\n",
              "  <thead>\n",
              "    <tr style=\"text-align: right;\">\n",
              "      <th></th>\n",
              "      <th>TITLE</th>\n",
              "      <th>TIME</th>\n",
              "      <th>CATEGORY</th>\n",
              "      <th>DESCRIPTION</th>\n",
              "      <th>CONTENT</th>\n",
              "      <th>KEYWORDS</th>\n",
              "      <th>FROM</th>\n",
              "      <th>LINK</th>\n",
              "    </tr>\n",
              "  </thead>\n",
              "  <tbody>\n",
              "    <tr>\n",
              "      <th>0</th>\n",
              "      <td>直球對決 韓接招青年辣提問！可以討厭我 但請聽我的政策</td>\n",
              "      <td>2019-10-28 04:10:19</td>\n",
              "      <td>政治要聞</td>\n",
              "      <td>國民黨總統參選人韓國瑜昨晚在台北舉辦青年論壇，標榜「走出同溫層」，果然在場青年提問辛辣，毫不...</td>\n",
              "      <td>國民黨總統參選人韓國瑜昨晚在台北舉辦青年論壇，標榜「走出同溫層」，果然在場青年提問辛辣，毫不...</td>\n",
              "      <td>韓國瑜,國民黨,2020大選</td>\n",
              "      <td>中時電子報</td>\n",
              "      <td>https://www.chinatimes.com/newspapers/20191028...</td>\n",
              "    </tr>\n",
              "  </tbody>\n",
              "</table>\n",
              "</div>"
            ],
            "text/plain": [
              "                         TITLE  ...                                               LINK\n",
              "0  直球對決 韓接招青年辣提問！可以討厭我 但請聽我的政策  ...  https://www.chinatimes.com/newspapers/20191028...\n",
              "\n",
              "[1 rows x 8 columns]"
            ]
          },
          "metadata": {
            "tags": []
          },
          "execution_count": 4
        }
      ]
    },
    {
      "cell_type": "markdown",
      "metadata": {
        "id": "5gkA6KoWasNL",
        "colab_type": "text"
      },
      "source": [
        "# 擷取特定關鍵詞新聞的連結清單"
      ]
    },
    {
      "cell_type": "code",
      "metadata": {
        "id": "QvlG2w58eYLV",
        "colab_type": "code",
        "colab": {}
      },
      "source": [
        "def GetLinks_chinatimes(response):\n",
        "    links = []\n",
        "    soup = BeautifulSoup(response.text)\n",
        "    for i in soup.find_all('h3'):\n",
        "        url = i.find('a')['href']\n",
        "        links.append(url)\n",
        "    return links"
      ],
      "execution_count": null,
      "outputs": []
    },
    {
      "cell_type": "code",
      "metadata": {
        "id": "OWPYMTjySBbI",
        "colab_type": "code",
        "colab": {
          "base_uri": "https://localhost:8080/",
          "height": 357
        },
        "outputId": "f617e39b-c5a9-44d4-c37e-ba5dd0848031"
      },
      "source": [
        "url = 'https://www.chinatimes.com/search/美國'\n",
        "resp = requests.get(url)\n",
        "GetLinks_chinatimes(resp)"
      ],
      "execution_count": null,
      "outputs": [
        {
          "output_type": "execute_result",
          "data": {
            "text/plain": [
              "['https://www.chinatimes.com/newspapers/20200131000218-260203',\n",
              " 'https://www.chinatimes.com/realtimenews/20200131001427-260408',\n",
              " 'https://www.chinatimes.com/realtimenews/20200131000791-260408',\n",
              " 'https://www.chinatimes.com/newspapers/20200131000370-260208',\n",
              " 'https://www.chinatimes.com/newspapers/20200131000217-260203',\n",
              " 'https://www.chinatimes.com/newspapers/20200131000375-260208',\n",
              " 'https://www.chinatimes.com/newspapers/20200131000200-260203',\n",
              " 'https://www.chinatimes.com/newspapers/20200131000117-260301',\n",
              " 'https://www.chinatimes.com/realtimenews/20200131003148-260410',\n",
              " 'https://www.chinatimes.com/realtimenews/20200131002544-260410',\n",
              " 'https://www.chinatimes.com/realtimenews/20200131001828-260407',\n",
              " 'https://www.chinatimes.com/hottopic/20200131003838-260804',\n",
              " 'https://www.chinatimes.com/opinion/20200131000004-262115',\n",
              " 'https://www.chinatimes.com/realtimenews/20200131000771-260408',\n",
              " 'https://www.chinatimes.com/realtimenews/20200131001564-260408',\n",
              " 'https://www.chinatimes.com/hottopic/20200131003597-260803',\n",
              " 'https://www.chinatimes.com/newspapers/20200130000257-260205',\n",
              " 'https://www.chinatimes.com/newspapers/20200130000183-260310',\n",
              " 'https://www.chinatimes.com/realtimenews/20200130002391-260410',\n",
              " 'https://www.chinatimes.com/realtimenews/20200130001317-260410']"
            ]
          },
          "metadata": {
            "tags": []
          },
          "execution_count": 6
        }
      ]
    },
    {
      "cell_type": "markdown",
      "metadata": {
        "id": "o8XdW5NYe9A6",
        "colab_type": "text"
      },
      "source": [
        "## 開啟多線程功能"
      ]
    },
    {
      "cell_type": "code",
      "metadata": {
        "id": "_n-Hv-bv2L0l",
        "colab_type": "code",
        "colab": {}
      },
      "source": [
        "@threads(5)\n",
        "def MultiThread_Crawl(url):\n",
        "    try:\n",
        "        return requests.get(url, headers=headers)\n",
        "    except:\n",
        "        pass"
      ],
      "execution_count": null,
      "outputs": []
    },
    {
      "cell_type": "markdown",
      "metadata": {
        "id": "DCxH7U2ke2dy",
        "colab_type": "text"
      },
      "source": [
        "# 組合應用"
      ]
    },
    {
      "cell_type": "code",
      "metadata": {
        "id": "RX92OY-rURhz",
        "colab_type": "code",
        "colab": {}
      },
      "source": [
        "def CrawlNews_chinatimes(keywords, pages):\n",
        "    # 截取多個分頁的新聞連結\n",
        "    links = []\n",
        "    for i in range(pages):\n",
        "        url = 'https://www.chinatimes.com/search/{}?page={}'.format(keywords, i+1)\n",
        "        resp = requests.get(url)\n",
        "        links += GetLinks_chinatimes(resp)\n",
        "        links = list(set(links))  \n",
        "        print('There are {} links in page {}.'.format(len(links),str(i)))\n",
        "\n",
        "    # 多線程爬蟲\n",
        "    responses = [MultiThread_Crawl(link) for link in links]\n",
        "\n",
        "    # 整理成DataFrame\n",
        "    list_of_dataframes = []\n",
        "    for response in responses:\n",
        "        try:\n",
        "            ndf = GetNews_chinatimes(response)\n",
        "            list_of_dataframes.append(ndf)\n",
        "        except:\n",
        "            pass\n",
        "    df = pd.concat(list_of_dataframes, ignore_index=True)\n",
        "    print('There are {} News in DataFrame.'.format(len(df)))\n",
        "    return df"
      ],
      "execution_count": null,
      "outputs": []
    },
    {
      "cell_type": "markdown",
      "metadata": {
        "id": "cfT_o-vtOe4M",
        "colab_type": "text"
      },
      "source": [
        "- 爬蟲前可以先手動查詢大約有多少新聞"
      ]
    },
    {
      "cell_type": "code",
      "metadata": {
        "id": "4Y0jC0WKhUTL",
        "colab_type": "code",
        "colab": {
          "base_uri": "https://localhost:8080/",
          "height": 238
        },
        "outputId": "5157fff9-0613-4ecc-8289-a7000436aab2"
      },
      "source": [
        "%%time\n",
        "# 可以自行替換查詢的關鍵字，另外需要更多新聞的人也可以把 pages 的數值調高)\n",
        "df = CrawlNews_chinatimes(keywords='台積電', pages=10)"
      ],
      "execution_count": null,
      "outputs": [
        {
          "output_type": "stream",
          "text": [
            "There are 20 links in page 0.\n",
            "There are 40 links in page 1.\n",
            "There are 60 links in page 2.\n",
            "There are 80 links in page 3.\n",
            "There are 100 links in page 4.\n",
            "There are 120 links in page 5.\n",
            "There are 136 links in page 6.\n",
            "There are 156 links in page 7.\n",
            "There are 176 links in page 8.\n",
            "There are 196 links in page 9.\n",
            "There are 195 News in DataFrame.\n",
            "CPU times: user 8.9 s, sys: 292 ms, total: 9.19 s\n",
            "Wall time: 23.4 s\n"
          ],
          "name": "stdout"
        }
      ]
    },
    {
      "cell_type": "code",
      "metadata": {
        "id": "0677OyIujarK",
        "colab_type": "code",
        "colab": {
          "base_uri": "https://localhost:8080/",
          "height": 1000
        },
        "outputId": "b487f767-077e-4dbf-c420-f4f889b6ecc0"
      },
      "source": [
        "df"
      ],
      "execution_count": null,
      "outputs": [
        {
          "output_type": "execute_result",
          "data": {
            "text/html": [
              "<div>\n",
              "<style scoped>\n",
              "    .dataframe tbody tr th:only-of-type {\n",
              "        vertical-align: middle;\n",
              "    }\n",
              "\n",
              "    .dataframe tbody tr th {\n",
              "        vertical-align: top;\n",
              "    }\n",
              "\n",
              "    .dataframe thead th {\n",
              "        text-align: right;\n",
              "    }\n",
              "</style>\n",
              "<table border=\"1\" class=\"dataframe\">\n",
              "  <thead>\n",
              "    <tr style=\"text-align: right;\">\n",
              "      <th></th>\n",
              "      <th>TITLE</th>\n",
              "      <th>TIME</th>\n",
              "      <th>CATEGORY</th>\n",
              "      <th>DESCRIPTION</th>\n",
              "      <th>CONTENT</th>\n",
              "      <th>KEYWORDS</th>\n",
              "      <th>FROM</th>\n",
              "      <th>LINK</th>\n",
              "    </tr>\n",
              "  </thead>\n",
              "  <tbody>\n",
              "    <tr>\n",
              "      <th>0</th>\n",
              "      <td>《盤後解析》月線有撐守萬二，封關前提防賣壓</td>\n",
              "      <td>2020-01-16 14:32:06</td>\n",
              "      <td>財經</td>\n",
              "      <td>受到台積電(2330)下挫5.5元，影響指數達50點，台股開低走低，終場以12066.93點...</td>\n",
              "      <td>受到台積電(2330)下挫5.5元，影響指數達50點，台股開低走低，終場以12066.93點...</td>\n",
              "      <td>台積電,指數</td>\n",
              "      <td>中時電子報</td>\n",
              "      <td>https://www.chinatimes.com/realtimenews/202001...</td>\n",
              "    </tr>\n",
              "    <tr>\n",
              "      <th>1</th>\n",
              "      <td>台積電前瞻佈局賽 元智大學奪首獎</td>\n",
              "      <td>2020-01-21 04:10:06</td>\n",
              "      <td>產業．科技</td>\n",
              "      <td>晶圓代工龍頭台積電20日宣布，首屆「前瞻佈局大賽」經過為期4個月的賽程，兩階段的競賽，由元智...</td>\n",
              "      <td>晶圓代工龍頭台積電20日宣布，首屆「前瞻佈局大賽」經過為期4個月的賽程，兩階段的競賽，由元智...</td>\n",
              "      <td>台積電</td>\n",
              "      <td>中時電子報</td>\n",
              "      <td>https://www.chinatimes.com/newspapers/20200121...</td>\n",
              "    </tr>\n",
              "    <tr>\n",
              "      <th>2</th>\n",
              "      <td>嚇！台積電ADR慘崩  台股後天難逃暴跌</td>\n",
              "      <td>2020-01-28 09:26:06</td>\n",
              "      <td>財經</td>\n",
              "      <td>武漢肺炎疫情持續延燒，市場擔憂恐影響全球經濟成長，華爾街投資人驚嚇狂賣股票，美股三大指數全面...</td>\n",
              "      <td>武漢肺炎疫情持續延燒，市場擔憂恐影響全球經濟成長，華爾街投資人驚嚇狂賣股票，美股三大指數全面...</td>\n",
              "      <td>半導體,台積電,道瓊,美股,肺炎,疫情,美光,英特爾,輝達</td>\n",
              "      <td>中時電子報</td>\n",
              "      <td>https://www.chinatimes.com/realtimenews/202001...</td>\n",
              "    </tr>\n",
              "    <tr>\n",
              "      <th>3</th>\n",
              "      <td>12檔外資狂敲 扮明燈</td>\n",
              "      <td>2020-01-31 04:10:01</td>\n",
              "      <td>證券．權證</td>\n",
              "      <td>台股30日重挫近700點，但外資只賣超近181億元，投資專家指出，外資換手激烈，不要只看賣超...</td>\n",
              "      <td>台股30日重挫近700點，但外資只賣超近181億元，投資專家指出，外資換手激烈，不要只看賣超...</td>\n",
              "      <td>台股</td>\n",
              "      <td>中時電子報</td>\n",
              "      <td>https://www.chinatimes.com/newspapers/20200131...</td>\n",
              "    </tr>\n",
              "    <tr>\n",
              "      <th>4</th>\n",
              "      <td>聯發科5G晶片夯 陸手機廠預付訂金</td>\n",
              "      <td>2020-01-30 04:10:00</td>\n",
              "      <td>產業．科技</td>\n",
              "      <td>5G智慧手機已經在2020年如雨後春筍般問世，品牌廠更排定全年的新機發表計畫，5G手機晶片已...</td>\n",
              "      <td>5G智慧手機已經在2020年如雨後春筍般問世，品牌廠更排定全年的新機發表計畫，5G手機晶片已...</td>\n",
              "      <td>台積電,產能</td>\n",
              "      <td>中時電子報</td>\n",
              "      <td>https://www.chinatimes.com/newspapers/20200130...</td>\n",
              "    </tr>\n",
              "    <tr>\n",
              "      <th>...</th>\n",
              "      <td>...</td>\n",
              "      <td>...</td>\n",
              "      <td>...</td>\n",
              "      <td>...</td>\n",
              "      <td>...</td>\n",
              "      <td>...</td>\n",
              "      <td>...</td>\n",
              "      <td>...</td>\n",
              "    </tr>\n",
              "    <tr>\n",
              "      <th>190</th>\n",
              "      <td>老美斷陸企肥單慘了？ 台積電7奈米大功臣沒在怕</td>\n",
              "      <td>2020-01-27 14:30:00</td>\n",
              "      <td>財經</td>\n",
              "      <td>半導體設備大廠荷蘭商艾司摩爾（ASML）獨家供應的EUV光刻設備，為全球晶圓代工龍頭台積電、...</td>\n",
              "      <td>半導體設備大廠荷蘭商艾司摩爾（ASML）獨家供應的EUV光刻設備，為全球晶圓代工龍頭台積電、...</td>\n",
              "      <td>ASML,台積電, EUV,中芯國際</td>\n",
              "      <td>中時電子報</td>\n",
              "      <td>https://www.chinatimes.com/realtimenews/202001...</td>\n",
              "    </tr>\n",
              "    <tr>\n",
              "      <th>191</th>\n",
              "      <td>逐洞賽》倫元投顧分析師陳學進</td>\n",
              "      <td>2020-01-20 17:10:57</td>\n",
              "      <td>財經</td>\n",
              "      <td>倫元投顧分析師陳學進表示，台股20日開高震盪收紅，終場上漲28.42點，漲幅0.24％，收在...</td>\n",
              "      <td>倫元投顧分析師陳學進表示，台股20日開高震盪收紅，終場上漲28.42點，漲幅0.24％，收在...</td>\n",
              "      <td>台積電,倫元投顧分析師陳學進,台股,終場,漲幅</td>\n",
              "      <td>中時電子報</td>\n",
              "      <td>https://www.chinatimes.com/realtimenews/202001...</td>\n",
              "    </tr>\n",
              "    <tr>\n",
              "      <th>192</th>\n",
              "      <td>《晨間解盤》短線震盪，擇優布局(日盛投顧提供)</td>\n",
              "      <td>2020-01-20 09:16:25</td>\n",
              "      <td>財經</td>\n",
              "      <td>美國上周五(1/17)新屋開工數據的亮麗，使得投資人樂觀情緒延續美股再創新高，終場美股四大指...</td>\n",
              "      <td>美國上周五(1/17)新屋開工數據的亮麗，使得投資人樂觀情緒延續美股再創新高，終場美股四大指...</td>\n",
              "      <td>台股,解盤</td>\n",
              "      <td>中時電子報</td>\n",
              "      <td>https://www.chinatimes.com/realtimenews/202001...</td>\n",
              "    </tr>\n",
              "    <tr>\n",
              "      <th>193</th>\n",
              "      <td>全押台積電太可惜！ 封關前看這幾檔黑馬奔騰</td>\n",
              "      <td>2020-01-19 17:40:00</td>\n",
              "      <td>財經</td>\n",
              "      <td>台股在二○一九年漲勢驚人，加權指數從年初的九三一九點起漲，到十二月三十一日最後交易日以一一九...</td>\n",
              "      <td>台股在二○一九年漲勢驚人，加權指數從年初的九三一九點起漲，到十二月三十一日最後交易日以一一九...</td>\n",
              "      <td>記憶體,台股,台積電,聯發科</td>\n",
              "      <td>中時電子報</td>\n",
              "      <td>https://www.chinatimes.com/realtimenews/202001...</td>\n",
              "    </tr>\n",
              "    <tr>\n",
              "      <th>194</th>\n",
              "      <td>財報慘！美晶片廠倒地 台積電恐中槍？</td>\n",
              "      <td>2020-01-29 16:37:41</td>\n",
              "      <td>財經</td>\n",
              "      <td>休市9天的台股將在明（30）日開盤，投資人除了留意武漢肺炎疫情發展外，也得緊盯美國企業的超級...</td>\n",
              "      <td>休市9天的台股將在明（30）日開盤，投資人除了留意武漢肺炎疫情發展外，也得緊盯美國企業的超級...</td>\n",
              "      <td>台積電賽靈思,武漢,肺炎,疫情,半導體</td>\n",
              "      <td>中時電子報</td>\n",
              "      <td>https://www.chinatimes.com/realtimenews/202001...</td>\n",
              "    </tr>\n",
              "  </tbody>\n",
              "</table>\n",
              "<p>195 rows × 8 columns</p>\n",
              "</div>"
            ],
            "text/plain": [
              "                       TITLE  ...                                               LINK\n",
              "0      《盤後解析》月線有撐守萬二，封關前提防賣壓  ...  https://www.chinatimes.com/realtimenews/202001...\n",
              "1           台積電前瞻佈局賽 元智大學奪首獎  ...  https://www.chinatimes.com/newspapers/20200121...\n",
              "2       嚇！台積電ADR慘崩  台股後天難逃暴跌  ...  https://www.chinatimes.com/realtimenews/202001...\n",
              "3                12檔外資狂敲 扮明燈  ...  https://www.chinatimes.com/newspapers/20200131...\n",
              "4          聯發科5G晶片夯 陸手機廠預付訂金  ...  https://www.chinatimes.com/newspapers/20200130...\n",
              "..                       ...  ...                                                ...\n",
              "190  老美斷陸企肥單慘了？ 台積電7奈米大功臣沒在怕  ...  https://www.chinatimes.com/realtimenews/202001...\n",
              "191           逐洞賽》倫元投顧分析師陳學進  ...  https://www.chinatimes.com/realtimenews/202001...\n",
              "192  《晨間解盤》短線震盪，擇優布局(日盛投顧提供)  ...  https://www.chinatimes.com/realtimenews/202001...\n",
              "193    全押台積電太可惜！ 封關前看這幾檔黑馬奔騰  ...  https://www.chinatimes.com/realtimenews/202001...\n",
              "194       財報慘！美晶片廠倒地 台積電恐中槍？  ...  https://www.chinatimes.com/realtimenews/202001...\n",
              "\n",
              "[195 rows x 8 columns]"
            ]
          },
          "metadata": {
            "tags": []
          },
          "execution_count": 10
        }
      ]
    },
    {
      "cell_type": "markdown",
      "metadata": {
        "id": "9-MIO4qUKyHh",
        "colab_type": "text"
      },
      "source": [
        "# 儲存結果"
      ]
    },
    {
      "cell_type": "markdown",
      "metadata": {
        "id": "1ZLwjZ39kF_K",
        "colab_type": "text"
      },
      "source": [
        "## 串接 Google Drive 空間"
      ]
    },
    {
      "cell_type": "code",
      "metadata": {
        "id": "fpLQ0x6lKwT3",
        "colab_type": "code",
        "colab": {
          "base_uri": "https://localhost:8080/",
          "height": 122
        },
        "outputId": "4d33ebc3-f1ad-447d-e667-898cd9f8cca1"
      },
      "source": [
        "from google.colab import drive\n",
        "drive.mount('/content/drive')"
      ],
      "execution_count": null,
      "outputs": [
        {
          "output_type": "stream",
          "text": [
            "Go to this URL in a browser: https://accounts.google.com/o/oauth2/auth?client_id=947318989803-6bn6qk8qdgf4n4g3pfee6491hc0brc4i.apps.googleusercontent.com&redirect_uri=urn%3aietf%3awg%3aoauth%3a2.0%3aoob&response_type=code&scope=email%20https%3a%2f%2fwww.googleapis.com%2fauth%2fdocs.test%20https%3a%2f%2fwww.googleapis.com%2fauth%2fdrive%20https%3a%2f%2fwww.googleapis.com%2fauth%2fdrive.photos.readonly%20https%3a%2f%2fwww.googleapis.com%2fauth%2fpeopleapi.readonly\n",
            "\n",
            "Enter your authorization code:\n",
            "··········\n",
            "Mounted at /content/drive\n"
          ],
          "name": "stdout"
        }
      ]
    },
    {
      "cell_type": "markdown",
      "metadata": {
        "id": "vMkE2evVMCba",
        "colab_type": "text"
      },
      "source": [
        "## 保存資料\n",
        "- 資料會保存在 Google Drive 上 Colab Notebooks/WebCrawler/TW_News/News 的資料夾空間中"
      ]
    },
    {
      "cell_type": "code",
      "metadata": {
        "id": "reaH-2LhLKk7",
        "colab_type": "code",
        "colab": {}
      },
      "source": [
        "import os\n",
        "path = '/content/drive/My Drive/Colab Notebooks/WebCrawler/TW_News/News'\n",
        "# 如果不存在這個資料夾就新建這個資料夾\n",
        "if not os.path.exists(path):\n",
        "    os.makedirs(path)\n",
        "df.to_excel(path + '/News_chinatimes.xlsx')"
      ],
      "execution_count": null,
      "outputs": []
    },
    {
      "cell_type": "code",
      "metadata": {
        "id": "_pdx8-lcqjjv",
        "colab_type": "code",
        "colab": {}
      },
      "source": [
        ""
      ],
      "execution_count": null,
      "outputs": []
    }
  ]
}