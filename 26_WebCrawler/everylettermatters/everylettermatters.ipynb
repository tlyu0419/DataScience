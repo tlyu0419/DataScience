{
 "cells": [
  {
   "cell_type": "code",
   "execution_count": 1,
   "metadata": {
    "ExecuteTime": {
     "end_time": "2020-06-11T12:23:57.457060Z",
     "start_time": "2020-06-11T12:23:56.461334Z"
    }
   },
   "outputs": [],
   "source": [
    "import requests\n",
    "from bs4 import BeautifulSoup\n",
    "import pandas as pd"
   ]
  },
  {
   "cell_type": "code",
   "execution_count": 2,
   "metadata": {
    "ExecuteTime": {
     "end_time": "2020-06-11T12:24:01.002928Z",
     "start_time": "2020-06-11T12:24:00.047863Z"
    }
   },
   "outputs": [],
   "source": [
    "url='https://activity.books.com.tw/everylettermatters/sentence/most'\n",
    "resp = requests.get(url)\n",
    "soup = BeautifulSoup(resp.text)"
   ]
  },
  {
   "cell_type": "code",
   "execution_count": 6,
   "metadata": {
    "ExecuteTime": {
     "end_time": "2020-06-11T12:29:01.712198Z",
     "start_time": "2020-06-11T12:29:01.031851Z"
    }
   },
   "outputs": [],
   "source": [
    "df = []\n",
    "for i in soup.select('ul > li'):\n",
    "    try:\n",
    "        sent = i.find('h5').text # 句子\n",
    "        auth = i.findAll('span')[1].text # 作者\n",
    "        prod = i.find('span').text # 出處\n",
    "        prod_link = i.findAll('span')[0].find('a')['href'] # 出處連結\n",
    "        collect = i.findAll('em')[0].text # 收藏數\n",
    "        share = i.findAll('em')[1].text # 分享數\n",
    "        ndf = pd.DataFrame([{'句子':sent,\n",
    "                             '作者':auth,\n",
    "                             '出處':prod,\n",
    "                             '出處連結':prod_link,\n",
    "                             '收藏數':collect,\n",
    "                             '分享數':share}],\n",
    "                          columns = ['句子', '作者', '出處', '收藏數', '分享數', '出處連結'])\n",
    "        df.append(ndf)\n",
    "    except:\n",
    "        pass\n",
    "df = pd.concat(df, ignore_index=True)"
   ]
  },
  {
   "cell_type": "code",
   "execution_count": 7,
   "metadata": {
    "ExecuteTime": {
     "end_time": "2020-06-11T12:29:08.526158Z",
     "start_time": "2020-06-11T12:29:08.310221Z"
    }
   },
   "outputs": [
    {
     "data": {
      "text/html": [
       "<div>\n",
       "<style scoped>\n",
       "    .dataframe tbody tr th:only-of-type {\n",
       "        vertical-align: middle;\n",
       "    }\n",
       "\n",
       "    .dataframe tbody tr th {\n",
       "        vertical-align: top;\n",
       "    }\n",
       "\n",
       "    .dataframe thead th {\n",
       "        text-align: right;\n",
       "    }\n",
       "</style>\n",
       "<table border=\"1\" class=\"dataframe\">\n",
       "  <thead>\n",
       "    <tr style=\"text-align: right;\">\n",
       "      <th></th>\n",
       "      <th>句子</th>\n",
       "      <th>作者</th>\n",
       "      <th>出處</th>\n",
       "      <th>收藏數</th>\n",
       "      <th>分享數</th>\n",
       "      <th>出處連結</th>\n",
       "    </tr>\n",
       "  </thead>\n",
       "  <tbody>\n",
       "    <tr>\n",
       "      <th>0</th>\n",
       "      <td>你可能不知道自己要的是什麼，\\n但是，\\n要先知道自己，不要什麼</td>\n",
       "      <td>謝哲青</td>\n",
       "      <td>《走在夢想的路上》</td>\n",
       "      <td>2,831</td>\n",
       "      <td>532</td>\n",
       "      <td>http://www.books.com.tw/products/0010671909</td>\n",
       "    </tr>\n",
       "    <tr>\n",
       "      <th>1</th>\n",
       "      <td>有一天，或許你會發現，\\n最感動的不是你完成了，\\n而是你終於鼓起勇氣開始。</td>\n",
       "      <td>Peter Su</td>\n",
       "      <td>《愛：即使世界不斷讓你失望，也要繼續相信愛》</td>\n",
       "      <td>2,217</td>\n",
       "      <td>280</td>\n",
       "      <td>http://www.books.com.tw/products/0010663314</td>\n",
       "    </tr>\n",
       "    <tr>\n",
       "      <th>2</th>\n",
       "      <td>用你的微笑改變世界，但別讓世界改變了你的微笑。</td>\n",
       "      <td>劉軒</td>\n",
       "      <td>《Get Lucky!助你好運：九個心理習慣，讓你用小改變創造大運氣》</td>\n",
       "      <td>1,810</td>\n",
       "      <td>243</td>\n",
       "      <td>http://www.books.com.tw/products/0010659661</td>\n",
       "    </tr>\n",
       "    <tr>\n",
       "      <th>3</th>\n",
       "      <td>\\n如果你不知道你要去哪裡，\\n\\n那麼現在你在哪裡一點都不重要。</td>\n",
       "      <td>Lewis Carroll</td>\n",
       "      <td>《愛麗絲夢遊仙境(中英對照)》</td>\n",
       "      <td>1,617</td>\n",
       "      <td>184</td>\n",
       "      <td>http://www.books.com.tw/products/0010625608</td>\n",
       "    </tr>\n",
       "    <tr>\n",
       "      <th>4</th>\n",
       "      <td>真正重要的東西，只用眼睛是看不見的。</td>\n",
       "      <td>安東尼‧聖修伯里</td>\n",
       "      <td>《小王子【70周年精裝紀念版】》</td>\n",
       "      <td>1,555</td>\n",
       "      <td>122</td>\n",
       "      <td>http://www.books.com.tw/products/0010660414</td>\n",
       "    </tr>\n",
       "    <tr>\n",
       "      <th>...</th>\n",
       "      <td>...</td>\n",
       "      <td>...</td>\n",
       "      <td>...</td>\n",
       "      <td>...</td>\n",
       "      <td>...</td>\n",
       "      <td>...</td>\n",
       "    </tr>\n",
       "    <tr>\n",
       "      <th>495</th>\n",
       "      <td>沒人陪妳了，妳才會來找我，妳就是這樣。</td>\n",
       "      <td>李宮俊</td>\n",
       "      <td>《寫作名人名言大全》</td>\n",
       "      <td>36</td>\n",
       "      <td>4</td>\n",
       "      <td>http://www.books.com.tw/products/0010418035</td>\n",
       "    </tr>\n",
       "    <tr>\n",
       "      <th>496</th>\n",
       "      <td>如果妳想我，我可以去找妳。</td>\n",
       "      <td>李宮俊</td>\n",
       "      <td>《寫作名人名言大全》</td>\n",
       "      <td>36</td>\n",
       "      <td>10</td>\n",
       "      <td>http://www.books.com.tw/products/0010418035</td>\n",
       "    </tr>\n",
       "    <tr>\n",
       "      <th>497</th>\n",
       "      <td>讓妳知道，才算是喜歡。</td>\n",
       "      <td>李宮俊</td>\n",
       "      <td>《寫作名人名言大全》</td>\n",
       "      <td>36</td>\n",
       "      <td>8</td>\n",
       "      <td>http://www.books.com.tw/products/0010418035</td>\n",
       "    </tr>\n",
       "    <tr>\n",
       "      <th>498</th>\n",
       "      <td>When I was a young boy \\nMy mama said to me \\n...</td>\n",
       "      <td>Wreckless Eric</td>\n",
       "      <td>《口白人生 (藍光BD)》</td>\n",
       "      <td>36</td>\n",
       "      <td>14</td>\n",
       "      <td>http://www.books.com.tw/exep/prod/dvd/dvdfile....</td>\n",
       "    </tr>\n",
       "    <tr>\n",
       "      <th>499</th>\n",
       "      <td>我喜歡妳，暗示過了，也明示過了，還要我怎樣？</td>\n",
       "      <td>李宮俊</td>\n",
       "      <td>《寫作名人名言大全》</td>\n",
       "      <td>35</td>\n",
       "      <td>9</td>\n",
       "      <td>http://www.books.com.tw/products/0010418035</td>\n",
       "    </tr>\n",
       "  </tbody>\n",
       "</table>\n",
       "<p>500 rows × 6 columns</p>\n",
       "</div>"
      ],
      "text/plain": [
       "                                                    句子              作者  \\\n",
       "0                     你可能不知道自己要的是什麼，\\n但是，\\n要先知道自己，不要什麼             謝哲青   \n",
       "1               有一天，或許你會發現，\\n最感動的不是你完成了，\\n而是你終於鼓起勇氣開始。        Peter Su   \n",
       "2                              用你的微笑改變世界，但別讓世界改變了你的微笑。              劉軒   \n",
       "3                    \\n如果你不知道你要去哪裡，\\n\\n那麼現在你在哪裡一點都不重要。   Lewis Carroll   \n",
       "4                                   真正重要的東西，只用眼睛是看不見的。        安東尼‧聖修伯里   \n",
       "..                                                 ...             ...   \n",
       "495                                沒人陪妳了，妳才會來找我，妳就是這樣。             李宮俊   \n",
       "496                                      如果妳想我，我可以去找妳。             李宮俊   \n",
       "497                                        讓妳知道，才算是喜歡。             李宮俊   \n",
       "498  When I was a young boy \\nMy mama said to me \\n...  Wreckless Eric   \n",
       "499                             我喜歡妳，暗示過了，也明示過了，還要我怎樣？             李宮俊   \n",
       "\n",
       "                                      出處     收藏數   分享數  \\\n",
       "0                              《走在夢想的路上》  2,831   532    \n",
       "1                 《愛：即使世界不斷讓你失望，也要繼續相信愛》  2,217   280    \n",
       "2    《Get Lucky!助你好運：九個心理習慣，讓你用小改變創造大運氣》  1,810   243    \n",
       "3                        《愛麗絲夢遊仙境(中英對照)》  1,617   184    \n",
       "4                       《小王子【70周年精裝紀念版】》  1,555   122    \n",
       "..                                   ...     ...   ...   \n",
       "495                           《寫作名人名言大全》     36     4    \n",
       "496                           《寫作名人名言大全》     36    10    \n",
       "497                           《寫作名人名言大全》     36     8    \n",
       "498                        《口白人生 (藍光BD)》     36    14    \n",
       "499                           《寫作名人名言大全》     35     9    \n",
       "\n",
       "                                                  出處連結  \n",
       "0          http://www.books.com.tw/products/0010671909  \n",
       "1          http://www.books.com.tw/products/0010663314  \n",
       "2          http://www.books.com.tw/products/0010659661  \n",
       "3          http://www.books.com.tw/products/0010625608  \n",
       "4          http://www.books.com.tw/products/0010660414  \n",
       "..                                                 ...  \n",
       "495        http://www.books.com.tw/products/0010418035  \n",
       "496        http://www.books.com.tw/products/0010418035  \n",
       "497        http://www.books.com.tw/products/0010418035  \n",
       "498  http://www.books.com.tw/exep/prod/dvd/dvdfile....  \n",
       "499        http://www.books.com.tw/products/0010418035  \n",
       "\n",
       "[500 rows x 6 columns]"
      ]
     },
     "execution_count": 7,
     "metadata": {},
     "output_type": "execute_result"
    }
   ],
   "source": [
    "df.to_excel('./everylettermatters.xlsx')\n",
    "df"
   ]
  },
  {
   "cell_type": "code",
   "execution_count": null,
   "metadata": {},
   "outputs": [],
   "source": []
  }
 ],
 "metadata": {
  "kernelspec": {
   "display_name": "Python 3",
   "language": "python",
   "name": "python3"
  },
  "toc": {
   "base_numbering": 1,
   "nav_menu": {},
   "number_sections": true,
   "sideBar": true,
   "skip_h1_title": false,
   "title_cell": "Table of Contents",
   "title_sidebar": "Contents",
   "toc_cell": false,
   "toc_position": {},
   "toc_section_display": true,
   "toc_window_display": false
  },
  "varInspector": {
   "cols": {
    "lenName": 16,
    "lenType": 16,
    "lenVar": 40
   },
   "kernels_config": {
    "python": {
     "delete_cmd_postfix": "",
     "delete_cmd_prefix": "del ",
     "library": "var_list.py",
     "varRefreshCmd": "print(var_dic_list())"
    },
    "r": {
     "delete_cmd_postfix": ") ",
     "delete_cmd_prefix": "rm(",
     "library": "var_list.r",
     "varRefreshCmd": "cat(var_dic_list()) "
    }
   },
   "types_to_exclude": [
    "module",
    "function",
    "builtin_function_or_method",
    "instance",
    "_Feature"
   ],
   "window_display": false
  }
 },
 "nbformat": 4,
 "nbformat_minor": 4
}
