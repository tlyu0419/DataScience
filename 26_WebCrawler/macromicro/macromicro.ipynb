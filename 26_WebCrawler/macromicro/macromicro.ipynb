{
 "cells": [
  {
   "cell_type": "markdown",
   "id": "dc7e085e-a20b-427a-81a1-d8902699cb7b",
   "metadata": {},
   "source": [
    "# macromicro\n",
    "- 財經M平方"
   ]
  },
  {
   "cell_type": "code",
   "execution_count": 1,
   "id": "f39633be-8f14-4dac-ae17-5ca73d2e33aa",
   "metadata": {},
   "outputs": [],
   "source": [
    "import re\n",
    "import requests\n",
    "import pandas as pd"
   ]
  },
  {
   "cell_type": "code",
   "execution_count": 2,
   "id": "e8da59f2-9620-48f8-a8cd-31d5d783bb1f",
   "metadata": {},
   "outputs": [
    {
     "data": {
      "text/plain": [
       "'9voovfmovv64dfrl5jbkbt3o93'"
      ]
     },
     "execution_count": 2,
     "metadata": {},
     "output_type": "execute_result"
    }
   ],
   "source": [
    "rs = requests.Session()\n",
    "headers = {'User-Agent': 'Mozilla/5.0 (Windows NT 10.0; Win64; x64) AppleWebKit/537.36 (KHTML, like Gecko) Chrome/96.0.4664.55 Safari/537.36 Edg/96.0.1054.43'}\n",
    "resp = rs.get('https://www.macromicro.me/collections/5/us-price-relative', headers=headers)\n",
    "Auth = re.findall('data-stk=\"(.*?)\"', resp.text)[0]\n",
    "PHPSESSID = rs.cookies.get_dict()['PHPSESSID']\n",
    "PHPSESSID"
   ]
  },
  {
   "cell_type": "code",
   "execution_count": 3,
   "id": "b6481298-e624-4231-9d61-649e8ee0c678",
   "metadata": {},
   "outputs": [
    {
     "data": {
      "text/plain": [
       "dict_keys(['c:10', 'c:24', 'c:25', 'c:26', 'c:68', 'c:89', 'c:847', 'c:2135', 'c:3862', 'c:6300', 'c:17153', 'c:22021', 'c:22036', 'c:27686', 'c:27688', 'c:32033', 'c:34072'])"
      ]
     },
     "execution_count": 3,
     "metadata": {},
     "output_type": "execute_result"
    }
   ],
   "source": [
    "headers = {'Authorization': f'Bearer {Auth}',\n",
    "           'Cookie': f'PHPSESSID={PHPSESSID}'}\n",
    "url = 'https://www.macromicro.me/charts/data/10,24,89,68,25,26,27688,27686,22021,22036,847,2135,3862,6300,17153,32033,34072'\n",
    "resp = rs.get(url, headers=headers)\n",
    "resp.json()['data'].keys()"
   ]
  },
  {
   "cell_type": "code",
   "execution_count": 4,
   "id": "c66c0d29-888c-4a1d-aec5-d1c0899b7e62",
   "metadata": {},
   "outputs": [
    {
     "name": "stdout",
     "output_type": "stream",
     "text": [
      "美國-消費者物價指數[CPI] (SA, 年增率)\n",
      "美國-核心消費者物價指數[Core CPI] (年增率)\n",
      "美國-消費者物價指數[CPI]-房租 (年增率)\n",
      "美國-PCE物價指數 (年增率)\n",
      "美國-PCE核心物價指數 (年增率)\n",
      "美國-生產者物價指數[PPI] (年增率)\n",
      "美國-進口物價指數 (年增率)\n",
      "美國-出口物價指數 (年增率)\n",
      "美國-消費者物價指數[CPI]-食品和飲料 (年增率)\n",
      "美國-消費者物價指數[CPI]-房屋 (年增率)\n",
      "美國-消費者物價指數[CPI]-衣著服飾 (年增率)\n",
      "美國-消費者物價指數[CPI]-能源 (年增率)\n",
      "美國-消費者物價指數[CPI]-新車銷售\n",
      "美國-消費者物價指數[CPI]-二手車\n",
      "美國-消費者物價指數[CPI]-交通運輸服務 (年增率)\n",
      "美國-消費者物價指數[CPI]-醫療健保 (年增率)\n",
      "美國-消費者物價指數[CPI]-休閒娛樂 (年增率)\n",
      "美國-消費者物價指數[CPI]-教育&通訊 (年增率)\n",
      "美國-消費者物價指數[CPI]-食品和飲料 (月增率)\n",
      "美國-消費者物價指數[CPI]-房屋(月增率)\n",
      "美國-消費者物價指數[CPI]-衣著服飾 (月增率)\n",
      "美國-消費者物價指數[CPI]-能源 (月增率)\n",
      "美國-消費者物價指數[CPI]-新車銷售\n",
      "美國-消費者物價指數[CPI]-二手車\n",
      "美國-消費者物價指數[CPI]-交通運輸服務 (月增率)\n",
      "美國-消費者物價指數[CPI]-醫療健保 (月增率)\n",
      "美國-消費者物價指數[CPI]-休閒娛樂 (月增率)\n",
      "美國-消費者物價指數[CPI]-教育&通訊 (月增率)\n",
      "美國-未來5年之5年期預期通膨率\n",
      "美國-消費者物價指數[CPI] (SA, 年增率)\n",
      "NYMEX-WTI西德州原油期貨\n",
      "美國-ISM製造業指數[PMI]-原物料價格\n",
      "美國-消費者物價指數[CPI] (SA, 年增率)\n",
      "美國-消費者物價指數[CPI]-房租 (年增率)\n",
      "美國-出租房屋空置率\n",
      "美國-消費者物價指數[CPI] (SA, 年增率)\n",
      "iShares 美國抗通膨債券 ETF (TIP)\n",
      "美國-密大未來一年預期通膨率\n",
      "美國-密大未來五年預期通膨率\n",
      "美國-五年期美債平衡通膨率\n",
      "美國-十年期美債平衡通膨率\n",
      "美國-二十年期美債平衡通膨率\n",
      "美國-PCE物價指數 (年增率)\n",
      "美國-PCE核心物價指數 (年增率)\n",
      "美國-克里夫蘭聯儲通膨即時預測-PCE (年增率)\n",
      "美國-克里夫蘭聯儲通膨即時預測-核心PCE (年增率)\n",
      "美國-消費者物價指數[CPI] (SA, 年增率)\n",
      "美國-核心消費者物價指數[Core CPI] (年增率)\n",
      "美國-克里夫蘭聯儲通膨即時預測-CPI (年增率)\n",
      "美國-克里夫蘭聯儲通膨即時預測-核心CPI (年增率)\n",
      "美國-企業存貨銷售比-製造業\n",
      "美國-企業存貨銷售比-零售業\n",
      "美國-消費者物價指數[CPI] (SA, 年增率)\n",
      "美國-消費者物價指數[CPI]-新車銷售\n",
      "美國-消費者物價指數[CPI]-二手車\n"
     ]
    },
    {
     "data": {
      "text/html": [
       "<div>\n",
       "<style scoped>\n",
       "    .dataframe tbody tr th:only-of-type {\n",
       "        vertical-align: middle;\n",
       "    }\n",
       "\n",
       "    .dataframe tbody tr th {\n",
       "        vertical-align: top;\n",
       "    }\n",
       "\n",
       "    .dataframe thead th {\n",
       "        text-align: right;\n",
       "    }\n",
       "</style>\n",
       "<table border=\"1\" class=\"dataframe\">\n",
       "  <thead>\n",
       "    <tr style=\"text-align: right;\">\n",
       "      <th></th>\n",
       "      <th>Stat_name</th>\n",
       "      <th>Date</th>\n",
       "      <th>Value</th>\n",
       "    </tr>\n",
       "  </thead>\n",
       "  <tbody>\n",
       "    <tr>\n",
       "      <th>0</th>\n",
       "      <td>美國-消費者物價指數[CPI] (SA, 年增率)</td>\n",
       "      <td>1990-01-01</td>\n",
       "      <td>5.2000</td>\n",
       "    </tr>\n",
       "    <tr>\n",
       "      <th>1</th>\n",
       "      <td>美國-消費者物價指數[CPI] (SA, 年增率)</td>\n",
       "      <td>1990-02-01</td>\n",
       "      <td>5.2600</td>\n",
       "    </tr>\n",
       "    <tr>\n",
       "      <th>2</th>\n",
       "      <td>美國-消費者物價指數[CPI] (SA, 年增率)</td>\n",
       "      <td>1990-03-01</td>\n",
       "      <td>5.2400</td>\n",
       "    </tr>\n",
       "    <tr>\n",
       "      <th>3</th>\n",
       "      <td>美國-消費者物價指數[CPI] (SA, 年增率)</td>\n",
       "      <td>1990-04-01</td>\n",
       "      <td>4.7100</td>\n",
       "    </tr>\n",
       "    <tr>\n",
       "      <th>4</th>\n",
       "      <td>美國-消費者物價指數[CPI] (SA, 年增率)</td>\n",
       "      <td>1990-05-01</td>\n",
       "      <td>4.3700</td>\n",
       "    </tr>\n",
       "    <tr>\n",
       "      <th>...</th>\n",
       "      <td>...</td>\n",
       "      <td>...</td>\n",
       "      <td>...</td>\n",
       "    </tr>\n",
       "    <tr>\n",
       "      <th>21005</th>\n",
       "      <td>美國-消費者物價指數[CPI]-二手車</td>\n",
       "      <td>2021-06-01</td>\n",
       "      <td>5.3200</td>\n",
       "    </tr>\n",
       "    <tr>\n",
       "      <th>21006</th>\n",
       "      <td>美國-消費者物價指數[CPI]-二手車</td>\n",
       "      <td>2021-07-01</td>\n",
       "      <td>5.2800</td>\n",
       "    </tr>\n",
       "    <tr>\n",
       "      <th>21007</th>\n",
       "      <td>美國-消費者物價指數[CPI]-二手車</td>\n",
       "      <td>2021-08-01</td>\n",
       "      <td>5.2000</td>\n",
       "    </tr>\n",
       "    <tr>\n",
       "      <th>21008</th>\n",
       "      <td>美國-消費者物價指數[CPI]-二手車</td>\n",
       "      <td>2021-09-01</td>\n",
       "      <td>5.4000</td>\n",
       "    </tr>\n",
       "    <tr>\n",
       "      <th>21009</th>\n",
       "      <td>美國-消費者物價指數[CPI]-二手車</td>\n",
       "      <td>2021-10-01</td>\n",
       "      <td>6.2000</td>\n",
       "    </tr>\n",
       "  </tbody>\n",
       "</table>\n",
       "<p>21010 rows × 3 columns</p>\n",
       "</div>"
      ],
      "text/plain": [
       "                       Stat_name        Date   Value\n",
       "0      美國-消費者物價指數[CPI] (SA, 年增率)  1990-01-01  5.2000\n",
       "1      美國-消費者物價指數[CPI] (SA, 年增率)  1990-02-01  5.2600\n",
       "2      美國-消費者物價指數[CPI] (SA, 年增率)  1990-03-01  5.2400\n",
       "3      美國-消費者物價指數[CPI] (SA, 年增率)  1990-04-01  4.7100\n",
       "4      美國-消費者物價指數[CPI] (SA, 年增率)  1990-05-01  4.3700\n",
       "...                          ...         ...     ...\n",
       "21005        美國-消費者物價指數[CPI]-二手車  2021-06-01  5.3200\n",
       "21006        美國-消費者物價指數[CPI]-二手車  2021-07-01  5.2800\n",
       "21007        美國-消費者物價指數[CPI]-二手車  2021-08-01  5.2000\n",
       "21008        美國-消費者物價指數[CPI]-二手車  2021-09-01  5.4000\n",
       "21009        美國-消費者物價指數[CPI]-二手車  2021-10-01  6.2000\n",
       "\n",
       "[21010 rows x 3 columns]"
      ]
     },
     "execution_count": 4,
     "metadata": {},
     "output_type": "execute_result"
    }
   ],
   "source": [
    "df = []\n",
    "for key in resp.json()['data'].keys():\n",
    "    leng = len(resp.json()['data'][key]['c'])\n",
    "    for item in range(leng):\n",
    "        # stat_name\n",
    "        print(resp.json()['data'][key]['c'][item]['stats'][0]['stat_name'])\n",
    "        ndf = pd.DataFrame(resp.json()['data']['c:10']['s'][0],\n",
    "                           columns=['Date','Value'])\n",
    "        ndf['Stat_name'] = resp.json()['data'][key]['c'][item]['stats'][0]['stat_name']\n",
    "        df.append(ndf)\n",
    "df = pd.concat(df, ignore_index=True)\n",
    "df = df.loc[:, ['Stat_name', 'Date', 'Value']]\n",
    "df.to_excel('marromicro.xlsx', index=False)\n",
    "df"
   ]
  },
  {
   "cell_type": "code",
   "execution_count": null,
   "id": "9961ce85-96dc-4ad5-8376-ade697eb80f3",
   "metadata": {},
   "outputs": [],
   "source": []
  }
 ],
 "metadata": {
  "kernelspec": {
   "display_name": "Python 3 (ipykernel)",
   "language": "python",
   "name": "python3"
  },
  "language_info": {
   "codemirror_mode": {
    "name": "ipython",
    "version": 3
   },
   "file_extension": ".py",
   "mimetype": "text/x-python",
   "name": "python",
   "nbconvert_exporter": "python",
   "pygments_lexer": "ipython3",
   "version": "3.9.5"
  }
 },
 "nbformat": 4,
 "nbformat_minor": 5
}
