{
  "nbformat": 4,
  "nbformat_minor": 0,
  "metadata": {
    "kernelspec": {
      "display_name": "Python 3",
      "language": "python",
      "name": "python3"
    },
    "toc": {
      "base_numbering": 1,
      "nav_menu": {},
      "number_sections": true,
      "sideBar": true,
      "skip_h1_title": false,
      "title_cell": "Table of Contents",
      "title_sidebar": "Contents",
      "toc_cell": false,
      "toc_position": {},
      "toc_section_display": true,
      "toc_window_display": false
    },
    "varInspector": {
      "cols": {
        "lenName": 16,
        "lenType": 16,
        "lenVar": 40
      },
      "kernels_config": {
        "python": {
          "delete_cmd_postfix": "",
          "delete_cmd_prefix": "del ",
          "library": "var_list.py",
          "varRefreshCmd": "print(var_dic_list())"
        },
        "r": {
          "delete_cmd_postfix": ") ",
          "delete_cmd_prefix": "rm(",
          "library": "var_list.r",
          "varRefreshCmd": "cat(var_dic_list()) "
        }
      },
      "types_to_exclude": [
        "module",
        "function",
        "builtin_function_or_method",
        "instance",
        "_Feature"
      ],
      "window_display": false
    },
    "colab": {
      "name": "GooglePlay_Crawler.ipynb",
      "provenance": [],
      "collapsed_sections": [],
      "toc_visible": true
    }
  },
  "cells": [
    {
      "cell_type": "markdown",
      "metadata": {
        "id": "WvrkKg_5uoqL",
        "colab_type": "text"
      },
      "source": [
        "# 抓取 Googleplay 的 APP 評論與評分"
      ]
    },
    {
      "cell_type": "markdown",
      "metadata": {
        "id": "l0imPpZbuvzM",
        "colab_type": "text"
      },
      "source": [
        "## 安裝套件"
      ]
    },
    {
      "cell_type": "code",
      "metadata": {
        "id": "VyPjiMsiuybl",
        "colab_type": "code",
        "outputId": "fe3c15ee-db5e-4f2e-a8c4-9809481e9a7b",
        "colab": {
          "base_uri": "https://localhost:8080/",
          "height": 1000
        }
      },
      "source": [
        "!apt-get update\n",
        "!apt install chromium-chromedriver\n",
        "!pip install selenium"
      ],
      "execution_count": 0,
      "outputs": [
        {
          "output_type": "stream",
          "text": [
            "\r0% [Working]\r            \rGet:1 http://security.ubuntu.com/ubuntu bionic-security InRelease [88.7 kB]\n",
            "\r0% [Connecting to archive.ubuntu.com (91.189.88.174)] [1 InRelease 14.2 kB/88.7\r0% [Waiting for headers] [Connecting to cloud.r-project.org] [Waiting for heade\r0% [1 InRelease gpgv 88.7 kB] [Waiting for headers] [Connecting to cloud.r-proj\r                                                                               \rIgn:2 https://developer.download.nvidia.com/compute/cuda/repos/ubuntu1804/x86_64  InRelease\n",
            "\r0% [1 InRelease gpgv 88.7 kB] [Waiting for headers] [Connecting to cloud.r-proj\r                                                                               \rHit:3 http://ppa.launchpad.net/graphics-drivers/ppa/ubuntu bionic InRelease\n",
            "\r0% [1 InRelease gpgv 88.7 kB] [Waiting for headers] [Connected to cloud.r-proje\r                                                                               \rHit:4 http://archive.ubuntu.com/ubuntu bionic InRelease\n",
            "\r0% [1 InRelease gpgv 88.7 kB] [Waiting for headers] [Connected to cloud.r-proje\r                                                                               \rIgn:5 https://developer.download.nvidia.com/compute/machine-learning/repos/ubuntu1804/x86_64  InRelease\n",
            "\r0% [1 InRelease gpgv 88.7 kB] [Waiting for headers] [Connected to cloud.r-proje\r                                                                               \rHit:6 https://developer.download.nvidia.com/compute/cuda/repos/ubuntu1804/x86_64  Release\n",
            "\r0% [1 InRelease gpgv 88.7 kB] [Waiting for headers] [Waiting for headers] [Conn\r                                                                               \rGet:7 https://developer.download.nvidia.com/compute/machine-learning/repos/ubuntu1804/x86_64  Release [564 B]\n",
            "\r0% [1 InRelease gpgv 88.7 kB] [Waiting for headers] [Waiting for headers] [7 Re\r0% [1 InRelease gpgv 88.7 kB] [Waiting for headers] [Waiting for headers] [Conn\r                                                                               \rGet:8 https://cloud.r-project.org/bin/linux/ubuntu bionic-cran35/ InRelease [3,626 B]\n",
            "\r0% [1 InRelease gpgv 88.7 kB] [Waiting for headers] [Waiting for headers] [Conn\r                                                                               \rGet:9 https://developer.download.nvidia.com/compute/machine-learning/repos/ubuntu1804/x86_64  Release.gpg [833 B]\n",
            "\r0% [1 InRelease gpgv 88.7 kB] [Waiting for headers] [Connecting to ppa.launchpa\r                                                                               \rGet:10 http://archive.ubuntu.com/ubuntu bionic-updates InRelease [88.7 kB]\n",
            "\r0% [1 InRelease gpgv 88.7 kB] [10 InRelease 14.2 kB/88.7 kB 16%] [Waiting for h\r                                                                               \rGet:11 http://ppa.launchpad.net/marutter/c2d4u3.5/ubuntu bionic InRelease [15.4 kB]\n",
            "Get:12 http://security.ubuntu.com/ubuntu bionic-security/main amd64 Packages [761 kB]\n",
            "Get:13 http://archive.ubuntu.com/ubuntu bionic-backports InRelease [74.6 kB]\n",
            "Get:15 https://cloud.r-project.org/bin/linux/ubuntu bionic-cran35/ Packages [81.0 kB]\n",
            "Get:16 https://developer.download.nvidia.com/compute/machine-learning/repos/ubuntu1804/x86_64  Packages [30.4 kB]\n",
            "Get:17 http://ppa.launchpad.net/marutter/c2d4u3.5/ubuntu bionic/main Sources [1,747 kB]\n",
            "Get:18 http://archive.ubuntu.com/ubuntu bionic-updates/main amd64 Packages [1,057 kB]\n",
            "Get:19 http://archive.ubuntu.com/ubuntu bionic-updates/universe amd64 Packages [1,322 kB]\n",
            "Get:20 http://ppa.launchpad.net/marutter/c2d4u3.5/ubuntu bionic/main amd64 Packages [843 kB]\n",
            "Fetched 6,115 kB in 3s (1,997 kB/s)\n",
            "Reading package lists... Done\n",
            "Reading package lists... Done\n",
            "Building dependency tree       \n",
            "Reading state information... Done\n",
            "The following package was automatically installed and is no longer required:\n",
            "  libnvidia-common-430\n",
            "Use 'apt autoremove' to remove it.\n",
            "The following additional packages will be installed:\n",
            "  chromium-browser chromium-browser-l10n chromium-codecs-ffmpeg-extra\n",
            "Suggested packages:\n",
            "  webaccounts-chromium-extension unity-chromium-extension adobe-flashplugin\n",
            "The following NEW packages will be installed:\n",
            "  chromium-browser chromium-browser-l10n chromium-chromedriver\n",
            "  chromium-codecs-ffmpeg-extra\n",
            "0 upgraded, 4 newly installed, 0 to remove and 19 not upgraded.\n",
            "Need to get 72.7 MB of archives.\n",
            "After this operation, 259 MB of additional disk space will be used.\n",
            "Get:1 http://archive.ubuntu.com/ubuntu bionic-updates/universe amd64 chromium-codecs-ffmpeg-extra amd64 79.0.3945.79-0ubuntu0.18.04.1 [1,079 kB]\n",
            "Get:2 http://archive.ubuntu.com/ubuntu bionic-updates/universe amd64 chromium-browser amd64 79.0.3945.79-0ubuntu0.18.04.1 [64.5 MB]\n",
            "Get:3 http://archive.ubuntu.com/ubuntu bionic-updates/universe amd64 chromium-browser-l10n all 79.0.3945.79-0ubuntu0.18.04.1 [3,094 kB]\n",
            "Get:4 http://archive.ubuntu.com/ubuntu bionic-updates/universe amd64 chromium-chromedriver amd64 79.0.3945.79-0ubuntu0.18.04.1 [3,976 kB]\n",
            "Fetched 72.7 MB in 3s (23.9 MB/s)\n",
            "Selecting previously unselected package chromium-codecs-ffmpeg-extra.\n",
            "(Reading database ... 135004 files and directories currently installed.)\n",
            "Preparing to unpack .../chromium-codecs-ffmpeg-extra_79.0.3945.79-0ubuntu0.18.04.1_amd64.deb ...\n",
            "Unpacking chromium-codecs-ffmpeg-extra (79.0.3945.79-0ubuntu0.18.04.1) ...\n",
            "Selecting previously unselected package chromium-browser.\n",
            "Preparing to unpack .../chromium-browser_79.0.3945.79-0ubuntu0.18.04.1_amd64.deb ...\n",
            "Unpacking chromium-browser (79.0.3945.79-0ubuntu0.18.04.1) ...\n",
            "Selecting previously unselected package chromium-browser-l10n.\n",
            "Preparing to unpack .../chromium-browser-l10n_79.0.3945.79-0ubuntu0.18.04.1_all.deb ...\n",
            "Unpacking chromium-browser-l10n (79.0.3945.79-0ubuntu0.18.04.1) ...\n",
            "Selecting previously unselected package chromium-chromedriver.\n",
            "Preparing to unpack .../chromium-chromedriver_79.0.3945.79-0ubuntu0.18.04.1_amd64.deb ...\n",
            "Unpacking chromium-chromedriver (79.0.3945.79-0ubuntu0.18.04.1) ...\n",
            "Setting up chromium-codecs-ffmpeg-extra (79.0.3945.79-0ubuntu0.18.04.1) ...\n",
            "Setting up chromium-browser (79.0.3945.79-0ubuntu0.18.04.1) ...\n",
            "update-alternatives: using /usr/bin/chromium-browser to provide /usr/bin/x-www-browser (x-www-browser) in auto mode\n",
            "update-alternatives: using /usr/bin/chromium-browser to provide /usr/bin/gnome-www-browser (gnome-www-browser) in auto mode\n",
            "Setting up chromium-chromedriver (79.0.3945.79-0ubuntu0.18.04.1) ...\n",
            "Setting up chromium-browser-l10n (79.0.3945.79-0ubuntu0.18.04.1) ...\n",
            "Processing triggers for hicolor-icon-theme (0.17-2) ...\n",
            "Processing triggers for mime-support (3.60ubuntu1) ...\n",
            "Processing triggers for man-db (2.8.3-2ubuntu0.1) ...\n",
            "Collecting selenium\n",
            "\u001b[?25l  Downloading https://files.pythonhosted.org/packages/80/d6/4294f0b4bce4de0abf13e17190289f9d0613b0a44e5dd6a7f5ca98459853/selenium-3.141.0-py2.py3-none-any.whl (904kB)\n",
            "\u001b[K     |████████████████████████████████| 911kB 2.8MB/s \n",
            "\u001b[?25hRequirement already satisfied: urllib3 in /usr/local/lib/python3.6/dist-packages (from selenium) (1.24.3)\n",
            "Installing collected packages: selenium\n",
            "Successfully installed selenium-3.141.0\n"
          ],
          "name": "stdout"
        }
      ]
    },
    {
      "cell_type": "markdown",
      "metadata": {
        "id": "r94zvadbu977",
        "colab_type": "text"
      },
      "source": [
        "## 載入套件"
      ]
    },
    {
      "cell_type": "code",
      "metadata": {
        "ExecuteTime": {
          "end_time": "2019-10-27T11:06:16.375181Z",
          "start_time": "2019-10-27T11:06:09.989397Z"
        },
        "id": "6mdTSQuluOvT",
        "colab_type": "code",
        "colab": {}
      },
      "source": [
        "import requests\n",
        "import json\n",
        "from bs4 import BeautifulSoup\n",
        "from selenium import webdriver\n",
        "import pandas as pd \n",
        "import time"
      ],
      "execution_count": 0,
      "outputs": []
    },
    {
      "cell_type": "markdown",
      "metadata": {
        "id": "zvze7JlXuOva",
        "colab_type": "text"
      },
      "source": [
        "## 打開想爬的網頁\n",
        "在此以 Foodpanda 的APP頁面作為範例\n",
        "\n",
        "https://play.google.com/store/apps/details?id=com.global.foodpanda.android&hl=zh_TW&showAllReviews=true\n"
      ]
    },
    {
      "cell_type": "code",
      "metadata": {
        "ExecuteTime": {
          "end_time": "2019-10-27T11:06:30.793189Z",
          "start_time": "2019-10-27T11:06:18.957882Z"
        },
        "id": "Bngn8-bRuOvb",
        "colab_type": "code",
        "colab": {}
      },
      "source": [
        "options = webdriver.ChromeOptions()\n",
        "options.add_argument('--headless')\n",
        "options.add_argument('--no-sandbox')\n",
        "options.add_argument('--disable-dev-shm-usage')\n",
        "options.add_argument(\"--disable-notifications\")\n",
        "driver = webdriver.Chrome(options=options)\n",
        "driver.get('https://play.google.com/store/apps/details?id=com.global.foodpanda.android&hl=zh_TW&showAllReviews=true')\n",
        "time.sleep(1)\n",
        "driver.find_element_by_xpath('//div[@class=\"MocG8c UFSXYb LMgvRb KKjvXb\"]').click()\n",
        "time.sleep(1)\n",
        "try:\n",
        "    driver.find_element_by_xpath('//div[@jsname=\"V68bde\"]//span[@class=\"vRMGwf oJeWuf\"]').click()\n",
        "except:\n",
        "    pass"
      ],
      "execution_count": 0,
      "outputs": []
    },
    {
      "cell_type": "markdown",
      "metadata": {
        "id": "b5Z3h2XewJAp",
        "colab_type": "text"
      },
      "source": [
        "## 加載更多留言\n",
        "- 透過觀察的方式可以發現，當網頁滾動到最底部的時候會自動加載更多留言，但是每加載5次會需要點擊一次「顯示更多內容」\n",
        "- 另外需要留意第一次與第二次之後的「顯示更多內容」是不同的按鈕，所以在這裡使用了一個 try 函數\n",
        "- 在這裡我設定做 10個點擊「顯示更多內容」，實際上可以依據資料量的大小自行增加或減少"
      ]
    },
    {
      "cell_type": "code",
      "metadata": {
        "ExecuteTime": {
          "end_time": "2019-10-27T11:26:27.558310Z",
          "start_time": "2019-10-27T11:06:30.932249Z"
        },
        "id": "fZE1eWS2uOvd",
        "colab_type": "code",
        "colab": {}
      },
      "source": [
        "for i in range(10):\n",
        "    for i in range(5):\n",
        "        time.sleep(1)\n",
        "        driver.execute_script(\"window.scrollTo(0, document.body.scrollHeight);\")\n",
        "    try:\n",
        "        driver.find_element_by_xpath('//div[@class=\"U26fgb O0WRkf oG5Srb C0oVfc n9lfJ M9Bg4d\"]').click()\n",
        "    except:\n",
        "        try:\n",
        "            driver.find_element_by_xpath('//div[@class=\"U26fgb O0WRkf oG5Srb C0oVfc n9lfJ\"]').click()\n",
        "        except:\n",
        "            pass"
      ],
      "execution_count": 0,
      "outputs": []
    },
    {
      "cell_type": "markdown",
      "metadata": {
        "id": "aglM0CdvxqyE",
        "colab_type": "text"
      },
      "source": [
        "## 檢視完整留言\n",
        "- 對於長度較長的留言需要另外點擊「完整留言」的按鈕才會顯示完整留言，顯示後我們才能抓到資料!\n",
        "- 這裡我找的是頁面中有沒有「完整留言」的按鈕可以點擊，有的話就點擊"
      ]
    },
    {
      "cell_type": "code",
      "metadata": {
        "ExecuteTime": {
          "end_time": "2019-10-27T11:29:26.695673Z",
          "start_time": "2019-10-27T11:26:30.259248Z"
        },
        "id": "5jpT3zkQuOvh",
        "colab_type": "code",
        "colab": {}
      },
      "source": [
        "SeeMore = '//button[@jsname=\"gxjVle\"]'\n",
        "driver.execute_script(\"window.scrollTo(0, 0);\")\n",
        "for i, element in enumerate(driver.find_elements_by_xpath(SeeMore)):\n",
        "    if i % 10 == 0:\n",
        "        print(i)\n",
        "    element.click()\n",
        "    print(n)"
      ],
      "execution_count": 0,
      "outputs": []
    },
    {
      "cell_type": "markdown",
      "metadata": {
        "id": "yh_6mB-2zYA6",
        "colab_type": "text"
      },
      "source": [
        "## 解析資料\n",
        "- 當我們把所有資料加載完成後，我們的資料是html的半結構化的網頁資料\n",
        "- 因此我們在這裡需要透過BeautifulSoup來幫我們把資料轉成DataFrame"
      ]
    },
    {
      "cell_type": "code",
      "metadata": {
        "ExecuteTime": {
          "end_time": "2019-10-27T11:30:08.722821Z",
          "start_time": "2019-10-27T11:29:26.823333Z"
        },
        "id": "awXkKA4BuOvl",
        "colab_type": "code",
        "colab": {}
      },
      "source": [
        "soup = BeautifulSoup(driver.page_source)\n",
        "driver.close()"
      ],
      "execution_count": 0,
      "outputs": []
    },
    {
      "cell_type": "code",
      "metadata": {
        "ExecuteTime": {
          "end_time": "2019-10-27T11:35:03.312139Z",
          "start_time": "2019-10-27T11:34:17.597606Z"
        },
        "id": "Lh0yPBYhuOvn",
        "colab_type": "code",
        "outputId": "adb04763-5fca-4b18-f87e-e50d19f7c866",
        "colab": {
          "base_uri": "https://localhost:8080/",
          "height": 357
        }
      },
      "source": [
        "list_of_comments = []\n",
        "for i, element in enumerate(soup.find_all('div',{'jscontroller':'H6eOGe'})):\n",
        "    if i % 10 == 0:\n",
        "        print(i)\n",
        "    try:\n",
        "        likecounts = element.find('div',{'class':'jUL89d y92BAb'}).text\n",
        "    except:\n",
        "        likecounts = str(0)\n",
        "    \n",
        "    Content = element.find('span',{'jsname':'bN97Pc'}).text\n",
        "    # 如果「完整評論」裡面有內容就抓裡面的內容\n",
        "    if len(element.find('span',{'jsname':'fbQN7e'}).text) >=20:\n",
        "        Content = element.find('span',{'jsname':'fbQN7e'}).text\n",
        "    ndf = pd.DataFrame([{'Name':element.find('span', {'class':'X43Kjb'}).text,\n",
        "                         'Sentimen':element.find('div', {'class':'pf5lIe'}).find('div')['aria-label'],\n",
        "                         'likecounts':likecounts,\n",
        "                         'Timestamp':element.find('span',{'class':'p2TkOb'}).text,\n",
        "                         'Content':Content}],\n",
        "                        columns = ['Name', 'Timestamp', 'Content', 'Sentimen', 'likecounts'])\n",
        "    list_of_comments.append(ndf)"
      ],
      "execution_count": 0,
      "outputs": [
        {
          "output_type": "stream",
          "text": [
            "0\n",
            "10\n",
            "20\n",
            "30\n",
            "40\n",
            "50\n",
            "60\n",
            "70\n",
            "80\n",
            "90\n",
            "100\n",
            "110\n",
            "120\n",
            "130\n",
            "140\n",
            "150\n",
            "160\n",
            "170\n",
            "180\n",
            "190\n"
          ],
          "name": "stdout"
        }
      ]
    },
    {
      "cell_type": "code",
      "metadata": {
        "ExecuteTime": {
          "end_time": "2019-10-27T11:45:26.849281Z",
          "start_time": "2019-10-27T11:45:25.608335Z"
        },
        "id": "dBMHKAAauOvq",
        "colab_type": "code",
        "outputId": "0c66eece-f2f4-4220-c21f-a54ea5562a43",
        "colab": {
          "base_uri": "https://localhost:8080/",
          "height": 686
        }
      },
      "source": [
        "comments = pd.concat(list_of_comments, ignore_index=True)\n",
        "print(len(comments))\n",
        "comments.head(20)"
      ],
      "execution_count": 0,
      "outputs": [
        {
          "output_type": "stream",
          "text": [
            "200\n"
          ],
          "name": "stdout"
        },
        {
          "output_type": "execute_result",
          "data": {
            "text/html": [
              "<div>\n",
              "<style scoped>\n",
              "    .dataframe tbody tr th:only-of-type {\n",
              "        vertical-align: middle;\n",
              "    }\n",
              "\n",
              "    .dataframe tbody tr th {\n",
              "        vertical-align: top;\n",
              "    }\n",
              "\n",
              "    .dataframe thead th {\n",
              "        text-align: right;\n",
              "    }\n",
              "</style>\n",
              "<table border=\"1\" class=\"dataframe\">\n",
              "  <thead>\n",
              "    <tr style=\"text-align: right;\">\n",
              "      <th></th>\n",
              "      <th>Name</th>\n",
              "      <th>Timestamp</th>\n",
              "      <th>Content</th>\n",
              "      <th>Sentimen</th>\n",
              "      <th>likecounts</th>\n",
              "    </tr>\n",
              "  </thead>\n",
              "  <tbody>\n",
              "    <tr>\n",
              "      <th>0</th>\n",
              "      <td>蔡雁斗</td>\n",
              "      <td>2019年12月26日</td>\n",
              "      <td>好用</td>\n",
              "      <td>獲評為 5 顆星 (滿分 5 顆星)</td>\n",
              "      <td>0</td>\n",
              "    </tr>\n",
              "    <tr>\n",
              "      <th>1</th>\n",
              "      <td>蘇勇銓</td>\n",
              "      <td>2019年12月26日</td>\n",
              "      <td>很好用</td>\n",
              "      <td>獲評為 5 顆星 (滿分 5 顆星)</td>\n",
              "      <td>0</td>\n",
              "    </tr>\n",
              "    <tr>\n",
              "      <th>2</th>\n",
              "      <td>鄭家柔</td>\n",
              "      <td>2019年12月26日</td>\n",
              "      <td>很好</td>\n",
              "      <td>獲評為 5 顆星 (滿分 5 顆星)</td>\n",
              "      <td>0</td>\n",
              "    </tr>\n",
              "    <tr>\n",
              "      <th>3</th>\n",
              "      <td>李梓柔</td>\n",
              "      <td>2019年12月26日</td>\n",
              "      <td>實用</td>\n",
              "      <td>獲評為 5 顆星 (滿分 5 顆星)</td>\n",
              "      <td>0</td>\n",
              "    </tr>\n",
              "    <tr>\n",
              "      <th>4</th>\n",
              "      <td>Jill Lu</td>\n",
              "      <td>2019年12月26日</td>\n",
              "      <td>很方便</td>\n",
              "      <td>獲評為 5 顆星 (滿分 5 顆星)</td>\n",
              "      <td>0</td>\n",
              "    </tr>\n",
              "    <tr>\n",
              "      <th>5</th>\n",
              "      <td>林佩瑾</td>\n",
              "      <td>2019年12月26日</td>\n",
              "      <td>非常好用的app</td>\n",
              "      <td>獲評為 5 顆星 (滿分 5 顆星)</td>\n",
              "      <td>0</td>\n",
              "    </tr>\n",
              "    <tr>\n",
              "      <th>6</th>\n",
              "      <td>tim chen</td>\n",
              "      <td>2019年12月26日</td>\n",
              "      <td>垃圾系統</td>\n",
              "      <td>獲評為 1 顆星 (滿分 5 顆星)</td>\n",
              "      <td>0</td>\n",
              "    </tr>\n",
              "    <tr>\n",
              "      <th>7</th>\n",
              "      <td>Shen Le</td>\n",
              "      <td>2019年12月26日</td>\n",
              "      <td>按結帳完全沒反應 那幹嘛還要用這個app 換另一個還比你們好用</td>\n",
              "      <td>獲評為 1 顆星 (滿分 5 顆星)</td>\n",
              "      <td>0</td>\n",
              "    </tr>\n",
              "    <tr>\n",
              "      <th>8</th>\n",
              "      <td>Lango Chen</td>\n",
              "      <td>2019年12月26日</td>\n",
              "      <td>方便</td>\n",
              "      <td>獲評為 5 顆星 (滿分 5 顆星)</td>\n",
              "      <td>0</td>\n",
              "    </tr>\n",
              "    <tr>\n",
              "      <th>9</th>\n",
              "      <td>吉光片羽</td>\n",
              "      <td>2019年12月26日</td>\n",
              "      <td>好</td>\n",
              "      <td>獲評為 5 顆星 (滿分 5 顆星)</td>\n",
              "      <td>0</td>\n",
              "    </tr>\n",
              "    <tr>\n",
              "      <th>10</th>\n",
              "      <td>張銘麟</td>\n",
              "      <td>2019年12月26日</td>\n",
              "      <td>第一次用，好方便，還可以付現</td>\n",
              "      <td>獲評為 5 顆星 (滿分 5 顆星)</td>\n",
              "      <td>0</td>\n",
              "    </tr>\n",
              "    <tr>\n",
              "      <th>11</th>\n",
              "      <td>喬慧萍</td>\n",
              "      <td>2019年12月26日</td>\n",
              "      <td>上次上網訂餐沒送</td>\n",
              "      <td>獲評為 2 顆星 (滿分 5 顆星)</td>\n",
              "      <td>0</td>\n",
              "    </tr>\n",
              "    <tr>\n",
              "      <th>12</th>\n",
              "      <td>cheung tsui shan</td>\n",
              "      <td>2019年12月26日</td>\n",
              "      <td>未知是否陰謀論，除了首次落單，外送服務快夾好之後，其他每次落單送餐來，5次有4次都送漏食物，...</td>\n",
              "      <td>獲評為 1 顆星 (滿分 5 顆星)</td>\n",
              "      <td>0</td>\n",
              "    </tr>\n",
              "    <tr>\n",
              "      <th>13</th>\n",
              "      <td>Tai Jessica</td>\n",
              "      <td>2019年12月26日</td>\n",
              "      <td>不錯，都容易用。</td>\n",
              "      <td>獲評為 5 顆星 (滿分 5 顆星)</td>\n",
              "      <td>0</td>\n",
              "    </tr>\n",
              "    <tr>\n",
              "      <th>14</th>\n",
              "      <td>。。。</td>\n",
              "      <td>2019年12月26日</td>\n",
              "      <td>还不错 也没有很好</td>\n",
              "      <td>獲評為 4 顆星 (滿分 5 顆星)</td>\n",
              "      <td>0</td>\n",
              "    </tr>\n",
              "    <tr>\n",
              "      <th>15</th>\n",
              "      <td>***</td>\n",
              "      <td>2019年12月26日</td>\n",
              "      <td>棒</td>\n",
              "      <td>獲評為 5 顆星 (滿分 5 顆星)</td>\n",
              "      <td>0</td>\n",
              "    </tr>\n",
              "    <tr>\n",
              "      <th>16</th>\n",
              "      <td>邱敦楷</td>\n",
              "      <td>2019年12月26日</td>\n",
              "      <td>可以在結帳時多一個確認訂單的程序，避免用戶忘記輸入優惠碼。</td>\n",
              "      <td>獲評為 4 顆星 (滿分 5 顆星)</td>\n",
              "      <td>0</td>\n",
              "    </tr>\n",
              "    <tr>\n",
              "      <th>17</th>\n",
              "      <td>陳映竹</td>\n",
              "      <td>2019年12月26日</td>\n",
              "      <td>外送人員，服務態度 很好， 只是有些區域 沒有外送服務，覺得 有些不方便</td>\n",
              "      <td>獲評為 5 顆星 (滿分 5 顆星)</td>\n",
              "      <td>0</td>\n",
              "    </tr>\n",
              "    <tr>\n",
              "      <th>18</th>\n",
              "      <td>Alvin Tan</td>\n",
              "      <td>2019年12月26日</td>\n",
              "      <td>垃圾apps 等了接近2小时 结果是让我自己去取，而且客房讲话也很不礼貌 这种垃圾apps和...</td>\n",
              "      <td>獲評為 1 顆星 (滿分 5 顆星)</td>\n",
              "      <td>0</td>\n",
              "    </tr>\n",
              "    <tr>\n",
              "      <th>19</th>\n",
              "      <td>陳文琛</td>\n",
              "      <td>2019年12月26日</td>\n",
              "      <td>取消或修改訂單機制不完善</td>\n",
              "      <td>獲評為 1 顆星 (滿分 5 顆星)</td>\n",
              "      <td>0</td>\n",
              "    </tr>\n",
              "  </tbody>\n",
              "</table>\n",
              "</div>"
            ],
            "text/plain": [
              "                Name    Timestamp  ...            Sentimen likecounts\n",
              "0                蔡雁斗  2019年12月26日  ...  獲評為 5 顆星 (滿分 5 顆星)          0\n",
              "1                蘇勇銓  2019年12月26日  ...  獲評為 5 顆星 (滿分 5 顆星)          0\n",
              "2                鄭家柔  2019年12月26日  ...  獲評為 5 顆星 (滿分 5 顆星)          0\n",
              "3                李梓柔  2019年12月26日  ...  獲評為 5 顆星 (滿分 5 顆星)          0\n",
              "4            Jill Lu  2019年12月26日  ...  獲評為 5 顆星 (滿分 5 顆星)          0\n",
              "5                林佩瑾  2019年12月26日  ...  獲評為 5 顆星 (滿分 5 顆星)          0\n",
              "6           tim chen  2019年12月26日  ...  獲評為 1 顆星 (滿分 5 顆星)          0\n",
              "7            Shen Le  2019年12月26日  ...  獲評為 1 顆星 (滿分 5 顆星)          0\n",
              "8         Lango Chen  2019年12月26日  ...  獲評為 5 顆星 (滿分 5 顆星)          0\n",
              "9               吉光片羽  2019年12月26日  ...  獲評為 5 顆星 (滿分 5 顆星)          0\n",
              "10               張銘麟  2019年12月26日  ...  獲評為 5 顆星 (滿分 5 顆星)          0\n",
              "11               喬慧萍  2019年12月26日  ...  獲評為 2 顆星 (滿分 5 顆星)          0\n",
              "12  cheung tsui shan  2019年12月26日  ...  獲評為 1 顆星 (滿分 5 顆星)          0\n",
              "13       Tai Jessica  2019年12月26日  ...  獲評為 5 顆星 (滿分 5 顆星)          0\n",
              "14               。。。  2019年12月26日  ...  獲評為 4 顆星 (滿分 5 顆星)          0\n",
              "15               ***  2019年12月26日  ...  獲評為 5 顆星 (滿分 5 顆星)          0\n",
              "16               邱敦楷  2019年12月26日  ...  獲評為 4 顆星 (滿分 5 顆星)          0\n",
              "17               陳映竹  2019年12月26日  ...  獲評為 5 顆星 (滿分 5 顆星)          0\n",
              "18         Alvin Tan  2019年12月26日  ...  獲評為 1 顆星 (滿分 5 顆星)          0\n",
              "19               陳文琛  2019年12月26日  ...  獲評為 1 顆星 (滿分 5 顆星)          0\n",
              "\n",
              "[20 rows x 5 columns]"
            ]
          },
          "metadata": {
            "tags": []
          },
          "execution_count": 34
        }
      ]
    },
    {
      "cell_type": "markdown",
      "metadata": {
        "id": "KXtCuxHF8W9_",
        "colab_type": "text"
      },
      "source": [
        "## 保存資料\n",
        "- 先跟 Google Drive 空間串接，再將資料存在 Google Drive 上\n",
        "- 資料放在 Google Drive 上的 Colab Notebooks 資料夾中"
      ]
    },
    {
      "cell_type": "code",
      "metadata": {
        "id": "7ijn1hHe8wvt",
        "colab_type": "code",
        "outputId": "96132df5-1758-4743-b632-18b83694a3f2",
        "colab": {
          "base_uri": "https://localhost:8080/",
          "height": 122
        }
      },
      "source": [
        "from google.colab import drive\n",
        "drive.mount('/content/drive')"
      ],
      "execution_count": 0,
      "outputs": [
        {
          "output_type": "stream",
          "text": [
            "Go to this URL in a browser: https://accounts.google.com/o/oauth2/auth?client_id=947318989803-6bn6qk8qdgf4n4g3pfee6491hc0brc4i.apps.googleusercontent.com&redirect_uri=urn%3aietf%3awg%3aoauth%3a2.0%3aoob&response_type=code&scope=email%20https%3a%2f%2fwww.googleapis.com%2fauth%2fdocs.test%20https%3a%2f%2fwww.googleapis.com%2fauth%2fdrive%20https%3a%2f%2fwww.googleapis.com%2fauth%2fdrive.photos.readonly%20https%3a%2f%2fwww.googleapis.com%2fauth%2fpeopleapi.readonly\n",
            "\n",
            "Enter your authorization code:\n",
            "··········\n",
            "Mounted at /content/drive\n"
          ],
          "name": "stdout"
        }
      ]
    },
    {
      "cell_type": "code",
      "metadata": {
        "id": "7-NjrK8I8o78",
        "colab_type": "code",
        "colab": {}
      },
      "source": [
        "import os\n",
        "path = '/content/drive/My Drive/Colab Notebooks/'\n",
        "comments.to_excel(path + 'GooglePlay_Comments.xlsx')"
      ],
      "execution_count": 0,
      "outputs": []
    },
    {
      "cell_type": "code",
      "metadata": {
        "id": "ZtXyJNrrEeIT",
        "colab_type": "code",
        "colab": {}
      },
      "source": [
        ""
      ],
      "execution_count": 0,
      "outputs": []
    }
  ]
}