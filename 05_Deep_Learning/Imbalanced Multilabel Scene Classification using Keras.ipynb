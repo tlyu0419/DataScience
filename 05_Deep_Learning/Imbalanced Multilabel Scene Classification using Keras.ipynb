{
 "cells": [
  {
   "cell_type": "markdown",
   "id": "31cd87da-1259-4435-84df-244d1be7e1b3",
   "metadata": {},
   "source": [
    "# Imbalanced Multilabel Scene Classification using Keras\n",
    "- https://medium.com/the-owl/imbalanced-multilabel-image-classification-using-keras-fbd8c60d7a4b"
   ]
  },
  {
   "cell_type": "markdown",
   "id": "5c1b170d-df69-4fd4-9401-a3c4d3efb929",
   "metadata": {},
   "source": [
    "## Importing Necessary Libraries"
   ]
  },
  {
   "cell_type": "code",
   "execution_count": 3,
   "id": "cdb6ebaa-8911-412f-adc7-ffe67abd741c",
   "metadata": {},
   "outputs": [],
   "source": [
    "# !pip install tensorflow"
   ]
  },
  {
   "cell_type": "code",
   "execution_count": 6,
   "id": "79f6753c-af02-4b9b-919f-7703b4e9a2bc",
   "metadata": {},
   "outputs": [],
   "source": [
    "# !pip install imageio"
   ]
  },
  {
   "cell_type": "code",
   "execution_count": 20,
   "id": "9da66d40-89b5-45d2-98e1-cae117db0ab4",
   "metadata": {},
   "outputs": [],
   "source": [
    "# !pip install scipy\n",
    "# !pip install scikit-learn\n",
    "# !pip install seaborn\n",
    "# !pip install scikit-image"
   ]
  },
  {
   "cell_type": "code",
   "execution_count": 1,
   "id": "3b340446-3669-41be-a165-83adc564587a",
   "metadata": {},
   "outputs": [
    {
     "name": "stderr",
     "output_type": "stream",
     "text": [
      "2022-12-26 17:02:42.037276: I tensorflow/core/platform/cpu_feature_guard.cc:193] This TensorFlow binary is optimized with oneAPI Deep Neural Network Library (oneDNN) to use the following CPU instructions in performance-critical operations:  AVX2 FMA\n",
      "To enable them in other operations, rebuild TensorFlow with the appropriate compiler flags.\n",
      "2022-12-26 17:02:42.560227: W tensorflow/compiler/xla/stream_executor/platform/default/dso_loader.cc:64] Could not load dynamic library 'libcudart.so.11.0'; dlerror: libcudart.so.11.0: cannot open shared object file: No such file or directory\n",
      "2022-12-26 17:02:42.560258: I tensorflow/compiler/xla/stream_executor/cuda/cudart_stub.cc:29] Ignore above cudart dlerror if you do not have a GPU set up on your machine.\n",
      "2022-12-26 17:02:44.101517: W tensorflow/compiler/xla/stream_executor/platform/default/dso_loader.cc:64] Could not load dynamic library 'libnvinfer.so.7'; dlerror: libnvinfer.so.7: cannot open shared object file: No such file or directory\n",
      "2022-12-26 17:02:44.101677: W tensorflow/compiler/xla/stream_executor/platform/default/dso_loader.cc:64] Could not load dynamic library 'libnvinfer_plugin.so.7'; dlerror: libnvinfer_plugin.so.7: cannot open shared object file: No such file or directory\n",
      "2022-12-26 17:02:44.101686: W tensorflow/compiler/tf2tensorrt/utils/py_utils.cc:38] TF-TRT Warning: Cannot dlopen some TensorRT libraries. If you would like to use Nvidia GPU with TensorRT, please make sure the missing libraries mentioned above are installed properly.\n"
     ]
    }
   ],
   "source": [
    "import numpy as np\n",
    "import pandas as pd\n",
    "import matplotlib.pyplot as plt\n",
    "import tensorflow as tf\n",
    "import tensorflow.keras.backend as K\n",
    "import shutil, os, time, random, copy\n",
    "import imageio\n",
    "import h5py\n",
    "from scipy.io import loadmat\n",
    "from sklearn.model_selection import train_test_split\n",
    "from sklearn.metrics import roc_auc_score, roc_curve, f1_score, precision_recall_curve, confusion_matrix, average_precision_score\n",
    "import seaborn as sns\n",
    "from skimage.transform import rotate, AffineTransform, warp, resize\n",
    "from tensorflow.keras.models import Model, Sequential\n",
    "from tensorflow.keras.layers import Conv2D, Dense, MaxPool2D, GlobalAveragePooling2D, Input\n",
    "from tensorflow.keras.preprocessing.image import ImageDataGenerator, load_img, img_to_array\n",
    "from tensorflow.keras.utils import Sequence\n",
    "from tensorflow.keras.applications import ResNet50\n",
    "from tensorflow.keras.applications.resnet50 import preprocess_input"
   ]
  },
  {
   "cell_type": "markdown",
   "id": "8aa696a7-9a3e-4602-8fd6-12151e6894b3",
   "metadata": {},
   "source": [
    "## Data Download and Extraction"
   ]
  },
  {
   "cell_type": "code",
   "execution_count": 2,
   "id": "d5b5d374-1c2a-48bb-a339-bcd91c165445",
   "metadata": {
    "tags": []
   },
   "outputs": [],
   "source": [
    "# !wget http://www.lamda.nju.edu.cn/files/miml-image-data.rar\n",
    "# !unrar e ./data/miml-image-data.rar\n",
    "# !mkdir ./data/original_images\n",
    "# !unrar e original.rar ./data/original_images\n",
    "# !unrar e processed.rar ./data"
   ]
  },
  {
   "cell_type": "markdown",
   "id": "6f730030-94a1-450f-addd-99b92c4d9c09",
   "metadata": {},
   "source": [
    "## Data Processing"
   ]
  },
  {
   "cell_type": "code",
   "execution_count": 3,
   "id": "67ba019d-5ade-4679-9a9c-22683eb5ea3f",
   "metadata": {},
   "outputs": [
    {
     "name": "stdout",
     "output_type": "stream",
     "text": [
      "['desert', 'mountains', 'sea', 'sunset', 'trees']\n"
     ]
    },
    {
     "data": {
      "text/plain": [
       "<AxesSubplot: >"
      ]
     },
     "execution_count": 3,
     "metadata": {},
     "output_type": "execute_result"
    },
    {
     "data": {
      "image/png": "[encoded data removed]",
      "text/plain": [
       "<Figure size 640x480 with 1 Axes>"
      ]
     },
     "metadata": {},
     "output_type": "display_data"
    }
   ],
   "source": [
    "proc_mat = loadmat(\"./data/miml data.mat\")\n",
    "\n",
    "class_names = []\n",
    "for c in proc_mat['class_name']:\n",
    "    class_names.append(c[0][0])\n",
    "\n",
    "print(class_names)\n",
    "#output : ['desert', 'mountains', 'sea', 'sunset', 'trees']\n",
    "\n",
    "labels = copy.deepcopy(proc_mat['targets'].T)\n",
    "labels[labels==-1] = 0\n",
    "\n",
    "data_df = pd.DataFrame(columns=[\"filenames\"]+class_names)\n",
    "filenames = os.listdir(\"./data/original_images/\")\n",
    "data_df[\"filenames\"] = np.array(sorted(list(map(lambda x:int(x[:-4]),np.array(filenames)))))\n",
    "data_df['filenames'] = data_df['filenames'].apply(lambda x:'./data/original_images/'+str(x)+'.jpg')\n",
    "data_df[class_names] = np.array(labels)\n",
    "\n",
    "#Applying Label Powerset Tranformation\n",
    "data_df['powerlabel'] = data_df.apply(lambda x : 16*x[\"desert\"]+8*x['mountains']+4*x['sea']+2*x['sunset']+1*x['trees'],axis=1)\n",
    "\n",
    "data_df['powerlabel'].hist(bins=np.unique(data_df['powerlabel']))"
   ]
  },
  {
   "cell_type": "code",
   "execution_count": 4,
   "id": "86e28653-3005-4b4d-8181-782fcbe9e7d1",
   "metadata": {},
   "outputs": [
    {
     "data": {
      "text/plain": [
       "filenames     ./data/original_images/1.jpg./data/original_im...\n",
       "desert                                                      409\n",
       "mountains                                                   458\n",
       "sea                                                         580\n",
       "sunset                                                      465\n",
       "trees                                                       560\n",
       "powerlabel                                                14018\n",
       "dtype: object"
      ]
     },
     "execution_count": 4,
     "metadata": {},
     "output_type": "execute_result"
    }
   ],
   "source": [
    "data_df.sum()"
   ]
  },
  {
   "cell_type": "markdown",
   "id": "ef2dc0fa-fa39-4fde-9c4f-b8dd1c846cb5",
   "metadata": {},
   "source": [
    "## Histogram for each individual label"
   ]
  },
  {
   "cell_type": "code",
   "execution_count": 5,
   "id": "205e85bf-eb49-44a3-83c3-e9c5205f3b6f",
   "metadata": {},
   "outputs": [
    {
     "data": {
      "text/plain": [
       "<BarContainer object of 2 artists>"
      ]
     },
     "execution_count": 5,
     "metadata": {},
     "output_type": "execute_result"
    },
    {
     "data": {
      "image/png": "[encoded data removed]",
      "text/plain": [
       "<Figure size 640x480 with 1 Axes>"
      ]
     },
     "metadata": {},
     "output_type": "display_data"
    }
   ],
   "source": [
    "fig, ax = plt.subplots()\n",
    "\n",
    "d_heights, d_bins = np.histogram(data_df['desert'],bins=[-0.5,0.5,1.5])\n",
    "m_heights, m_bins = np.histogram(data_df['mountains'], bins=d_bins)\n",
    "s_heights, s_bins = np.histogram(data_df['sea'], bins=m_bins)\n",
    "ss_heights, ss_bins = np.histogram(data_df['sunset'], bins=s_bins)\n",
    "t_heights, t_bins = np.histogram(data_df['trees'], bins=ss_bins)\n",
    "\n",
    "\n",
    "width = (d_bins[1] - d_bins[0])/6.0\n",
    "\n",
    "ax.bar(d_bins[:-1]+width, d_heights, width=width, facecolor='cornflowerblue')\n",
    "ax.bar(m_bins[:-1]+width*2, m_heights, width=width, facecolor='seagreen')\n",
    "ax.bar(s_bins[:-1]+width*3, s_heights, width=width, facecolor='red')\n",
    "ax.bar(ss_bins[:-1]+width*4, ss_heights, width=width, facecolor='blue')\n",
    "ax.bar(t_bins[:-1]+width*5, t_heights, width=width, facecolor='yellow')"
   ]
  },
  {
   "cell_type": "markdown",
   "id": "5507e90e-2d80-4c8c-9422-0179006517d2",
   "metadata": {},
   "source": [
    "## Data Splitting"
   ]
  },
  {
   "cell_type": "code",
   "execution_count": 6,
   "id": "9827f706-dda9-4196-b30c-0d4b2b47d15b",
   "metadata": {},
   "outputs": [],
   "source": [
    "train_df = pd.DataFrame(columns = [\"filenames\"]+class_names)\n",
    "val_df = pd.DataFrame(columns = [\"filenames\"]+class_names)\n",
    "train_inds, val_inds = train_test_split(np.array(list(range(data_df.shape[0]))),test_size=0.2,random_state=7)\n",
    "train_df = data_df.iloc[train_inds,:].reset_index(drop=True)\n",
    "val_df = data_df.iloc[val_inds,:].reset_index(drop=True)"
   ]
  },
  {
   "cell_type": "markdown",
   "id": "2033aee2-96aa-4e40-b52d-60c9df17c152",
   "metadata": {},
   "source": [
    "## Oversampling"
   ]
  },
  {
   "cell_type": "code",
   "execution_count": 7,
   "id": "1398b7e6-ea08-4ef9-b8a9-9ec06a170de5",
   "metadata": {},
   "outputs": [
    {
     "name": "stderr",
     "output_type": "stream",
     "text": [
      "/tmp/ipykernel_514/2353630073.py:11: FutureWarning: The frame.append method is deprecated and will be removed from pandas in a future version. Use pandas.concat instead.\n",
      "  data_df = train_df.append(temp_df,ignore_index=True)\n"
     ]
    }
   ],
   "source": [
    "powercount = {}\n",
    "powerlabels = np.unique(train_df['powerlabel'])\n",
    "for p in powerlabels:\n",
    "    powercount[p] = np.count_nonzero(train_df['powerlabel']==p)\n",
    "\n",
    "maxcount = np.max(list(powercount.values()))\n",
    "for p in powerlabels:\n",
    "    gapnum = maxcount - powercount[p]\n",
    "    #print(gapnum)\n",
    "    temp_df = train_df.iloc[np.random.choice(np.where(train_df['powerlabel']==p)[0],size=gapnum)]\n",
    "    data_df = train_df.append(temp_df,ignore_index=True)\n",
    "    \n",
    "train_df = train_df.sample(frac=1).reset_index(drop=True)"
   ]
  },
  {
   "cell_type": "code",
   "execution_count": 8,
   "id": "f9875a8b-661b-44e9-80ce-5428add71a74",
   "metadata": {},
   "outputs": [
    {
     "data": {
      "text/plain": [
       "filenames     ./data/original_images/468.jpg./data/original_...\n",
       "desert                                                      316\n",
       "mountains                                                   369\n",
       "sea                                                         468\n",
       "sunset                                                      374\n",
       "trees                                                       436\n",
       "powerlabel                                                11064\n",
       "dtype: object"
      ]
     },
     "execution_count": 8,
     "metadata": {},
     "output_type": "execute_result"
    }
   ],
   "source": [
    "train_df.sum()"
   ]
  },
  {
   "cell_type": "markdown",
   "id": "9c4c9996-264e-4dba-b43e-f6bc96007371",
   "metadata": {},
   "source": [
    "## Calculating Class weights"
   ]
  },
  {
   "cell_type": "code",
   "execution_count": 9,
   "id": "c2d2447b-cab4-4498-bfc5-7bf04099e733",
   "metadata": {},
   "outputs": [
    {
     "name": "stdout",
     "output_type": "stream",
     "text": [
      "{'desert': 2.5316455696202533, 'mountains': 2.168021680216802, 'sea': 1.7094017094017093, 'sunset': 2.1390374331550803, 'trees': 1.834862385321101}\n",
      "{'desert': 0.6230529595015576, 'mountains': 0.6498781478472786, 'sea': 0.7067137809187279, 'sunset': 0.6525285481239804, 'trees': 0.6872852233676976}\n"
     ]
    }
   ],
   "source": [
    "positive_weights = {}\n",
    "negative_weights = {}\n",
    "for c in class_names:\n",
    "    positive_weights[c] = train_df.shape[0]/(2*np.count_nonzero(train_df[c]==1))\n",
    "    negative_weights[c] = train_df.shape[0]/(2*np.count_nonzero(train_df[c]==0))\n",
    "print(positive_weights)\n",
    "print(negative_weights)\n"
   ]
  },
  {
   "cell_type": "code",
   "execution_count": 10,
   "id": "19715809-56fa-4373-a3e8-483077bb05c3",
   "metadata": {},
   "outputs": [
    {
     "name": "stdout",
     "output_type": "stream",
     "text": [
      "476 582\n"
     ]
    },
    {
     "name": "stderr",
     "output_type": "stream",
     "text": [
      "/tmp/ipykernel_514/2130214254.py:1: DeprecationWarning: Starting with ImageIO v3 the behavior of this function will switch to that of iio.v3.imread. To keep the current behavior (and make this warning disappear) use `import imageio.v2 as imageio` or call `imageio.v2.imread` directly.\n",
      "  img = imageio.imread('./data/original_images/1.jpg')\n"
     ]
    }
   ],
   "source": [
    "img = imageio.imread('./data/original_images/1.jpg')\n",
    "H,W,_ = img.shape\n",
    "print(H,W)"
   ]
  },
  {
   "cell_type": "markdown",
   "id": "8f30f6a9-f89f-4a29-a456-f7c87ce468bf",
   "metadata": {},
   "source": [
    "## Data Generator"
   ]
  },
  {
   "cell_type": "code",
   "execution_count": 11,
   "id": "1af52103-dddc-47ca-9ed7-09cfffd2ead4",
   "metadata": {},
   "outputs": [],
   "source": [
    "class DataGeneratorKeras(Sequence):\n",
    "    # Constructor\n",
    "    def __init__(self,train = True, augmentation = False, preprocessing_fn = None, batch_size = 16):\n",
    "        self.train = train\n",
    "        self.batch_size = batch_size\n",
    "        self.directory=\"/content/original_images\"\n",
    "        self.H = H\n",
    "        self.W = W\n",
    "\n",
    "        self.augmentation = augmentation\n",
    "        self.preprocessing_fn = preprocessing_fn\n",
    "\n",
    "        if self.train:\n",
    "            self.all_files = train_df\n",
    "        else:\n",
    "            self.all_files = val_df\n",
    "    \n",
    "    def __len__(self):\n",
    "        return self.all_files.shape[0]//self.batch_size\n",
    "    \n",
    "    def on_epoch_end(self):\n",
    "        self.all_files = self.all_files.sample(frac=1).reset_index(drop=True)\n",
    "    \n",
    "    def __getitem__(self, idx):\n",
    "        images = np.array([],dtype=np.float32).reshape((0,self.H,self.W,3))\n",
    "        labels = np.array([],dtype=np.float32).reshape((0,5))\n",
    "        for i in range(self.batch_size):\n",
    "            image = img_to_array(load_img(self.all_files['filenames'][idx*self.batch_size+i],target_size = (self.H,self.W)))\n",
    "            y = self.all_files.iloc[idx*self.batch_size+i][class_names].values.astype(np.float32)\n",
    "      \n",
    "            # If there is any transform method, apply it onto the image\n",
    "            if self.augmentation:\n",
    "                image = rotate(image,np.random.uniform(-30,30),preserve_range=True)\n",
    "                scale = np.random.uniform(1.0,1.25)\n",
    "                tx = np.random.uniform(0,20)\n",
    "                ty = np.random.uniform(0,20)\n",
    "                image = warp(image,\n",
    "                             AffineTransform(matrix=np.array([[scale, 0, tx],\n",
    "                                                              [0,scale,  ty],\n",
    "                                                              [0,   0,   1]])).inverse,\n",
    "                             preserve_range=True)\n",
    "            #RANDOM HORIZONTAL FLIPPING\n",
    "            if np.random.choice([True,False]):\n",
    "                image = np.flip(image,axis= 1)\n",
    "            images = np.append(images,np.expand_dims(image,axis=0),axis=0)\n",
    "            labels = np.append(labels,y.reshape(1,5),axis=0)\n",
    "        \n",
    "        if self.preprocessing_fn:\n",
    "            images = self.preprocessing_fn(images)\n",
    "        \n",
    "        return images, labels"
   ]
  },
  {
   "cell_type": "markdown",
   "id": "ac0494d9-ae07-4e88-979e-9f56da95bd79",
   "metadata": {},
   "source": [
    "## Checking the data"
   ]
  },
  {
   "cell_type": "code",
   "execution_count": 12,
   "id": "11aa6195-c32f-4942-954b-6009cf847884",
   "metadata": {},
   "outputs": [],
   "source": [
    "tdg = DataGeneratorKeras(True,True,preprocess_input,16)"
   ]
  },
  {
   "cell_type": "code",
   "execution_count": 13,
   "id": "6fecbc3e-e966-4422-9247-b851cad27cd3",
   "metadata": {},
   "outputs": [],
   "source": [
    "# tdg.__getitem__(0)"
   ]
  },
  {
   "cell_type": "markdown",
   "id": "ba00d397-0701-4993-8a3f-01bd604f200f",
   "metadata": {},
   "source": [
    "## Creating the train and validation data generators"
   ]
  },
  {
   "cell_type": "code",
   "execution_count": 14,
   "id": "a9a986ea-76f3-48f5-9f8c-50e1a52b02e1",
   "metadata": {},
   "outputs": [],
   "source": [
    "train_datagen = DataGeneratorKeras(train = True, augmentation = True, preprocessing_fn = preprocess_input, batch_size = 16)\n",
    "valid_datagen = DataGeneratorKeras(train = False, augmentation = False, preprocessing_fn = preprocess_input, batch_size = 16)"
   ]
  },
  {
   "cell_type": "markdown",
   "id": "480a98f8-214b-4afb-84ed-ebd7f77697ad",
   "metadata": {},
   "source": [
    "## Creating the Model"
   ]
  },
  {
   "cell_type": "code",
   "execution_count": 15,
   "id": "8979f345-7220-43d9-800f-abafe123967d",
   "metadata": {},
   "outputs": [
    {
     "name": "stderr",
     "output_type": "stream",
     "text": [
      "2022-12-26 17:02:46.810315: W tensorflow/compiler/xla/stream_executor/platform/default/dso_loader.cc:64] Could not load dynamic library 'libcuda.so.1'; dlerror: libcuda.so.1: cannot open shared object file: No such file or directory\n",
      "2022-12-26 17:02:46.810788: W tensorflow/compiler/xla/stream_executor/cuda/cuda_driver.cc:265] failed call to cuInit: UNKNOWN ERROR (303)\n",
      "2022-12-26 17:02:46.810871: I tensorflow/compiler/xla/stream_executor/cuda/cuda_diagnostics.cc:156] kernel driver does not appear to be running on this host (DESKTOP-P01DK8R): /proc/driver/nvidia/version does not exist\n",
      "2022-12-26 17:02:46.812407: I tensorflow/core/platform/cpu_feature_guard.cc:193] This TensorFlow binary is optimized with oneAPI Deep Neural Network Library (oneDNN) to use the following CPU instructions in performance-critical operations:  AVX2 FMA\n",
      "To enable them in other operations, rebuild TensorFlow with the appropriate compiler flags.\n"
     ]
    }
   ],
   "source": [
    "NUM_CLASSES = 5\n",
    "fine_tuning = True\n",
    "\n",
    "model = Sequential()\n",
    "\n",
    "model.add(ResNet50(include_top=False,pooling='avg',weights='imagenet',input_shape=(H,W,3)))\n",
    "model.add(Dense(NUM_CLASSES,activation = 'sigmoid'))\n",
    "\n",
    "if fine_tuning:\n",
    "    model.layers[0].trainable = True\n",
    "else:\n",
    "    model.layers[0].trainable = False"
   ]
  },
  {
   "cell_type": "code",
   "execution_count": 16,
   "id": "1059999b-2beb-4cb7-bf50-5facff1291ae",
   "metadata": {},
   "outputs": [
    {
     "name": "stdout",
     "output_type": "stream",
     "text": [
      "Model: \"sequential\"\n",
      "_________________________________________________________________\n",
      " Layer (type)                Output Shape              Param #   \n",
      "=================================================================\n",
      " resnet50 (Functional)       (None, 2048)              23587712  \n",
      "                                                                 \n",
      " dense (Dense)               (None, 5)                 10245     \n",
      "                                                                 \n",
      "=================================================================\n",
      "Total params: 23,597,957\n",
      "Trainable params: 23,544,837\n",
      "Non-trainable params: 53,120\n",
      "_________________________________________________________________\n"
     ]
    }
   ],
   "source": [
    "model.summary()"
   ]
  },
  {
   "cell_type": "markdown",
   "id": "b620ca89-9622-451c-9c01-3fcd40f46fd1",
   "metadata": {},
   "source": [
    "## Custom Loss Function for imbalanced classes"
   ]
  },
  {
   "cell_type": "code",
   "execution_count": 17,
   "id": "3e72ceeb-cad9-4145-bba8-7969fbc11093",
   "metadata": {},
   "outputs": [],
   "source": [
    "def loss_fn(y_true,y_pred):\n",
    "    loss = 0\n",
    "    loss -= (positive_weights['desert']*y_true[0]*K.log(y_pred[0]) + negative_weights['desert']*(1-y_true[0])*K.log(1-y_pred[0]))\n",
    "    loss -= (positive_weights['mountains']*y_true[1]*K.log(y_pred[1]) + negative_weights['mountains']*(1-y_true[1])*K.log(1-y_pred[1]))\n",
    "    loss -= (positive_weights['sea']*y_true[2]*K.log(y_pred[2]) + negative_weights['sea']*(1-y_true[2])*K.log(1-y_pred[2]))\n",
    "    loss -= (positive_weights['sunset']*y_true[3]*K.log(y_pred[3]) + negative_weights['sunset']*(1-y_true[3])*K.log(1-y_pred[3]))\n",
    "    loss -= (positive_weights['trees']*y_true[4]*K.log(y_pred[4]) + negative_weights['trees']*(1-y_true[4])*K.log(1-y_pred[4]))\n",
    "\n",
    "    return loss"
   ]
  },
  {
   "cell_type": "markdown",
   "id": "54bda6b7-cfdb-45f5-947e-e76d2431ee89",
   "metadata": {
    "tags": []
   },
   "source": [
    "## Compile Model"
   ]
  },
  {
   "cell_type": "code",
   "execution_count": null,
   "id": "e13e9aaf-36b0-4099-be6a-345ac3bb1ef7",
   "metadata": {},
   "outputs": [
    {
     "name": "stdout",
     "output_type": "stream",
     "text": [
      "Epoch 1/10\n",
      " 68/100 [===================>..........] - ETA: 10:03 - loss: 3.1039 - binary_accuracy: 0.6697 - auc: 0.7159"
     ]
    }
   ],
   "source": [
    "model.compile(optimizer = tf.keras.optimizers.Adam(0.00001), \n",
    "              loss = loss_fn,\n",
    "              metrics = [tf.keras.metrics.BinaryAccuracy(),tf.keras.metrics.AUC()])\n",
    "history = model.fit(train_datagen, epochs = 10, verbose = 1, validation_data = valid_datagen, shuffle = True)"
   ]
  },
  {
   "cell_type": "code",
   "execution_count": null,
   "id": "4275151f-ae43-4cf2-b966-931446f6090a",
   "metadata": {},
   "outputs": [],
   "source": []
  }
 ],
 "metadata": {
  "kernelspec": {
   "display_name": "Python 3 (ipykernel)",
   "language": "python",
   "name": "python3"
  },
  "language_info": {
   "codemirror_mode": {
    "name": "ipython",
    "version": 3
   },
   "file_extension": ".py",
   "mimetype": "text/x-python",
   "name": "python",
   "nbconvert_exporter": "python",
   "pygments_lexer": "ipython3",
   "version": "3.10.6"
  }
 },
 "nbformat": 4,
 "nbformat_minor": 5
}
