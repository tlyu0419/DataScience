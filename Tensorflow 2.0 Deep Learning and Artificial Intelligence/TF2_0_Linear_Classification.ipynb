{
 "cells": [
  {
   "cell_type": "code",
   "execution_count": 1,
   "metadata": {
    "colab": {
     "base_uri": "https://localhost:8080/"
    },
    "id": "DeNaBVyT4pn1",
    "outputId": "48c69522-bf1d-4684-ef03-68d4eb14ab78"
   },
   "outputs": [
    {
     "name": "stdout",
     "output_type": "stream",
     "text": [
      "`%tensorflow_version` only switches the major version: 1.x or 2.x.\n",
      "You set: `2.x  # Colab only.`. This will be interpreted as: `2.x`.\n",
      "\n",
      "\n",
      "TensorFlow 2.x selected.\n",
      "2.7.0\n"
     ]
    }
   ],
   "source": [
    "# Install TensorFlow\n",
    "# !pip install -q tensorflow-gpu==2.0.0-beta1\n",
    "\n",
    "try:\n",
    "  %tensorflow_version 2.x  # Colab only.\n",
    "except Exception:\n",
    "  pass\n",
    "\n",
    "import tensorflow as tf\n",
    "print(tf.__version__)"
   ]
  },
  {
   "cell_type": "code",
   "execution_count": 2,
   "metadata": {
    "id": "EtMPQxpC4xD0"
   },
   "outputs": [],
   "source": [
    "# Load in the data\n",
    "from sklearn.datasets import load_breast_cancer"
   ]
  },
  {
   "cell_type": "code",
   "execution_count": 3,
   "metadata": {
    "id": "pwJ9LvEE5B_z"
   },
   "outputs": [],
   "source": [
    "# load the data\n",
    "data = load_breast_cancer()"
   ]
  },
  {
   "cell_type": "code",
   "execution_count": 4,
   "metadata": {
    "colab": {
     "base_uri": "https://localhost:8080/"
    },
    "id": "wNkavJSj5EcV",
    "outputId": "563843a8-7fdc-4be4-a7c8-97e593b4d771"
   },
   "outputs": [
    {
     "data": {
      "text/plain": [
       "sklearn.utils.Bunch"
      ]
     },
     "execution_count": 4,
     "metadata": {},
     "output_type": "execute_result"
    }
   ],
   "source": [
    "# check the type of 'data'\n",
    "type(data)"
   ]
  },
  {
   "cell_type": "code",
   "execution_count": 5,
   "metadata": {
    "colab": {
     "base_uri": "https://localhost:8080/"
    },
    "id": "OsWYmnYR5GQq",
    "outputId": "168b4357-ba97-4900-c034-f3addcf56cd8"
   },
   "outputs": [
    {
     "data": {
      "text/plain": [
       "dict_keys(['data', 'target', 'frame', 'target_names', 'DESCR', 'feature_names', 'filename', 'data_module'])"
      ]
     },
     "execution_count": 5,
     "metadata": {},
     "output_type": "execute_result"
    }
   ],
   "source": [
    "# note: it is a Bunch object\n",
    "# this basically acts like a dictionary where you can treat the keys like attributes\n",
    "data.keys()"
   ]
  },
  {
   "cell_type": "code",
   "execution_count": 6,
   "metadata": {
    "colab": {
     "base_uri": "https://localhost:8080/"
    },
    "id": "HRYJw4hN5JXD",
    "outputId": "fa88a273-b8f8-40c7-ce0f-606a7daa0db7"
   },
   "outputs": [
    {
     "data": {
      "text/plain": [
       "(569, 30)"
      ]
     },
     "execution_count": 6,
     "metadata": {},
     "output_type": "execute_result"
    }
   ],
   "source": [
    "# 'data' (the attribute) means the input data\n",
    "data.data.shape\n",
    "# it has 569 samples, 30 features"
   ]
  },
  {
   "cell_type": "code",
   "execution_count": 7,
   "metadata": {
    "colab": {
     "base_uri": "https://localhost:8080/"
    },
    "id": "G5OVVVge5L-h",
    "outputId": "63c2e959-a2e4-44b5-b813-8abdf0e04f7b"
   },
   "outputs": [
    {
     "data": {
      "text/plain": [
       "array([0, 0, 0, 0, 0, 0, 0, 0, 0, 0, 0, 0, 0, 0, 0, 0, 0, 0, 0, 1, 1, 1,\n",
       "       0, 0, 0, 0, 0, 0, 0, 0, 0, 0, 0, 0, 0, 0, 0, 1, 0, 0, 0, 0, 0, 0,\n",
       "       0, 0, 1, 0, 1, 1, 1, 1, 1, 0, 0, 1, 0, 0, 1, 1, 1, 1, 0, 1, 0, 0,\n",
       "       1, 1, 1, 1, 0, 1, 0, 0, 1, 0, 1, 0, 0, 1, 1, 1, 0, 0, 1, 0, 0, 0,\n",
       "       1, 1, 1, 0, 1, 1, 0, 0, 1, 1, 1, 0, 0, 1, 1, 1, 1, 0, 1, 1, 0, 1,\n",
       "       1, 1, 1, 1, 1, 1, 1, 0, 0, 0, 1, 0, 0, 1, 1, 1, 0, 0, 1, 0, 1, 0,\n",
       "       0, 1, 0, 0, 1, 1, 0, 1, 1, 0, 1, 1, 1, 1, 0, 1, 1, 1, 1, 1, 1, 1,\n",
       "       1, 1, 0, 1, 1, 1, 1, 0, 0, 1, 0, 1, 1, 0, 0, 1, 1, 0, 0, 1, 1, 1,\n",
       "       1, 0, 1, 1, 0, 0, 0, 1, 0, 1, 0, 1, 1, 1, 0, 1, 1, 0, 0, 1, 0, 0,\n",
       "       0, 0, 1, 0, 0, 0, 1, 0, 1, 0, 1, 1, 0, 1, 0, 0, 0, 0, 1, 1, 0, 0,\n",
       "       1, 1, 1, 0, 1, 1, 1, 1, 1, 0, 0, 1, 1, 0, 1, 1, 0, 0, 1, 0, 1, 1,\n",
       "       1, 1, 0, 1, 1, 1, 1, 1, 0, 1, 0, 0, 0, 0, 0, 0, 0, 0, 0, 0, 0, 0,\n",
       "       0, 0, 1, 1, 1, 1, 1, 1, 0, 1, 0, 1, 1, 0, 1, 1, 0, 1, 0, 0, 1, 1,\n",
       "       1, 1, 1, 1, 1, 1, 1, 1, 1, 1, 1, 0, 1, 1, 0, 1, 0, 1, 1, 1, 1, 1,\n",
       "       1, 1, 1, 1, 1, 1, 1, 1, 1, 0, 1, 1, 1, 0, 1, 0, 1, 1, 1, 1, 0, 0,\n",
       "       0, 1, 1, 1, 1, 0, 1, 0, 1, 0, 1, 1, 1, 0, 1, 1, 1, 1, 1, 1, 1, 0,\n",
       "       0, 0, 1, 1, 1, 1, 1, 1, 1, 1, 1, 1, 1, 0, 0, 1, 0, 0, 0, 1, 0, 0,\n",
       "       1, 1, 1, 1, 1, 0, 1, 1, 1, 1, 1, 0, 1, 1, 1, 0, 1, 1, 0, 0, 1, 1,\n",
       "       1, 1, 1, 1, 0, 1, 1, 1, 1, 1, 1, 1, 0, 1, 1, 1, 1, 1, 0, 1, 1, 0,\n",
       "       1, 1, 1, 1, 1, 1, 1, 1, 1, 1, 1, 1, 0, 1, 0, 0, 1, 0, 1, 1, 1, 1,\n",
       "       1, 0, 1, 1, 0, 1, 0, 1, 1, 0, 1, 0, 1, 1, 1, 1, 1, 1, 1, 1, 0, 0,\n",
       "       1, 1, 1, 1, 1, 1, 0, 1, 1, 1, 1, 1, 1, 1, 1, 1, 1, 0, 1, 1, 1, 1,\n",
       "       1, 1, 1, 0, 1, 0, 1, 1, 0, 1, 1, 1, 1, 1, 0, 0, 1, 0, 1, 0, 1, 1,\n",
       "       1, 1, 1, 0, 1, 1, 0, 1, 0, 1, 0, 0, 1, 1, 1, 0, 1, 1, 1, 1, 1, 1,\n",
       "       1, 1, 1, 1, 1, 0, 1, 0, 0, 1, 1, 1, 1, 1, 1, 1, 1, 1, 1, 1, 1, 1,\n",
       "       1, 1, 1, 1, 1, 1, 1, 1, 1, 1, 1, 1, 0, 0, 0, 0, 0, 0, 1])"
      ]
     },
     "execution_count": 7,
     "metadata": {},
     "output_type": "execute_result"
    }
   ],
   "source": [
    "# 'targets'\n",
    "data.target\n",
    "# note how the targets are just 0s and 1s\n",
    "# normally, when you have K targets, they are labeled 0..K-1"
   ]
  },
  {
   "cell_type": "code",
   "execution_count": 8,
   "metadata": {
    "colab": {
     "base_uri": "https://localhost:8080/"
    },
    "id": "YFXPFIiB5Osq",
    "outputId": "ff3eb047-6d0f-4436-ad36-68937184aea7"
   },
   "outputs": [
    {
     "data": {
      "text/plain": [
       "array(['malignant', 'benign'], dtype='<U9')"
      ]
     },
     "execution_count": 8,
     "metadata": {},
     "output_type": "execute_result"
    }
   ],
   "source": [
    "# their meaning is not lost\n",
    "data.target_names"
   ]
  },
  {
   "cell_type": "code",
   "execution_count": 9,
   "metadata": {
    "colab": {
     "base_uri": "https://localhost:8080/"
    },
    "id": "hujO3u7j5Qm-",
    "outputId": "09666388-504b-48fc-d438-80492f5cb41e"
   },
   "outputs": [
    {
     "data": {
      "text/plain": [
       "(569,)"
      ]
     },
     "execution_count": 9,
     "metadata": {},
     "output_type": "execute_result"
    }
   ],
   "source": [
    "# there are also 569 corresponding targets\n",
    "data.target.shape"
   ]
  },
  {
   "cell_type": "code",
   "execution_count": 10,
   "metadata": {
    "colab": {
     "base_uri": "https://localhost:8080/"
    },
    "id": "q3o3h2l95SJ0",
    "outputId": "522a4c58-8d7b-40cb-d293-a03d4eeabda0"
   },
   "outputs": [
    {
     "data": {
      "text/plain": [
       "array(['mean radius', 'mean texture', 'mean perimeter', 'mean area',\n",
       "       'mean smoothness', 'mean compactness', 'mean concavity',\n",
       "       'mean concave points', 'mean symmetry', 'mean fractal dimension',\n",
       "       'radius error', 'texture error', 'perimeter error', 'area error',\n",
       "       'smoothness error', 'compactness error', 'concavity error',\n",
       "       'concave points error', 'symmetry error',\n",
       "       'fractal dimension error', 'worst radius', 'worst texture',\n",
       "       'worst perimeter', 'worst area', 'worst smoothness',\n",
       "       'worst compactness', 'worst concavity', 'worst concave points',\n",
       "       'worst symmetry', 'worst fractal dimension'], dtype='<U23')"
      ]
     },
     "execution_count": 10,
     "metadata": {},
     "output_type": "execute_result"
    }
   ],
   "source": [
    "# you can also determine the meaning of each feature\n",
    "data.feature_names"
   ]
  },
  {
   "cell_type": "code",
   "execution_count": 11,
   "metadata": {
    "id": "__iUSucB5Tug"
   },
   "outputs": [],
   "source": [
    "# normally we would put all of our imports at the top\n",
    "# but this lets us tell a story\n",
    "from sklearn.model_selection import train_test_split\n",
    "\n",
    "\n",
    "# split the data into train and test sets\n",
    "# this lets us simulate how our model will perform in the future\n",
    "X_train, X_test, y_train, y_test = train_test_split(data.data, data.target, test_size=0.33)\n",
    "N, D = X_train.shape"
   ]
  },
  {
   "cell_type": "code",
   "execution_count": 12,
   "metadata": {
    "id": "fS7cFmYl73H3"
   },
   "outputs": [],
   "source": [
    "# Scale the data\n",
    "# you'll learn why scaling is needed in a later course\n",
    "from sklearn.preprocessing import StandardScaler\n",
    "\n",
    "scaler = StandardScaler()\n",
    "X_train = scaler.fit_transform(X_train)\n",
    "X_test = scaler.transform(X_test)"
   ]
  },
  {
   "cell_type": "code",
   "execution_count": 13,
   "metadata": {
    "colab": {
     "base_uri": "https://localhost:8080/"
    },
    "id": "y-llhgXY5bmX",
    "outputId": "a3f0dba5-4aa0-4c8c-acff-c8bc24c7c1e6"
   },
   "outputs": [
    {
     "name": "stdout",
     "output_type": "stream",
     "text": [
      "Epoch 1/100\n",
      "12/12 [==============================] - 2s 17ms/step - loss: 0.6844 - accuracy: 0.5512 - val_loss: 0.6190 - val_accuracy: 0.6543\n",
      "Epoch 2/100\n",
      "12/12 [==============================] - 0s 5ms/step - loss: 0.6101 - accuracy: 0.6509 - val_loss: 0.5564 - val_accuracy: 0.7181\n",
      "Epoch 3/100\n",
      "12/12 [==============================] - 0s 5ms/step - loss: 0.5485 - accuracy: 0.7323 - val_loss: 0.5034 - val_accuracy: 0.7766\n",
      "Epoch 4/100\n",
      "12/12 [==============================] - 0s 5ms/step - loss: 0.4962 - accuracy: 0.8005 - val_loss: 0.4592 - val_accuracy: 0.8191\n",
      "Epoch 5/100\n",
      "12/12 [==============================] - 0s 6ms/step - loss: 0.4523 - accuracy: 0.8373 - val_loss: 0.4227 - val_accuracy: 0.8511\n",
      "Epoch 6/100\n",
      "12/12 [==============================] - 0s 5ms/step - loss: 0.4158 - accuracy: 0.8661 - val_loss: 0.3924 - val_accuracy: 0.8830\n",
      "Epoch 7/100\n",
      "12/12 [==============================] - 0s 5ms/step - loss: 0.3859 - accuracy: 0.8845 - val_loss: 0.3665 - val_accuracy: 0.8989\n",
      "Epoch 8/100\n",
      "12/12 [==============================] - 0s 5ms/step - loss: 0.3597 - accuracy: 0.8976 - val_loss: 0.3449 - val_accuracy: 0.9096\n",
      "Epoch 9/100\n",
      "12/12 [==============================] - 0s 5ms/step - loss: 0.3374 - accuracy: 0.9160 - val_loss: 0.3265 - val_accuracy: 0.9096\n",
      "Epoch 10/100\n",
      "12/12 [==============================] - 0s 5ms/step - loss: 0.3185 - accuracy: 0.9186 - val_loss: 0.3105 - val_accuracy: 0.9202\n",
      "Epoch 11/100\n",
      "12/12 [==============================] - 0s 5ms/step - loss: 0.3021 - accuracy: 0.9318 - val_loss: 0.2965 - val_accuracy: 0.9255\n",
      "Epoch 12/100\n",
      "12/12 [==============================] - 0s 5ms/step - loss: 0.2872 - accuracy: 0.9423 - val_loss: 0.2843 - val_accuracy: 0.9309\n",
      "Epoch 13/100\n",
      "12/12 [==============================] - 0s 5ms/step - loss: 0.2742 - accuracy: 0.9423 - val_loss: 0.2736 - val_accuracy: 0.9309\n",
      "Epoch 14/100\n",
      "12/12 [==============================] - 0s 5ms/step - loss: 0.2627 - accuracy: 0.9423 - val_loss: 0.2640 - val_accuracy: 0.9309\n",
      "Epoch 15/100\n",
      "12/12 [==============================] - 0s 5ms/step - loss: 0.2523 - accuracy: 0.9423 - val_loss: 0.2554 - val_accuracy: 0.9309\n",
      "Epoch 16/100\n",
      "12/12 [==============================] - 0s 6ms/step - loss: 0.2429 - accuracy: 0.9423 - val_loss: 0.2476 - val_accuracy: 0.9362\n",
      "Epoch 17/100\n",
      "12/12 [==============================] - 0s 6ms/step - loss: 0.2345 - accuracy: 0.9423 - val_loss: 0.2406 - val_accuracy: 0.9362\n",
      "Epoch 18/100\n",
      "12/12 [==============================] - 0s 5ms/step - loss: 0.2266 - accuracy: 0.9475 - val_loss: 0.2342 - val_accuracy: 0.9362\n",
      "Epoch 19/100\n",
      "12/12 [==============================] - 0s 5ms/step - loss: 0.2193 - accuracy: 0.9475 - val_loss: 0.2284 - val_accuracy: 0.9415\n",
      "Epoch 20/100\n",
      "12/12 [==============================] - 0s 5ms/step - loss: 0.2131 - accuracy: 0.9475 - val_loss: 0.2229 - val_accuracy: 0.9415\n",
      "Epoch 21/100\n",
      "12/12 [==============================] - 0s 6ms/step - loss: 0.2068 - accuracy: 0.9501 - val_loss: 0.2180 - val_accuracy: 0.9415\n",
      "Epoch 22/100\n",
      "12/12 [==============================] - 0s 5ms/step - loss: 0.2011 - accuracy: 0.9528 - val_loss: 0.2134 - val_accuracy: 0.9415\n",
      "Epoch 23/100\n",
      "12/12 [==============================] - 0s 5ms/step - loss: 0.1960 - accuracy: 0.9528 - val_loss: 0.2091 - val_accuracy: 0.9415\n",
      "Epoch 24/100\n",
      "12/12 [==============================] - 0s 5ms/step - loss: 0.1911 - accuracy: 0.9528 - val_loss: 0.2051 - val_accuracy: 0.9415\n",
      "Epoch 25/100\n",
      "12/12 [==============================] - 0s 5ms/step - loss: 0.1866 - accuracy: 0.9606 - val_loss: 0.2014 - val_accuracy: 0.9415\n",
      "Epoch 26/100\n",
      "12/12 [==============================] - 0s 5ms/step - loss: 0.1822 - accuracy: 0.9606 - val_loss: 0.1979 - val_accuracy: 0.9362\n",
      "Epoch 27/100\n",
      "12/12 [==============================] - 0s 5ms/step - loss: 0.1783 - accuracy: 0.9580 - val_loss: 0.1946 - val_accuracy: 0.9362\n",
      "Epoch 28/100\n",
      "12/12 [==============================] - 0s 5ms/step - loss: 0.1745 - accuracy: 0.9633 - val_loss: 0.1915 - val_accuracy: 0.9362\n",
      "Epoch 29/100\n",
      "12/12 [==============================] - 0s 5ms/step - loss: 0.1710 - accuracy: 0.9659 - val_loss: 0.1885 - val_accuracy: 0.9362\n",
      "Epoch 30/100\n",
      "12/12 [==============================] - 0s 5ms/step - loss: 0.1676 - accuracy: 0.9659 - val_loss: 0.1857 - val_accuracy: 0.9362\n",
      "Epoch 31/100\n",
      "12/12 [==============================] - 0s 6ms/step - loss: 0.1644 - accuracy: 0.9659 - val_loss: 0.1831 - val_accuracy: 0.9362\n",
      "Epoch 32/100\n",
      "12/12 [==============================] - 0s 6ms/step - loss: 0.1614 - accuracy: 0.9738 - val_loss: 0.1806 - val_accuracy: 0.9362\n",
      "Epoch 33/100\n",
      "12/12 [==============================] - 0s 5ms/step - loss: 0.1586 - accuracy: 0.9738 - val_loss: 0.1782 - val_accuracy: 0.9362\n",
      "Epoch 34/100\n",
      "12/12 [==============================] - 0s 6ms/step - loss: 0.1558 - accuracy: 0.9738 - val_loss: 0.1759 - val_accuracy: 0.9362\n",
      "Epoch 35/100\n",
      "12/12 [==============================] - 0s 6ms/step - loss: 0.1533 - accuracy: 0.9738 - val_loss: 0.1738 - val_accuracy: 0.9362\n",
      "Epoch 36/100\n",
      "12/12 [==============================] - 0s 6ms/step - loss: 0.1508 - accuracy: 0.9738 - val_loss: 0.1717 - val_accuracy: 0.9362\n",
      "Epoch 37/100\n",
      "12/12 [==============================] - 0s 6ms/step - loss: 0.1485 - accuracy: 0.9738 - val_loss: 0.1698 - val_accuracy: 0.9362\n",
      "Epoch 38/100\n",
      "12/12 [==============================] - 0s 5ms/step - loss: 0.1462 - accuracy: 0.9738 - val_loss: 0.1679 - val_accuracy: 0.9362\n",
      "Epoch 39/100\n",
      "12/12 [==============================] - 0s 6ms/step - loss: 0.1441 - accuracy: 0.9738 - val_loss: 0.1661 - val_accuracy: 0.9362\n",
      "Epoch 40/100\n",
      "12/12 [==============================] - 0s 6ms/step - loss: 0.1421 - accuracy: 0.9738 - val_loss: 0.1644 - val_accuracy: 0.9362\n",
      "Epoch 41/100\n",
      "12/12 [==============================] - 0s 6ms/step - loss: 0.1401 - accuracy: 0.9738 - val_loss: 0.1627 - val_accuracy: 0.9362\n",
      "Epoch 42/100\n",
      "12/12 [==============================] - 0s 6ms/step - loss: 0.1383 - accuracy: 0.9738 - val_loss: 0.1611 - val_accuracy: 0.9362\n",
      "Epoch 43/100\n",
      "12/12 [==============================] - 0s 6ms/step - loss: 0.1365 - accuracy: 0.9738 - val_loss: 0.1595 - val_accuracy: 0.9415\n",
      "Epoch 44/100\n",
      "12/12 [==============================] - 0s 5ms/step - loss: 0.1348 - accuracy: 0.9738 - val_loss: 0.1580 - val_accuracy: 0.9468\n",
      "Epoch 45/100\n",
      "12/12 [==============================] - 0s 5ms/step - loss: 0.1331 - accuracy: 0.9738 - val_loss: 0.1566 - val_accuracy: 0.9468\n",
      "Epoch 46/100\n",
      "12/12 [==============================] - 0s 6ms/step - loss: 0.1315 - accuracy: 0.9738 - val_loss: 0.1551 - val_accuracy: 0.9468\n",
      "Epoch 47/100\n",
      "12/12 [==============================] - 0s 6ms/step - loss: 0.1300 - accuracy: 0.9738 - val_loss: 0.1538 - val_accuracy: 0.9468\n",
      "Epoch 48/100\n",
      "12/12 [==============================] - 0s 5ms/step - loss: 0.1285 - accuracy: 0.9738 - val_loss: 0.1525 - val_accuracy: 0.9468\n",
      "Epoch 49/100\n",
      "12/12 [==============================] - 0s 5ms/step - loss: 0.1271 - accuracy: 0.9738 - val_loss: 0.1513 - val_accuracy: 0.9468\n",
      "Epoch 50/100\n",
      "12/12 [==============================] - 0s 6ms/step - loss: 0.1257 - accuracy: 0.9764 - val_loss: 0.1500 - val_accuracy: 0.9468\n",
      "Epoch 51/100\n",
      "12/12 [==============================] - 0s 5ms/step - loss: 0.1244 - accuracy: 0.9764 - val_loss: 0.1489 - val_accuracy: 0.9468\n",
      "Epoch 52/100\n",
      "12/12 [==============================] - 0s 6ms/step - loss: 0.1232 - accuracy: 0.9764 - val_loss: 0.1477 - val_accuracy: 0.9468\n",
      "Epoch 53/100\n",
      "12/12 [==============================] - 0s 5ms/step - loss: 0.1219 - accuracy: 0.9764 - val_loss: 0.1466 - val_accuracy: 0.9468\n",
      "Epoch 54/100\n",
      "12/12 [==============================] - 0s 5ms/step - loss: 0.1208 - accuracy: 0.9764 - val_loss: 0.1455 - val_accuracy: 0.9468\n",
      "Epoch 55/100\n",
      "12/12 [==============================] - 0s 5ms/step - loss: 0.1196 - accuracy: 0.9764 - val_loss: 0.1445 - val_accuracy: 0.9468\n",
      "Epoch 56/100\n",
      "12/12 [==============================] - 0s 5ms/step - loss: 0.1185 - accuracy: 0.9764 - val_loss: 0.1435 - val_accuracy: 0.9468\n",
      "Epoch 57/100\n",
      "12/12 [==============================] - 0s 5ms/step - loss: 0.1174 - accuracy: 0.9764 - val_loss: 0.1425 - val_accuracy: 0.9521\n",
      "Epoch 58/100\n",
      "12/12 [==============================] - 0s 5ms/step - loss: 0.1164 - accuracy: 0.9764 - val_loss: 0.1415 - val_accuracy: 0.9521\n",
      "Epoch 59/100\n",
      "12/12 [==============================] - 0s 5ms/step - loss: 0.1154 - accuracy: 0.9764 - val_loss: 0.1407 - val_accuracy: 0.9521\n",
      "Epoch 60/100\n",
      "12/12 [==============================] - 0s 5ms/step - loss: 0.1144 - accuracy: 0.9764 - val_loss: 0.1398 - val_accuracy: 0.9574\n",
      "Epoch 61/100\n",
      "12/12 [==============================] - 0s 6ms/step - loss: 0.1134 - accuracy: 0.9764 - val_loss: 0.1388 - val_accuracy: 0.9574\n",
      "Epoch 62/100\n",
      "12/12 [==============================] - 0s 5ms/step - loss: 0.1125 - accuracy: 0.9764 - val_loss: 0.1380 - val_accuracy: 0.9574\n",
      "Epoch 63/100\n",
      "12/12 [==============================] - 0s 5ms/step - loss: 0.1116 - accuracy: 0.9764 - val_loss: 0.1371 - val_accuracy: 0.9574\n",
      "Epoch 64/100\n",
      "12/12 [==============================] - 0s 5ms/step - loss: 0.1108 - accuracy: 0.9764 - val_loss: 0.1363 - val_accuracy: 0.9574\n",
      "Epoch 65/100\n",
      "12/12 [==============================] - 0s 6ms/step - loss: 0.1099 - accuracy: 0.9764 - val_loss: 0.1354 - val_accuracy: 0.9574\n",
      "Epoch 66/100\n",
      "12/12 [==============================] - 0s 5ms/step - loss: 0.1091 - accuracy: 0.9764 - val_loss: 0.1347 - val_accuracy: 0.9574\n",
      "Epoch 67/100\n",
      "12/12 [==============================] - 0s 5ms/step - loss: 0.1083 - accuracy: 0.9764 - val_loss: 0.1339 - val_accuracy: 0.9628\n",
      "Epoch 68/100\n",
      "12/12 [==============================] - 0s 5ms/step - loss: 0.1075 - accuracy: 0.9764 - val_loss: 0.1332 - val_accuracy: 0.9628\n",
      "Epoch 69/100\n",
      "12/12 [==============================] - 0s 6ms/step - loss: 0.1067 - accuracy: 0.9764 - val_loss: 0.1325 - val_accuracy: 0.9628\n",
      "Epoch 70/100\n",
      "12/12 [==============================] - 0s 5ms/step - loss: 0.1060 - accuracy: 0.9790 - val_loss: 0.1317 - val_accuracy: 0.9628\n",
      "Epoch 71/100\n",
      "12/12 [==============================] - 0s 5ms/step - loss: 0.1052 - accuracy: 0.9790 - val_loss: 0.1310 - val_accuracy: 0.9628\n",
      "Epoch 72/100\n",
      "12/12 [==============================] - 0s 5ms/step - loss: 0.1046 - accuracy: 0.9790 - val_loss: 0.1303 - val_accuracy: 0.9628\n",
      "Epoch 73/100\n",
      "12/12 [==============================] - 0s 6ms/step - loss: 0.1038 - accuracy: 0.9790 - val_loss: 0.1297 - val_accuracy: 0.9628\n",
      "Epoch 74/100\n",
      "12/12 [==============================] - 0s 5ms/step - loss: 0.1032 - accuracy: 0.9790 - val_loss: 0.1291 - val_accuracy: 0.9628\n",
      "Epoch 75/100\n",
      "12/12 [==============================] - 0s 5ms/step - loss: 0.1025 - accuracy: 0.9790 - val_loss: 0.1284 - val_accuracy: 0.9628\n",
      "Epoch 76/100\n",
      "12/12 [==============================] - 0s 6ms/step - loss: 0.1019 - accuracy: 0.9790 - val_loss: 0.1278 - val_accuracy: 0.9681\n",
      "Epoch 77/100\n",
      "12/12 [==============================] - 0s 6ms/step - loss: 0.1013 - accuracy: 0.9790 - val_loss: 0.1272 - val_accuracy: 0.9681\n",
      "Epoch 78/100\n",
      "12/12 [==============================] - 0s 5ms/step - loss: 0.1007 - accuracy: 0.9790 - val_loss: 0.1265 - val_accuracy: 0.9681\n",
      "Epoch 79/100\n",
      "12/12 [==============================] - 0s 5ms/step - loss: 0.1001 - accuracy: 0.9790 - val_loss: 0.1260 - val_accuracy: 0.9681\n",
      "Epoch 80/100\n",
      "12/12 [==============================] - 0s 6ms/step - loss: 0.0995 - accuracy: 0.9790 - val_loss: 0.1254 - val_accuracy: 0.9681\n",
      "Epoch 81/100\n",
      "12/12 [==============================] - 0s 5ms/step - loss: 0.0989 - accuracy: 0.9790 - val_loss: 0.1249 - val_accuracy: 0.9681\n",
      "Epoch 82/100\n",
      "12/12 [==============================] - 0s 5ms/step - loss: 0.0983 - accuracy: 0.9790 - val_loss: 0.1243 - val_accuracy: 0.9681\n",
      "Epoch 83/100\n",
      "12/12 [==============================] - 0s 6ms/step - loss: 0.0978 - accuracy: 0.9790 - val_loss: 0.1237 - val_accuracy: 0.9681\n",
      "Epoch 84/100\n",
      "12/12 [==============================] - 0s 5ms/step - loss: 0.0972 - accuracy: 0.9790 - val_loss: 0.1232 - val_accuracy: 0.9681\n",
      "Epoch 85/100\n",
      "12/12 [==============================] - 0s 5ms/step - loss: 0.0967 - accuracy: 0.9790 - val_loss: 0.1227 - val_accuracy: 0.9681\n",
      "Epoch 86/100\n",
      "12/12 [==============================] - 0s 5ms/step - loss: 0.0962 - accuracy: 0.9790 - val_loss: 0.1221 - val_accuracy: 0.9681\n",
      "Epoch 87/100\n",
      "12/12 [==============================] - 0s 5ms/step - loss: 0.0957 - accuracy: 0.9790 - val_loss: 0.1215 - val_accuracy: 0.9681\n",
      "Epoch 88/100\n",
      "12/12 [==============================] - 0s 5ms/step - loss: 0.0952 - accuracy: 0.9790 - val_loss: 0.1210 - val_accuracy: 0.9681\n",
      "Epoch 89/100\n",
      "12/12 [==============================] - 0s 5ms/step - loss: 0.0947 - accuracy: 0.9790 - val_loss: 0.1206 - val_accuracy: 0.9681\n",
      "Epoch 90/100\n",
      "12/12 [==============================] - 0s 5ms/step - loss: 0.0943 - accuracy: 0.9790 - val_loss: 0.1201 - val_accuracy: 0.9681\n",
      "Epoch 91/100\n",
      "12/12 [==============================] - 0s 5ms/step - loss: 0.0938 - accuracy: 0.9790 - val_loss: 0.1196 - val_accuracy: 0.9681\n",
      "Epoch 92/100\n",
      "12/12 [==============================] - 0s 6ms/step - loss: 0.0933 - accuracy: 0.9790 - val_loss: 0.1192 - val_accuracy: 0.9681\n",
      "Epoch 93/100\n",
      "12/12 [==============================] - 0s 6ms/step - loss: 0.0929 - accuracy: 0.9790 - val_loss: 0.1187 - val_accuracy: 0.9681\n",
      "Epoch 94/100\n",
      "12/12 [==============================] - 0s 5ms/step - loss: 0.0924 - accuracy: 0.9790 - val_loss: 0.1182 - val_accuracy: 0.9681\n",
      "Epoch 95/100\n",
      "12/12 [==============================] - 0s 5ms/step - loss: 0.0920 - accuracy: 0.9790 - val_loss: 0.1177 - val_accuracy: 0.9681\n",
      "Epoch 96/100\n",
      "12/12 [==============================] - 0s 5ms/step - loss: 0.0916 - accuracy: 0.9790 - val_loss: 0.1173 - val_accuracy: 0.9681\n",
      "Epoch 97/100\n",
      "12/12 [==============================] - 0s 5ms/step - loss: 0.0912 - accuracy: 0.9790 - val_loss: 0.1169 - val_accuracy: 0.9681\n",
      "Epoch 98/100\n",
      "12/12 [==============================] - 0s 5ms/step - loss: 0.0907 - accuracy: 0.9790 - val_loss: 0.1164 - val_accuracy: 0.9681\n",
      "Epoch 99/100\n",
      "12/12 [==============================] - 0s 5ms/step - loss: 0.0903 - accuracy: 0.9790 - val_loss: 0.1160 - val_accuracy: 0.9681\n",
      "Epoch 100/100\n",
      "12/12 [==============================] - 0s 6ms/step - loss: 0.0900 - accuracy: 0.9790 - val_loss: 0.1156 - val_accuracy: 0.9681\n",
      "12/12 [==============================] - 0s 3ms/step - loss: 0.0897 - accuracy: 0.9790\n",
      "Train score: [0.08971891552209854, 0.9790025949478149]\n",
      "6/6 [==============================] - 0s 3ms/step - loss: 0.1156 - accuracy: 0.9681\n",
      "Test score: [0.11559909582138062, 0.9680851101875305]\n"
     ]
    }
   ],
   "source": [
    "# Now all the fun Tensorflow stuff\n",
    "# Build the model\n",
    "\n",
    "model = tf.keras.models.Sequential([\n",
    "  tf.keras.layers.Input(shape=(D,)),\n",
    "  tf.keras.layers.Dense(1, activation='sigmoid')\n",
    "])\n",
    "\n",
    "# Alternatively, you can do:\n",
    "# model = tf.keras.models.Sequential()\n",
    "# model.add(tf.keras.layers.Dense(1, input_shape=(D,), activation='sigmoid'))\n",
    "\n",
    "model.compile(optimizer='adam',\n",
    "              loss='binary_crossentropy',\n",
    "              metrics=['accuracy'])\n",
    "\n",
    "\n",
    "# Train the model\n",
    "r = model.fit(X_train, y_train, validation_data=(X_test, y_test), epochs=100)\n",
    "\n",
    "\n",
    "# Evaluate the model - evaluate() returns loss and accuracy\n",
    "print(\"Train score:\", model.evaluate(X_train, y_train))\n",
    "print(\"Test score:\", model.evaluate(X_test, y_test))"
   ]
  },
  {
   "cell_type": "code",
   "execution_count": 14,
   "metadata": {
    "colab": {
     "base_uri": "https://localhost:8080/",
     "height": 282
    },
    "id": "W0fK5PQc8aJ_",
    "outputId": "432eb366-1405-4a39-f2ac-a139a6a15557"
   },
   "outputs": [
    {
     "data": {
      "text/plain": [
       "<matplotlib.legend.Legend at 0x7f0c544bed50>"
      ]
     },
     "execution_count": 14,
     "metadata": {},
     "output_type": "execute_result"
    },
    {
     "data": {
      "image/png": "[encoded data removed]",
      "text/plain": [
       "<Figure size 432x288 with 1 Axes>"
      ]
     },
     "metadata": {
      "needs_background": "light"
     },
     "output_type": "display_data"
    }
   ],
   "source": [
    "# Plot what's returned by model.fit()\n",
    "import matplotlib.pyplot as plt\n",
    "plt.plot(r.history['loss'], label='loss')\n",
    "plt.plot(r.history['val_loss'], label='val_loss')\n",
    "plt.legend()"
   ]
  },
  {
   "cell_type": "code",
   "execution_count": 15,
   "metadata": {
    "colab": {
     "base_uri": "https://localhost:8080/",
     "height": 286
    },
    "id": "VBAA2UY28vJN",
    "outputId": "7e8d7815-ae1d-45a6-80dc-b9f722448b63"
   },
   "outputs": [
    {
     "data": {
      "text/plain": [
       "<matplotlib.legend.Legend at 0x7f0c5448c1d0>"
      ]
     },
     "execution_count": 15,
     "metadata": {},
     "output_type": "execute_result"
    },
    {
     "data": {
      "image/png": "[encoded data removed]",
      "text/plain": [
       "<Figure size 432x288 with 1 Axes>"
      ]
     },
     "metadata": {
      "needs_background": "light"
     },
     "output_type": "display_data"
    }
   ],
   "source": [
    "# Plot the accuracy too\n",
    "plt.plot(r.history['accuracy'], label='acc')\n",
    "plt.plot(r.history['val_accuracy'], label='val_acc')\n",
    "plt.legend()"
   ]
  },
  {
   "cell_type": "markdown",
   "metadata": {
    "id": "GrZnHBI8NH-u"
   },
   "source": [
    "# Part 2: Making Predictions\n",
    "\n",
    "This goes with the lecture \"Making Predictions\""
   ]
  },
  {
   "cell_type": "code",
   "execution_count": 16,
   "metadata": {
    "colab": {
     "base_uri": "https://localhost:8080/"
    },
    "id": "Ss1LJwIVKREf",
    "outputId": "731c2372-c9ba-40f2-bcd7-75546dd4def5"
   },
   "outputs": [
    {
     "name": "stdout",
     "output_type": "stream",
     "text": [
      "[[1.5997430e-04]\n",
      " [1.5176971e-03]\n",
      " [9.2090911e-01]\n",
      " [8.8902813e-01]\n",
      " [9.9741322e-01]\n",
      " [9.5696217e-01]\n",
      " [9.8602200e-01]\n",
      " [9.8820823e-01]\n",
      " [9.5357352e-01]\n",
      " [9.9994349e-01]\n",
      " [2.4745740e-01]\n",
      " [1.4127681e-05]\n",
      " [9.6062279e-01]\n",
      " [9.5967662e-01]\n",
      " [3.9666724e-05]\n",
      " [9.9461234e-01]\n",
      " [9.2233092e-01]\n",
      " [9.9277002e-01]\n",
      " [7.5820929e-01]\n",
      " [9.2155647e-01]\n",
      " [3.0166386e-03]\n",
      " [2.4177690e-04]\n",
      " [6.3125855e-01]\n",
      " [6.2817596e-03]\n",
      " [9.6478337e-01]\n",
      " [9.9147391e-01]\n",
      " [9.9611157e-01]\n",
      " [9.9322236e-01]\n",
      " [9.8428810e-01]\n",
      " [9.9212962e-01]\n",
      " [9.9935108e-01]\n",
      " [9.8839873e-01]\n",
      " [9.9991381e-01]\n",
      " [9.9521554e-01]\n",
      " [1.4209134e-02]\n",
      " [9.8767287e-01]\n",
      " [2.2425405e-03]\n",
      " [1.2589858e-01]\n",
      " [2.4403704e-02]\n",
      " [7.9728123e-03]\n",
      " [9.8751217e-01]\n",
      " [5.5695480e-01]\n",
      " [7.8458589e-01]\n",
      " [1.4742810e-01]\n",
      " [9.9960440e-01]\n",
      " [9.9099624e-01]\n",
      " [9.2067057e-01]\n",
      " [8.8280135e-01]\n",
      " [9.9218208e-01]\n",
      " [9.8551428e-01]\n",
      " [9.1895086e-01]\n",
      " [9.5314717e-01]\n",
      " [6.8206406e-01]\n",
      " [9.9877053e-01]\n",
      " [8.8928795e-01]\n",
      " [3.7786371e-01]\n",
      " [4.8944971e-01]\n",
      " [9.9961287e-01]\n",
      " [6.4973446e-04]\n",
      " [1.1678454e-06]\n",
      " [9.6342808e-01]\n",
      " [9.9876815e-01]\n",
      " [7.9679859e-01]\n",
      " [5.4567982e-04]\n",
      " [9.5800054e-01]\n",
      " [7.5810915e-01]\n",
      " [8.7447375e-01]\n",
      " [3.0350026e-01]\n",
      " [9.9730045e-01]\n",
      " [1.5883070e-01]\n",
      " [2.9185612e-02]\n",
      " [9.8983252e-01]\n",
      " [9.9414861e-01]\n",
      " [6.7182386e-01]\n",
      " [9.9268895e-01]\n",
      " [9.9840921e-01]\n",
      " [4.8635022e-05]\n",
      " [4.6793681e-01]\n",
      " [7.0541160e-04]\n",
      " [9.1957217e-01]\n",
      " [9.9172568e-01]\n",
      " [9.9683279e-01]\n",
      " [9.6484804e-01]\n",
      " [1.4152737e-05]\n",
      " [9.7827005e-01]\n",
      " [9.9505049e-01]\n",
      " [5.0645368e-03]\n",
      " [9.4262201e-01]\n",
      " [9.7453221e-06]\n",
      " [9.9863094e-01]\n",
      " [5.1284212e-01]\n",
      " [5.8020401e-04]\n",
      " [9.0328860e-01]\n",
      " [6.0192215e-01]\n",
      " [8.0895317e-01]\n",
      " [9.9712831e-01]\n",
      " [3.0694372e-04]\n",
      " [9.9900264e-01]\n",
      " [9.9955934e-01]\n",
      " [8.6197973e-04]\n",
      " [9.9945825e-01]\n",
      " [7.9527669e-02]\n",
      " [1.7345900e-02]\n",
      " [2.2330626e-03]\n",
      " [8.3962417e-01]\n",
      " [2.1070718e-04]\n",
      " [9.8609447e-01]\n",
      " [9.3871230e-01]\n",
      " [9.8392844e-01]\n",
      " [9.9946135e-01]\n",
      " [2.5544330e-01]\n",
      " [9.9056554e-01]\n",
      " [4.7135273e-01]\n",
      " [8.6164606e-01]\n",
      " [9.9619484e-01]\n",
      " [4.8657078e-02]\n",
      " [1.2922476e-01]\n",
      " [1.0958877e-03]\n",
      " [8.9231837e-01]\n",
      " [3.9509819e-03]\n",
      " [6.5210778e-01]\n",
      " [5.7532962e-02]\n",
      " [9.7373813e-01]\n",
      " [8.4182657e-03]\n",
      " [9.7998446e-01]\n",
      " [7.6027220e-01]\n",
      " [9.8763102e-01]\n",
      " [9.9900025e-01]\n",
      " [9.8616886e-01]\n",
      " [8.9731795e-01]\n",
      " [8.5319358e-01]\n",
      " [9.9508423e-01]\n",
      " [9.9953139e-01]\n",
      " [4.1426444e-01]\n",
      " [1.5961719e-01]\n",
      " [8.9552152e-01]\n",
      " [9.8795438e-01]\n",
      " [9.9273974e-01]\n",
      " [9.0330553e-01]\n",
      " [9.9671340e-01]\n",
      " [9.9681252e-01]\n",
      " [1.2157874e-03]\n",
      " [1.1172084e-01]\n",
      " [4.9277160e-02]\n",
      " [1.6571965e-02]\n",
      " [9.3817675e-01]\n",
      " [9.9914336e-01]\n",
      " [9.7999877e-01]\n",
      " [8.0257639e-02]\n",
      " [9.8080802e-01]\n",
      " [9.9428540e-01]\n",
      " [9.3786031e-01]\n",
      " [1.3350971e-01]\n",
      " [9.4595152e-01]\n",
      " [9.9300557e-01]\n",
      " [2.6308326e-04]\n",
      " [5.4149580e-04]\n",
      " [9.9930465e-01]\n",
      " [6.2766318e-05]\n",
      " [9.7967654e-01]\n",
      " [9.9520952e-01]\n",
      " [9.9744189e-01]\n",
      " [1.3846429e-03]\n",
      " [6.5629728e-02]\n",
      " [2.4145646e-02]\n",
      " [9.8792945e-08]\n",
      " [7.9252180e-03]\n",
      " [3.4003570e-08]\n",
      " [9.9718875e-01]\n",
      " [4.2989311e-01]\n",
      " [9.9369097e-01]\n",
      " [9.7992009e-01]\n",
      " [9.9517435e-01]\n",
      " [2.8824550e-03]\n",
      " [9.8757881e-01]\n",
      " [9.9692196e-01]\n",
      " [9.9269885e-01]\n",
      " [9.6947271e-01]\n",
      " [5.3785062e-01]\n",
      " [9.9015498e-01]\n",
      " [9.9432939e-01]\n",
      " [7.9447748e-03]\n",
      " [8.9290237e-01]\n",
      " [9.9672419e-01]\n",
      " [9.8354083e-01]\n",
      " [2.8538162e-01]\n",
      " [9.9675971e-01]\n",
      " [9.9911398e-01]]\n"
     ]
    }
   ],
   "source": [
    "# Make predictions\n",
    "P = model.predict(X_test)\n",
    "print(P) # they are outputs of the sigmoid, interpreted as probabilities p(y = 1 | x)"
   ]
  },
  {
   "cell_type": "code",
   "execution_count": 17,
   "metadata": {
    "colab": {
     "base_uri": "https://localhost:8080/"
    },
    "id": "Tv0cN7J6KoVu",
    "outputId": "17cfd948-6f37-40a4-c848-088ef1de32c8"
   },
   "outputs": [
    {
     "name": "stdout",
     "output_type": "stream",
     "text": [
      "[0. 0. 1. 1. 1. 1. 1. 1. 1. 1. 0. 0. 1. 1. 0. 1. 1. 1. 1. 1. 0. 0. 1. 0.\n",
      " 1. 1. 1. 1. 1. 1. 1. 1. 1. 1. 0. 1. 0. 0. 0. 0. 1. 1. 1. 0. 1. 1. 1. 1.\n",
      " 1. 1. 1. 1. 1. 1. 1. 0. 0. 1. 0. 0. 1. 1. 1. 0. 1. 1. 1. 0. 1. 0. 0. 1.\n",
      " 1. 1. 1. 1. 0. 0. 0. 1. 1. 1. 1. 0. 1. 1. 0. 1. 0. 1. 1. 0. 1. 1. 1. 1.\n",
      " 0. 1. 1. 0. 1. 0. 0. 0. 1. 0. 1. 1. 1. 1. 0. 1. 0. 1. 1. 0. 0. 0. 1. 0.\n",
      " 1. 0. 1. 0. 1. 1. 1. 1. 1. 1. 1. 1. 1. 0. 0. 1. 1. 1. 1. 1. 1. 0. 0. 0.\n",
      " 0. 1. 1. 1. 0. 1. 1. 1. 0. 1. 1. 0. 0. 1. 0. 1. 1. 1. 0. 0. 0. 0. 0. 0.\n",
      " 1. 0. 1. 1. 1. 0. 1. 1. 1. 1. 1. 1. 1. 0. 1. 1. 1. 0. 1. 1.]\n"
     ]
    }
   ],
   "source": [
    "# Round to get the actual predictions\n",
    "# Note: has to be flattened since the targets are size (N,) while the predictions are size (N,1)\n",
    "import numpy as np\n",
    "P = np.round(P).flatten()\n",
    "print(P)"
   ]
  },
  {
   "cell_type": "code",
   "execution_count": 18,
   "metadata": {
    "colab": {
     "base_uri": "https://localhost:8080/"
    },
    "id": "yJU09XkmK4nQ",
    "outputId": "e3612dd9-389b-4666-a1b2-37f760638dbb"
   },
   "outputs": [
    {
     "name": "stdout",
     "output_type": "stream",
     "text": [
      "Manually calculated accuracy: 0.9680851063829787\n",
      "6/6 [==============================] - 0s 3ms/step - loss: 0.1156 - accuracy: 0.9681\n",
      "Evaluate output: [0.11559909582138062, 0.9680851101875305]\n"
     ]
    }
   ],
   "source": [
    "# Calculate the accuracy, compare it to evaluate() output\n",
    "print(\"Manually calculated accuracy:\", np.mean(P == y_test))\n",
    "print(\"Evaluate output:\", model.evaluate(X_test, y_test))"
   ]
  },
  {
   "cell_type": "markdown",
   "metadata": {
    "id": "iogYs0uGNS4l"
   },
   "source": [
    "# Part 3: Saving and Loading a Model\n",
    "\n",
    "This goes with the lecture \"Saving and Loading a Model\""
   ]
  },
  {
   "cell_type": "code",
   "execution_count": 19,
   "metadata": {
    "id": "L1uHxJ2SNXan"
   },
   "outputs": [],
   "source": [
    "# Let's now save our model to a file\n",
    "model.save('linearclassifier.h5')"
   ]
  },
  {
   "cell_type": "code",
   "execution_count": 20,
   "metadata": {
    "colab": {
     "base_uri": "https://localhost:8080/"
    },
    "id": "F6PHmjb0OFBf",
    "outputId": "5b1a1867-6fca-49da-d235-d62cf098df65"
   },
   "outputs": [
    {
     "name": "stdout",
     "output_type": "stream",
     "text": [
      "total 24K\n",
      "-rw-r--r-- 1 root root  19K Feb  2 08:36 linearclassifier.h5\n",
      "drwxr-xr-x 1 root root 4.0K Jan  7 14:33 sample_data\n"
     ]
    }
   ],
   "source": [
    "# Check that the model file exists\n",
    "!ls -lh "
   ]
  },
  {
   "cell_type": "code",
   "execution_count": 21,
   "metadata": {
    "colab": {
     "base_uri": "https://localhost:8080/"
    },
    "id": "FgFBrBveNoOR",
    "outputId": "4846b5d8-4133-4773-978e-fbf8b81b0f6d"
   },
   "outputs": [
    {
     "name": "stdout",
     "output_type": "stream",
     "text": [
      "[<keras.layers.core.dense.Dense object at 0x7f0c541e3650>]\n",
      "6/6 [==============================] - 0s 3ms/step - loss: 0.1156 - accuracy: 0.9681\n"
     ]
    },
    {
     "data": {
      "text/plain": [
       "[0.11559909582138062, 0.9680851101875305]"
      ]
     },
     "execution_count": 21,
     "metadata": {},
     "output_type": "execute_result"
    }
   ],
   "source": [
    "# Let's load the model and confirm that it still works\n",
    "# Note: there is a bug in Keras where load/save only works if you DON'T use the Input() layer explicitly\n",
    "# So, make sure you define the model with ONLY Dense(1, input_shape=(D,))\n",
    "# At least, until the bug is fixed\n",
    "# https://github.com/keras-team/keras/issues/10417\n",
    "model = tf.keras.models.load_model('linearclassifier.h5')\n",
    "print(model.layers)\n",
    "model.evaluate(X_test, y_test)"
   ]
  },
  {
   "cell_type": "code",
   "execution_count": 22,
   "metadata": {
    "colab": {
     "base_uri": "https://localhost:8080/",
     "height": 17
    },
    "id": "_8rGQI-Rpo2T",
    "outputId": "2fb9b952-58f4-4369-8e96-006b3f36452b"
   },
   "outputs": [
    {
     "data": {
      "application/javascript": [
       "\n",
       "    async function download(id, filename, size) {\n",
       "      if (!google.colab.kernel.accessAllowed) {\n",
       "        return;\n",
       "      }\n",
       "      const div = document.createElement('div');\n",
       "      const label = document.createElement('label');\n",
       "      label.textContent = `Downloading \"${filename}\": `;\n",
       "      div.appendChild(label);\n",
       "      const progress = document.createElement('progress');\n",
       "      progress.max = size;\n",
       "      div.appendChild(progress);\n",
       "      document.body.appendChild(div);\n",
       "\n",
       "      const buffers = [];\n",
       "      let downloaded = 0;\n",
       "\n",
       "      const channel = await google.colab.kernel.comms.open(id);\n",
       "      // Send a message to notify the kernel that we're ready.\n",
       "      channel.send({})\n",
       "\n",
       "      for await (const message of channel.messages) {\n",
       "        // Send a message to notify the kernel that we're ready.\n",
       "        channel.send({})\n",
       "        if (message.buffers) {\n",
       "          for (const buffer of message.buffers) {\n",
       "            buffers.push(buffer);\n",
       "            downloaded += buffer.byteLength;\n",
       "            progress.value = downloaded;\n",
       "          }\n",
       "        }\n",
       "      }\n",
       "      const blob = new Blob(buffers, {type: 'application/binary'});\n",
       "      const a = document.createElement('a');\n",
       "      a.href = window.URL.createObjectURL(blob);\n",
       "      a.download = filename;\n",
       "      div.appendChild(a);\n",
       "      a.click();\n",
       "      div.remove();\n",
       "    }\n",
       "  "
      ],
      "text/plain": [
       "<IPython.core.display.Javascript object>"
      ]
     },
     "metadata": {},
     "output_type": "display_data"
    },
    {
     "data": {
      "application/javascript": [
       "download(\"download_eba3cfad-460e-4829-98c8-a27d320f0a69\", \"linearclassifier.h5\", 19312)"
      ],
      "text/plain": [
       "<IPython.core.display.Javascript object>"
      ]
     },
     "metadata": {},
     "output_type": "display_data"
    }
   ],
   "source": [
    "\n",
    "# Download the file - requires Chrome (at this point)\n",
    "from google.colab import files\n",
    "files.download('linearclassifier.h5')"
   ]
  },
  {
   "cell_type": "code",
   "execution_count": null,
   "metadata": {
    "id": "Ij8Wvgk_lPLx"
   },
   "outputs": [],
   "source": []
  }
 ],
 "metadata": {
  "accelerator": "GPU",
  "colab": {
   "collapsed_sections": [],
   "name": "TF2.0 Linear Classification.ipynb",
   "provenance": []
  },
  "kernelspec": {
   "display_name": "Python 3 (ipykernel)",
   "language": "python",
   "name": "python3"
  },
  "language_info": {
   "codemirror_mode": {
    "name": "ipython",
    "version": 3
   },
   "file_extension": ".py",
   "mimetype": "text/x-python",
   "name": "python",
   "nbconvert_exporter": "python",
   "pygments_lexer": "ipython3",
   "version": "3.8.10"
  }
 },
 "nbformat": 4,
 "nbformat_minor": 4
}
